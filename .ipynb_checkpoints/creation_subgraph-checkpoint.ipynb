{
 "cells": [
  {
   "cell_type": "markdown",
   "id": "10e40e1a-696d-475d-a608-7728670c4fad",
   "metadata": {},
   "source": [
    "# WEB MINING PROJECT"
   ]
  },
  {
   "cell_type": "code",
   "execution_count": 1,
   "id": "ecc452be-0c81-4bae-a5fe-670c03ab294b",
   "metadata": {},
   "outputs": [],
   "source": [
    "%matplotlib inline\n",
    "\n",
    "import networkx as nx\n",
    "from networkx.algorithms import community\n",
    "import pandas as pd\n",
    "import seaborn as sns\n",
    "from scipy import stats\n",
    "import matplotlib.pyplot as plt\n",
    "from collections import defaultdict"
   ]
  },
  {
   "cell_type": "code",
   "execution_count": 2,
   "id": "049913a0",
   "metadata": {},
   "outputs": [],
   "source": [
    "pathData = r\"DATASET-20240130\\database\\Everything\\database_formated_for_NetworkX.graphml\"\n",
    "g = nx.read_graphml(pathData)"
   ]
  },
  {
   "cell_type": "code",
   "execution_count": 3,
   "id": "b36421fc",
   "metadata": {},
   "outputs": [
    {
     "name": "stdout",
     "output_type": "stream",
     "text": [
      "MultiDiGraph with 109627 nodes and 311654 edges\n"
     ]
    }
   ],
   "source": [
    "print(g)"
   ]
  },
  {
   "cell_type": "markdown",
   "id": "8e7f4a61-fb76-41cb-9dca-acad294da779",
   "metadata": {},
   "source": [
    "# 4.1 Describe the Social Network and Mine Actionable Information from it\n",
    "### Importation of data"
   ]
  },
  {
   "cell_type": "markdown",
   "id": "c95322e8-5a8b-4e10-92f0-3b2b72954e67",
   "metadata": {},
   "source": [
    "### Creation of 6 subgraphs : 1 by eventType\n",
    "Initially, we create a list containing the 'Event' nodes and a list containing the different eventType."
   ]
  },
  {
   "cell_type": "code",
   "execution_count": 4,
   "id": "aa493757-a2fa-4177-a437-89245da04c1d",
   "metadata": {},
   "outputs": [],
   "source": [
    "nodes = []\n",
    "for node in g.nodes :\n",
    "    if g.nodes[node]['labels'] == ':Event':\n",
    "        nodes.append(node)"
   ]
  },
  {
   "cell_type": "code",
   "execution_count": 5,
   "id": "5ef90431-1b3a-4e69-b7b4-8edfdf33f48c",
   "metadata": {},
   "outputs": [
    {
     "data": {
      "text/plain": [
       "{'bombing', 'earthquake', 'flood', 'shooting', 'typhoon', 'wildfire'}"
      ]
     },
     "execution_count": 5,
     "metadata": {},
     "output_type": "execute_result"
    }
   ],
   "source": [
    "liste = []\n",
    "for node in nodes : \n",
    "    liste.append(g.nodes[node][\"eventType\"])\n",
    "set(liste)"
   ]
  },
  {
   "cell_type": "code",
   "execution_count": 6,
   "id": "7cb2cfbc-2a4e-4958-a0f7-9e3b7f3fe6c1",
   "metadata": {},
   "outputs": [],
   "source": [
    "bombing = []\n",
    "earthquake = []\n",
    "flood = []\n",
    "shooting = []\n",
    "typhoon = []\n",
    "wildfire = []\n",
    "\n",
    "for node in nodes :\n",
    "    if g.nodes[node][\"eventType\"] == 'bombing':\n",
    "        bombing.append(node)\n",
    "    if g.nodes[node][\"eventType\"] == 'earthquake':\n",
    "        earthquake.append(node)\n",
    "    if g.nodes[node][\"eventType\"] == 'flood':\n",
    "        flood.append(node)\n",
    "    if g.nodes[node][\"eventType\"] == 'shooting':\n",
    "        shooting.append(node)\n",
    "    if g.nodes[node][\"eventType\"] == 'typhoon':\n",
    "        typhoon.append(node)\n",
    "    if g.nodes[node][\"eventType\"] == 'wildfire':\n",
    "        wildfire.append(node)"
   ]
  },
  {
   "cell_type": "markdown",
   "id": "b73b9756",
   "metadata": {},
   "source": [
    "Creation of lists of nodes (EVENT, USER and TWEET) for each eventType by looking at the nodes that are linked with EVENT edges in the previous lists."
   ]
  },
  {
   "cell_type": "code",
   "execution_count": 7,
   "id": "2f1492cd-e71a-4399-a234-0d5f052a9bb6",
   "metadata": {},
   "outputs": [],
   "source": [
    "bombing_edges = []\n",
    "earthquake_edges = []\n",
    "flood_edges = []\n",
    "shooting_edges = []\n",
    "typhoon_edges = []\n",
    "wildfire_edges = []\n",
    "\n",
    "edges = list(g.edges())\n",
    "\n",
    "for i in range(len(edges)):\n",
    "    for node in bombing :\n",
    "        if str(node) in edges[i] : \n",
    "            bombing_edges.append(edges[i])\n",
    "    for node in earthquake :\n",
    "        if str(node) in edges[i] : \n",
    "            earthquake_edges.append(edges[i])\n",
    "    for node in flood :\n",
    "        if str(node) in edges[i] : \n",
    "            flood_edges.append(edges[i])\n",
    "    for node in shooting :\n",
    "        if str(node) in edges[i] : \n",
    "            shooting_edges.append(edges[i])\n",
    "    for node in typhoon :\n",
    "        if str(node) in edges[i] : \n",
    "            typhoon_edges.append(edges[i])\n",
    "    for node in wildfire :\n",
    "        if str(node) in edges[i] : \n",
    "            wildfire_edges.append(edges[i])   "
   ]
  },
  {
   "cell_type": "markdown",
   "id": "0df90ca1",
   "metadata": {},
   "source": [
    "initialization of sub-graphs"
   ]
  },
  {
   "cell_type": "code",
   "execution_count": 8,
   "id": "34f9a9d8-26f7-4ef7-b1d8-0428f0d9ff42",
   "metadata": {},
   "outputs": [
    {
     "name": "stdout",
     "output_type": "stream",
     "text": [
      "MultiDiGraph with 5518 nodes and 8427 edges\n"
     ]
    }
   ],
   "source": [
    "graph_bombing_nodes = nx.Graph()\n",
    "graph_bombing_nodes.add_edges_from(bombing_edges)\n",
    "g_bombing = g.subgraph(graph_bombing_nodes.nodes())\n",
    "print(g_bombing)"
   ]
  },
  {
   "cell_type": "code",
   "execution_count": 9,
   "id": "5fb94026-4e97-4788-815e-354524740df8",
   "metadata": {},
   "outputs": [
    {
     "name": "stdout",
     "output_type": "stream",
     "text": [
      "MultiDiGraph with 17843 nodes and 28769 edges\n"
     ]
    }
   ],
   "source": [
    "graph_earthquake_nodes = nx.Graph()\n",
    "graph_earthquake_nodes.add_edges_from(earthquake_edges)\n",
    "g_earthquake = g.subgraph(graph_earthquake_nodes.nodes())\n",
    "print(g_earthquake)"
   ]
  },
  {
   "cell_type": "code",
   "execution_count": 10,
   "id": "6c833082-4f3f-4af2-967d-e79488a4821f",
   "metadata": {},
   "outputs": [
    {
     "name": "stdout",
     "output_type": "stream",
     "text": [
      "MultiDiGraph with 7979 nodes and 14017 edges\n"
     ]
    }
   ],
   "source": [
    "graph_flood_nodes = nx.Graph()\n",
    "graph_flood_nodes.add_edges_from(flood_edges)\n",
    "g_flood = g.subgraph(graph_flood_nodes.nodes())\n",
    "print(g_flood)"
   ]
  },
  {
   "cell_type": "code",
   "execution_count": 11,
   "id": "8b1cc671-c40c-441b-9235-84aaaada3075",
   "metadata": {},
   "outputs": [
    {
     "name": "stdout",
     "output_type": "stream",
     "text": [
      "MultiDiGraph with 10804 nodes and 18345 edges\n"
     ]
    }
   ],
   "source": [
    "graph_shooting_nodes = nx.Graph()\n",
    "graph_shooting_nodes.add_edges_from(shooting_edges)\n",
    "g_shooting = g.subgraph(graph_shooting_nodes.nodes())\n",
    "print(g_shooting)"
   ]
  },
  {
   "cell_type": "code",
   "execution_count": 12,
   "id": "28ceaca4-8e91-4855-9dae-90f4cd992e8d",
   "metadata": {},
   "outputs": [
    {
     "name": "stdout",
     "output_type": "stream",
     "text": [
      "MultiDiGraph with 16023 nodes and 27262 edges\n"
     ]
    }
   ],
   "source": [
    "graph_typhoon_nodes = nx.Graph()\n",
    "graph_typhoon_nodes.add_edges_from(typhoon_edges)\n",
    "g_typhoon = g.subgraph(graph_typhoon_nodes.nodes())\n",
    "print(g_typhoon)"
   ]
  },
  {
   "cell_type": "code",
   "execution_count": 13,
   "id": "48da4e75-967c-411e-928c-8d42b8857faf",
   "metadata": {},
   "outputs": [
    {
     "name": "stdout",
     "output_type": "stream",
     "text": [
      "MultiDiGraph with 9377 nodes and 18671 edges\n"
     ]
    }
   ],
   "source": [
    "graph_wildfire_nodes = nx.Graph()\n",
    "graph_wildfire_nodes.add_edges_from(wildfire_edges)\n",
    "g_wildfire = g.subgraph(graph_wildfire_nodes.nodes())\n",
    "print(g_wildfire)"
   ]
  },
  {
   "cell_type": "markdown",
   "id": "d75455ec",
   "metadata": {},
   "source": [
    "### The distributions of the tweet posts and their main topics w.r.t levels of criticality among the “Low”, “Medium”, “High” and “Critical”."
   ]
  },
  {
   "cell_type": "code",
   "execution_count": 14,
   "id": "2f2cc381",
   "metadata": {},
   "outputs": [],
   "source": [
    "sub_graph = [g_bombing , g_earthquake , g_flood , g_shooting , g_typhoon , g_wildfire]\n",
    "sub_graph_name = [\"g_bombing\" , \"g_earthquake\" , \"g_flood\" , \"g_shooting\" , \"g_typhoon\" , \"g_wildfire\"]\n",
    "annotation_postPriority = [\"Low\", \"Medium\", \"High\" , \"Critical\"]"
   ]
  },
  {
   "cell_type": "code",
   "execution_count": 15,
   "id": "c49a3aaf",
   "metadata": {},
   "outputs": [],
   "source": [
    "freq_list_global = []\n",
    "\n",
    "for i in range (len(sub_graph)) : #for every subrgaph : \n",
    "    \n",
    "    freq_list = []\n",
    "    \n",
    "    nodes_tweet = []\n",
    "    \n",
    "    for node in sub_graph[i].nodes :\n",
    "        if sub_graph[i].nodes[node]['labels'] == ':Tweet':\n",
    "            nodes_tweet.append(node)\n",
    "            \n",
    "    for j in range (len(annotation_postPriority)) : #for every annotation\n",
    "        \n",
    "        liste_nodes_annotation_i = []\n",
    "        for node in nodes_tweet :\n",
    "            if g.nodes[node][\"annotation_postPriority\"] == annotation_postPriority[j] :\n",
    "                liste_nodes_annotation_i.append(node)\n",
    "        freq = len(liste_nodes_annotation_i)/len(nodes_tweet)\n",
    "        freq_list.append(freq) \n",
    "        \n",
    "    freq_list_global.append(freq_list)         "
   ]
  },
  {
   "cell_type": "code",
   "execution_count": 18,
   "id": "33a7c8f4",
   "metadata": {},
   "outputs": [
    {
     "data": {
      "image/png": "[encoded data removed]",
      "text/plain": [
       "<Figure size 720x432 with 1 Axes>"
      ]
     },
     "metadata": {
      "needs_background": "light"
     },
     "output_type": "display_data"
    },
    {
     "data": {
      "image/png": "[encoded data removed]",
      "text/plain": [
       "<Figure size 720x432 with 1 Axes>"
      ]
     },
     "metadata": {
      "needs_background": "light"
     },
     "output_type": "display_data"
    },
    {
     "data": {
      "image/png": "[encoded data removed]",
      "text/plain": [
       "<Figure size 720x432 with 1 Axes>"
      ]
     },
     "metadata": {
      "needs_background": "light"
     },
     "output_type": "display_data"
    },
    {
     "data": {
      "image/png": "[encoded data removed]",
      "text/plain": [
       "<Figure size 720x432 with 1 Axes>"
      ]
     },
     "metadata": {
      "needs_background": "light"
     },
     "output_type": "display_data"
    },
    {
     "data": {
      "image/png": "[encoded data removed]",
      "text/plain": [
       "<Figure size 720x432 with 1 Axes>"
      ]
     },
     "metadata": {
      "needs_background": "light"
     },
     "output_type": "display_data"
    },
    {
     "data": {
      "image/png": "[encoded data removed]",
      "text/plain": [
       "<Figure size 720x432 with 1 Axes>"
      ]
     },
     "metadata": {
      "needs_background": "light"
     },
     "output_type": "display_data"
    }
   ],
   "source": [
    "max_freq = max([max(freq) for freq in freq_list_global])\n",
    "\n",
    "for i in range(len(sub_graph_name)):\n",
    "    plt.figure(figsize=(10, 6))\n",
    "    bars = plt.bar(annotation_postPriority, freq_list_global[i], color='#80CBC4')\n",
    "    plt.title(f'Priority distribution for {sub_graph_name[i]}')\n",
    "    plt.xlabel('Priority')\n",
    "    plt.ylabel('Frequency')\n",
    "    \n",
    "    plt.ylim(0, max_freq+0.1)\n",
    "    \n",
    "    for bar, value in zip(bars, freq_list_global[i]):\n",
    "        plt.text(bar.get_x() + bar.get_width() / 2 - 0.1, bar.get_height() + 0.01, f'{value:.3f}', ha='center', va='bottom')\n",
    "    \n",
    "    plt.savefig(f'Graph_priority_distribution/{sub_graph_name[i]}.jpg')\n",
    "    plt.show()\n",
    "\n",
    "    "
   ]
  },
  {
   "cell_type": "code",
   "execution_count": null,
   "id": "19eb717c",
   "metadata": {},
   "outputs": [],
   "source": []
  }
 ],
 "metadata": {
  "kernelspec": {
   "display_name": "Python 3 (ipykernel)",
   "language": "python",
   "name": "python3"
  },
  "language_info": {
   "codemirror_mode": {
    "name": "ipython",
    "version": 3
   },
   "file_extension": ".py",
   "mimetype": "text/x-python",
   "name": "python",
   "nbconvert_exporter": "python",
   "pygments_lexer": "ipython3",
   "version": "3.9.12"
  }
 },
 "nbformat": 4,
 "nbformat_minor": 5
}
