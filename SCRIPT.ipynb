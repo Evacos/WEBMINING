{
 "cells": [
  {
   "cell_type": "code",
   "execution_count": 2,
   "id": "303edc2e",
   "metadata": {},
   "outputs": [],
   "source": [
    "%matplotlib inline\n",
    "\n",
    "import networkx as nx\n",
    "from networkx.algorithms import community\n",
    "import pandas as pd\n",
    "import seaborn as sns\n",
    "from scipy import stats\n",
    "import matplotlib.pyplot as plt\n",
    "import numpy as np"
   ]
  },
  {
   "cell_type": "code",
   "execution_count": 9,
   "id": "b3338e2b",
   "metadata": {},
   "outputs": [
    {
     "name": "stdout",
     "output_type": "stream",
     "text": [
      "MultiDiGraph with 109627 nodes and 311654 edges\n"
     ]
    }
   ],
   "source": [
    "pathData = \"DATASET-20240130/database/Everything/database_formated_for_NetworkX.graphml\"\n",
    "g = nx.read_graphml(pathData)\n",
    "print(g)"
   ]
  },
  {
   "cell_type": "code",
   "execution_count": 34,
   "id": "6c4966d5",
   "metadata": {},
   "outputs": [
    {
     "name": "stdout",
     "output_type": "stream",
     "text": [
      "Number of Nodes: 109627\n",
      "Number of Edges: 311654\n",
      "Top 10 Central Users: ['n18', 'n565', 'n570', 'n577', 'n568', 'n562', 'n557', 'n17', 'n579', 'n563']\n"
     ]
    }
   ],
   "source": [
    "num_nodes = len(g.nodes)\n",
    "num_edges = len(g.edges)\n",
    "print(f\"Number of Nodes: {num_nodes}\")\n",
    "print(f\"Number of Edges: {num_edges}\")\n",
    "\n",
    "degree_centrality = nx.degree_centrality(g)\n",
    "central_users = sorted(degree_centrality, key=degree_centrality.get, reverse=True)[:10]\n",
    "print(\"Top 10 Central Users:\", central_users)"
   ]
  },
  {
   "cell_type": "code",
   "execution_count": null,
   "id": "244a829c",
   "metadata": {},
   "outputs": [],
   "source": [
    "G = nx.MultiDiGraph()\n",
    "\n",
    "# Charger les nœuds à partir du fichier nodes.json\n",
    "with open('nodes.json', 'r') as file:\n",
    "    nodes_data = [json.loads(line)['n'] for line in file]\n",
    "    for node_data in nodes_data:\n",
    "        node_id = node_data['id']\n",
    "        node_labels = node_data['labels']\n",
    "        G.add_node(node_id, labels=node_labels, **node_data['properties'])"
   ]
  }
 ],
 "metadata": {
  "kernelspec": {
   "display_name": "Python 3 (ipykernel)",
   "language": "python",
   "name": "python3"
  },
  "language_info": {
   "codemirror_mode": {
    "name": "ipython",
    "version": 3
   },
   "file_extension": ".py",
   "mimetype": "text/x-python",
   "name": "python",
   "nbconvert_exporter": "python",
   "pygments_lexer": "ipython3",
   "version": "3.9.12"
  }
 },
 "nbformat": 4,
 "nbformat_minor": 5
}
