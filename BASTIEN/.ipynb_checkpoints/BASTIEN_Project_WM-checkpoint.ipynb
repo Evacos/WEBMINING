{
 "cells": [
  {
   "cell_type": "markdown",
   "metadata": {},
   "source": [
    "## Librairies"
   ]
  },
  {
   "cell_type": "code",
   "execution_count": 1,
   "metadata": {},
   "outputs": [
    {
     "name": "stderr",
     "output_type": "stream",
     "text": [
      "[nltk_data] Downloading package wordnet to\n",
      "[nltk_data]     C:\\Users\\grego\\AppData\\Roaming\\nltk_data...\n",
      "[nltk_data] Downloading package stopwords to\n",
      "[nltk_data]     C:\\Users\\grego\\AppData\\Roaming\\nltk_data...\n",
      "[nltk_data]   Package stopwords is already up-to-date!\n"
     ]
    }
   ],
   "source": [
    "import pandas as pd\n",
    "import numpy as np\n",
    "import json\n",
    "import matplotlib.pyplot as plt\n",
    "import seaborn as sns\n",
    "\n",
    "%matplotlib inline\n",
    "\n",
    "from sklearn.ensemble import RandomForestClassifier\n",
    "from sklearn.tree import DecisionTreeClassifier\n",
    "from sklearn.model_selection import train_test_split\n",
    "from sklearn.metrics import f1_score\n",
    "from sklearn.linear_model import LogisticRegression\n",
    "\n",
    "import networkx as nx\n",
    "from networkx.algorithms import community\n",
    "from scipy import stats\n",
    "import matplotlib.pyplot as plt\n",
    "\n",
    "from random import sample\n",
    "from xgboost import XGBRegressor\n",
    "\n",
    "import string\n",
    "from nltk.corpus import stopwords\n",
    "import nltk\n",
    "nltk.download('wordnet')\n",
    "from nltk import stem, WordNetLemmatizer\n",
    "nltk.download('stopwords')\n",
    "wnl = WordNetLemmatizer()\n",
    "from sklearn.feature_extraction.text import TfidfVectorizer\n"
   ]
  },
  {
   "cell_type": "code",
   "execution_count": 2,
   "metadata": {},
   "outputs": [],
   "source": [
    "from pandas.io.json import json_normalize\n",
    "from sklearn.feature_extraction.text import TfidfVectorizer, CountVectorizer\n",
    "from sklearn.cluster import MiniBatchKMeans\n",
    "import re"
   ]
  },
  {
   "cell_type": "markdown",
   "metadata": {},
   "source": [
    "## Importation of the data"
   ]
  },
  {
   "cell_type": "code",
   "execution_count": 3,
   "metadata": {},
   "outputs": [],
   "source": [
    "# Import the data\n",
    "#data=\"database.json\"\n",
    "tweet='Tweet.json'\n",
    "user='User.json'\n",
    "Posted='POSTED.json'\n",
    "Event='Event.json'\n",
    "#Is_about='IS_ABOUT.json'\n",
    "Hashtag='Hashtag.json'\n",
    "Has_hashtag='HAS_HASHTAG.json'\n",
    "\n",
    "\n",
    "\n",
    "#data=[json.loads(line) for line in open(data,'r')]\n",
    "tweet=[json.loads(line) for line in open(tweet,'r')]\n",
    "user=[json.loads(line) for line in open(user,'r')]\n",
    "Posted=[json.loads(line) for line in open(Posted,'r')]\n",
    "Event=[json.loads(line) for line in open(Event,'r')]\n",
    "#Is_about=[json.loads(line) for line in open(Is_about,'r')]\n",
    "Hashtag=[json.loads(line) for line in open(Hashtag,'r')]\n",
    "Has_hashtag=[json.loads(line) for line in open(Has_hashtag,'r')]\n"
   ]
  },
  {
   "cell_type": "markdown",
   "metadata": {},
   "source": [
    "## Data preparation"
   ]
  },
  {
   "cell_type": "code",
   "execution_count": 4,
   "metadata": {},
   "outputs": [],
   "source": [
    "#df_total = pd.json_normalize(data)\n",
    "df_tweet= pd.io.json.json_normalize(tweet)\n",
    "df_user= pd.io.json.json_normalize(user)\n",
    "df_posted= pd.io.json.json_normalize(Posted)\n",
    "df_event= pd.io.json.json_normalize(Event)\n",
    "#df_isabout= pd.io.json.json_normalize(Is_about)\n",
    "df_hashtag= pd.io.json.json_normalize(Hashtag)\n",
    "df_has_hashtag= pd.io.json.json_normalize(Has_hashtag)"
   ]
  },
  {
   "cell_type": "code",
   "execution_count": 5,
   "metadata": {},
   "outputs": [
    {
     "data": {
      "text/html": [
       "<div>\n",
       "<style scoped>\n",
       "    .dataframe tbody tr th:only-of-type {\n",
       "        vertical-align: middle;\n",
       "    }\n",
       "\n",
       "    .dataframe tbody tr th {\n",
       "        vertical-align: top;\n",
       "    }\n",
       "\n",
       "    .dataframe thead th {\n",
       "        text-align: right;\n",
       "    }\n",
       "</style>\n",
       "<table border=\"1\" class=\"dataframe\">\n",
       "  <thead>\n",
       "    <tr style=\"text-align: right;\">\n",
       "      <th></th>\n",
       "      <th>Tweet_ID</th>\n",
       "      <th>isTruncated</th>\n",
       "      <th>n.properties.possibly_sensitive</th>\n",
       "      <th>created_at</th>\n",
       "      <th>retweet_count</th>\n",
       "      <th>n.properties.annotation_annotated</th>\n",
       "      <th>is_quote_status</th>\n",
       "      <th>annotation_num_judgements</th>\n",
       "      <th>annotation_postPriority</th>\n",
       "      <th>topic</th>\n",
       "      <th>favorite_count</th>\n",
       "      <th>text</th>\n",
       "    </tr>\n",
       "  </thead>\n",
       "  <tbody>\n",
       "    <tr>\n",
       "      <td>0</td>\n",
       "      <td>582</td>\n",
       "      <td>False</td>\n",
       "      <td>False</td>\n",
       "      <td>2012-06-09T00:00Z</td>\n",
       "      <td>0</td>\n",
       "      <td>True</td>\n",
       "      <td>False</td>\n",
       "      <td>3</td>\n",
       "      <td>Low</td>\n",
       "      <td>TRECIS-CTIT-H-001</td>\n",
       "      <td>1</td>\n",
       "      <td>#colorado. Told you its #amazing http://t.co/6...</td>\n",
       "    </tr>\n",
       "    <tr>\n",
       "      <td>1</td>\n",
       "      <td>583</td>\n",
       "      <td>False</td>\n",
       "      <td>False</td>\n",
       "      <td>2012-06-09T00:00Z</td>\n",
       "      <td>3</td>\n",
       "      <td>True</td>\n",
       "      <td>False</td>\n",
       "      <td>1</td>\n",
       "      <td>Medium</td>\n",
       "      <td>TRECIS-CTIT-H-001</td>\n",
       "      <td>0</td>\n",
       "      <td>RT @northfortynews: Tanker helicopter heads up...</td>\n",
       "    </tr>\n",
       "    <tr>\n",
       "      <td>2</td>\n",
       "      <td>584</td>\n",
       "      <td>False</td>\n",
       "      <td>True</td>\n",
       "      <td>2012-06-09T00:00Z</td>\n",
       "      <td>2</td>\n",
       "      <td>True</td>\n",
       "      <td>False</td>\n",
       "      <td>1</td>\n",
       "      <td>High</td>\n",
       "      <td>TRECIS-CTIT-H-001</td>\n",
       "      <td>0</td>\n",
       "      <td>#Evacuation center Cache La Poudre Middle Scho...</td>\n",
       "    </tr>\n",
       "    <tr>\n",
       "      <td>3</td>\n",
       "      <td>585</td>\n",
       "      <td>False</td>\n",
       "      <td>True</td>\n",
       "      <td>2012-06-09T00:00Z</td>\n",
       "      <td>0</td>\n",
       "      <td>True</td>\n",
       "      <td>False</td>\n",
       "      <td>1</td>\n",
       "      <td>Medium</td>\n",
       "      <td>TRECIS-CTIT-H-001</td>\n",
       "      <td>0</td>\n",
       "      <td>20F degrees cooler tomorrow in North Central &amp;...</td>\n",
       "    </tr>\n",
       "    <tr>\n",
       "      <td>4</td>\n",
       "      <td>586</td>\n",
       "      <td>False</td>\n",
       "      <td>False</td>\n",
       "      <td>2012-06-10T00:00Z</td>\n",
       "      <td>0</td>\n",
       "      <td>True</td>\n",
       "      <td>False</td>\n",
       "      <td>1</td>\n",
       "      <td>Medium</td>\n",
       "      <td>TRECIS-CTIT-H-001</td>\n",
       "      <td>0</td>\n",
       "      <td>FEMA has authorized the use of federal funds t...</td>\n",
       "    </tr>\n",
       "  </tbody>\n",
       "</table>\n",
       "</div>"
      ],
      "text/plain": [
       "  Tweet_ID  isTruncated  n.properties.possibly_sensitive         created_at  \\\n",
       "0      582        False                            False  2012-06-09T00:00Z   \n",
       "1      583        False                            False  2012-06-09T00:00Z   \n",
       "2      584        False                             True  2012-06-09T00:00Z   \n",
       "3      585        False                             True  2012-06-09T00:00Z   \n",
       "4      586        False                            False  2012-06-10T00:00Z   \n",
       "\n",
       "   retweet_count  n.properties.annotation_annotated  is_quote_status  \\\n",
       "0              0                               True            False   \n",
       "1              3                               True            False   \n",
       "2              2                               True            False   \n",
       "3              0                               True            False   \n",
       "4              0                               True            False   \n",
       "\n",
       "   annotation_num_judgements annotation_postPriority              topic  \\\n",
       "0                          3                     Low  TRECIS-CTIT-H-001   \n",
       "1                          1                  Medium  TRECIS-CTIT-H-001   \n",
       "2                          1                    High  TRECIS-CTIT-H-001   \n",
       "3                          1                  Medium  TRECIS-CTIT-H-001   \n",
       "4                          1                  Medium  TRECIS-CTIT-H-001   \n",
       "\n",
       "   favorite_count                                               text  \n",
       "0               1  #colorado. Told you its #amazing http://t.co/6...  \n",
       "1               0  RT @northfortynews: Tanker helicopter heads up...  \n",
       "2               0  #Evacuation center Cache La Poudre Middle Scho...  \n",
       "3               0  20F degrees cooler tomorrow in North Central &...  \n",
       "4               0  FEMA has authorized the use of federal funds t...  "
      ]
     },
     "execution_count": 5,
     "metadata": {},
     "output_type": "execute_result"
    }
   ],
   "source": [
    "df_tweet=df_tweet.drop(['n.type', 'n.properties.id_str','n.labels','n.properties.id'], axis=1)\n",
    "df_tweet=df_tweet.rename(columns={\"n.id\":\"Tweet_ID\",\"n.properties.isTruncated\":\"isTruncated\",\"n.properties.possibly_criticality\":\"possibly_sensitive\",\"n.properties.created_at\":\"created_at\",\"n.properties.retweet_count\":\"retweet_count\",\"n.properties.is_quote_status\":\"is_quote_status\",\"n.properties.annotation_num_judgements\":\"annotation_num_judgements\",\"n.properties.annotation_postPriority\":\"annotation_postPriority\",\"n.properties.topic\":\"topic\",\"n.properties.favorite_count\":\"favorite_count\",\"n.properties.text\":\"text\"})\n",
    "df_tweet.head()"
   ]
  },
  {
   "cell_type": "code",
   "execution_count": 6,
   "metadata": {},
   "outputs": [
    {
     "data": {
      "text/html": [
       "<div>\n",
       "<style scoped>\n",
       "    .dataframe tbody tr th:only-of-type {\n",
       "        vertical-align: middle;\n",
       "    }\n",
       "\n",
       "    .dataframe tbody tr th {\n",
       "        vertical-align: top;\n",
       "    }\n",
       "\n",
       "    .dataframe thead th {\n",
       "        text-align: right;\n",
       "    }\n",
       "</style>\n",
       "<table border=\"1\" class=\"dataframe\">\n",
       "  <thead>\n",
       "    <tr style=\"text-align: right;\">\n",
       "      <th></th>\n",
       "      <th>User_ID</th>\n",
       "      <th>Tweet_ID</th>\n",
       "    </tr>\n",
       "  </thead>\n",
       "  <tbody>\n",
       "    <tr>\n",
       "      <td>0</td>\n",
       "      <td>56568</td>\n",
       "      <td>582</td>\n",
       "    </tr>\n",
       "    <tr>\n",
       "      <td>1</td>\n",
       "      <td>56569</td>\n",
       "      <td>775</td>\n",
       "    </tr>\n",
       "    <tr>\n",
       "      <td>2</td>\n",
       "      <td>56569</td>\n",
       "      <td>583</td>\n",
       "    </tr>\n",
       "    <tr>\n",
       "      <td>3</td>\n",
       "      <td>56570</td>\n",
       "      <td>584</td>\n",
       "    </tr>\n",
       "    <tr>\n",
       "      <td>4</td>\n",
       "      <td>56571</td>\n",
       "      <td>1623</td>\n",
       "    </tr>\n",
       "  </tbody>\n",
       "</table>\n",
       "</div>"
      ],
      "text/plain": [
       "  User_ID Tweet_ID\n",
       "0   56568      582\n",
       "1   56569      775\n",
       "2   56569      583\n",
       "3   56570      584\n",
       "4   56571     1623"
      ]
     },
     "execution_count": 6,
     "metadata": {},
     "output_type": "execute_result"
    }
   ],
   "source": [
    "df_posted=df_posted.drop(['r.id', 'r.type','r.label','r.start.labels','r.end.labels'], axis=1)\n",
    "df_posted=df_posted.rename(columns={\"r.start.id\":\"User_ID\",\"r.end.id\":\"Tweet_ID\"})\n",
    "df_posted.head()"
   ]
  },
  {
   "cell_type": "code",
   "execution_count": 7,
   "metadata": {},
   "outputs": [
    {
     "data": {
      "text/html": [
       "<div>\n",
       "<style scoped>\n",
       "    .dataframe tbody tr th:only-of-type {\n",
       "        vertical-align: middle;\n",
       "    }\n",
       "\n",
       "    .dataframe tbody tr th {\n",
       "        vertical-align: top;\n",
       "    }\n",
       "\n",
       "    .dataframe thead th {\n",
       "        text-align: right;\n",
       "    }\n",
       "</style>\n",
       "<table border=\"1\" class=\"dataframe\">\n",
       "  <thead>\n",
       "    <tr style=\"text-align: right;\">\n",
       "      <th></th>\n",
       "      <th>Tweet_ID</th>\n",
       "      <th>isTruncated</th>\n",
       "      <th>n.properties.possibly_sensitive</th>\n",
       "      <th>created_at</th>\n",
       "      <th>retweet_count</th>\n",
       "      <th>n.properties.annotation_annotated</th>\n",
       "      <th>is_quote_status</th>\n",
       "      <th>annotation_num_judgements</th>\n",
       "      <th>annotation_postPriority</th>\n",
       "      <th>topic</th>\n",
       "      <th>favorite_count</th>\n",
       "      <th>text</th>\n",
       "      <th>User_ID</th>\n",
       "    </tr>\n",
       "  </thead>\n",
       "  <tbody>\n",
       "    <tr>\n",
       "      <td>0</td>\n",
       "      <td>582</td>\n",
       "      <td>False</td>\n",
       "      <td>False</td>\n",
       "      <td>2012-06-09T00:00Z</td>\n",
       "      <td>0</td>\n",
       "      <td>True</td>\n",
       "      <td>False</td>\n",
       "      <td>3</td>\n",
       "      <td>Low</td>\n",
       "      <td>TRECIS-CTIT-H-001</td>\n",
       "      <td>1</td>\n",
       "      <td>#colorado. Told you its #amazing http://t.co/6...</td>\n",
       "      <td>56568</td>\n",
       "    </tr>\n",
       "    <tr>\n",
       "      <td>1</td>\n",
       "      <td>583</td>\n",
       "      <td>False</td>\n",
       "      <td>False</td>\n",
       "      <td>2012-06-09T00:00Z</td>\n",
       "      <td>3</td>\n",
       "      <td>True</td>\n",
       "      <td>False</td>\n",
       "      <td>1</td>\n",
       "      <td>Medium</td>\n",
       "      <td>TRECIS-CTIT-H-001</td>\n",
       "      <td>0</td>\n",
       "      <td>RT @northfortynews: Tanker helicopter heads up...</td>\n",
       "      <td>56569</td>\n",
       "    </tr>\n",
       "    <tr>\n",
       "      <td>2</td>\n",
       "      <td>584</td>\n",
       "      <td>False</td>\n",
       "      <td>True</td>\n",
       "      <td>2012-06-09T00:00Z</td>\n",
       "      <td>2</td>\n",
       "      <td>True</td>\n",
       "      <td>False</td>\n",
       "      <td>1</td>\n",
       "      <td>High</td>\n",
       "      <td>TRECIS-CTIT-H-001</td>\n",
       "      <td>0</td>\n",
       "      <td>#Evacuation center Cache La Poudre Middle Scho...</td>\n",
       "      <td>56570</td>\n",
       "    </tr>\n",
       "    <tr>\n",
       "      <td>3</td>\n",
       "      <td>585</td>\n",
       "      <td>False</td>\n",
       "      <td>True</td>\n",
       "      <td>2012-06-09T00:00Z</td>\n",
       "      <td>0</td>\n",
       "      <td>True</td>\n",
       "      <td>False</td>\n",
       "      <td>1</td>\n",
       "      <td>Medium</td>\n",
       "      <td>TRECIS-CTIT-H-001</td>\n",
       "      <td>0</td>\n",
       "      <td>20F degrees cooler tomorrow in North Central &amp;...</td>\n",
       "      <td>56571</td>\n",
       "    </tr>\n",
       "    <tr>\n",
       "      <td>4</td>\n",
       "      <td>586</td>\n",
       "      <td>False</td>\n",
       "      <td>False</td>\n",
       "      <td>2012-06-10T00:00Z</td>\n",
       "      <td>0</td>\n",
       "      <td>True</td>\n",
       "      <td>False</td>\n",
       "      <td>1</td>\n",
       "      <td>Medium</td>\n",
       "      <td>TRECIS-CTIT-H-001</td>\n",
       "      <td>0</td>\n",
       "      <td>FEMA has authorized the use of federal funds t...</td>\n",
       "      <td>56572</td>\n",
       "    </tr>\n",
       "  </tbody>\n",
       "</table>\n",
       "</div>"
      ],
      "text/plain": [
       "  Tweet_ID  isTruncated  n.properties.possibly_sensitive         created_at  \\\n",
       "0      582        False                            False  2012-06-09T00:00Z   \n",
       "1      583        False                            False  2012-06-09T00:00Z   \n",
       "2      584        False                             True  2012-06-09T00:00Z   \n",
       "3      585        False                             True  2012-06-09T00:00Z   \n",
       "4      586        False                            False  2012-06-10T00:00Z   \n",
       "\n",
       "   retweet_count  n.properties.annotation_annotated  is_quote_status  \\\n",
       "0              0                               True            False   \n",
       "1              3                               True            False   \n",
       "2              2                               True            False   \n",
       "3              0                               True            False   \n",
       "4              0                               True            False   \n",
       "\n",
       "   annotation_num_judgements annotation_postPriority              topic  \\\n",
       "0                          3                     Low  TRECIS-CTIT-H-001   \n",
       "1                          1                  Medium  TRECIS-CTIT-H-001   \n",
       "2                          1                    High  TRECIS-CTIT-H-001   \n",
       "3                          1                  Medium  TRECIS-CTIT-H-001   \n",
       "4                          1                  Medium  TRECIS-CTIT-H-001   \n",
       "\n",
       "   favorite_count                                               text User_ID  \n",
       "0               1  #colorado. Told you its #amazing http://t.co/6...   56568  \n",
       "1               0  RT @northfortynews: Tanker helicopter heads up...   56569  \n",
       "2               0  #Evacuation center Cache La Poudre Middle Scho...   56570  \n",
       "3               0  20F degrees cooler tomorrow in North Central &...   56571  \n",
       "4               0  FEMA has authorized the use of federal funds t...   56572  "
      ]
     },
     "execution_count": 7,
     "metadata": {},
     "output_type": "execute_result"
    }
   ],
   "source": [
    "df_tweet=df_tweet.merge(df_posted,on=\"Tweet_ID\")\n",
    "df_tweet.head()"
   ]
  },
  {
   "cell_type": "code",
   "execution_count": 8,
   "metadata": {},
   "outputs": [
    {
     "data": {
      "text/html": [
       "<div>\n",
       "<style scoped>\n",
       "    .dataframe tbody tr th:only-of-type {\n",
       "        vertical-align: middle;\n",
       "    }\n",
       "\n",
       "    .dataframe tbody tr th {\n",
       "        vertical-align: top;\n",
       "    }\n",
       "\n",
       "    .dataframe thead th {\n",
       "        text-align: right;\n",
       "    }\n",
       "</style>\n",
       "<table border=\"1\" class=\"dataframe\">\n",
       "  <thead>\n",
       "    <tr style=\"text-align: right;\">\n",
       "      <th></th>\n",
       "      <th>User_ID</th>\n",
       "      <th>friends_count</th>\n",
       "      <th>isVerified</th>\n",
       "      <th>listed_count</th>\n",
       "      <th>statuses_count</th>\n",
       "      <th>favourites_count</th>\n",
       "      <th>followers_count</th>\n",
       "      <th>name</th>\n",
       "    </tr>\n",
       "  </thead>\n",
       "  <tbody>\n",
       "    <tr>\n",
       "      <td>0</td>\n",
       "      <td>56568</td>\n",
       "      <td>400</td>\n",
       "      <td>False</td>\n",
       "      <td>3</td>\n",
       "      <td>13211</td>\n",
       "      <td>196</td>\n",
       "      <td>537</td>\n",
       "      <td>Jeff</td>\n",
       "    </tr>\n",
       "    <tr>\n",
       "      <td>1</td>\n",
       "      <td>56569</td>\n",
       "      <td>4930</td>\n",
       "      <td>False</td>\n",
       "      <td>309</td>\n",
       "      <td>54980</td>\n",
       "      <td>1176</td>\n",
       "      <td>4740</td>\n",
       "      <td>MarilynF</td>\n",
       "    </tr>\n",
       "    <tr>\n",
       "      <td>2</td>\n",
       "      <td>56570</td>\n",
       "      <td>4726</td>\n",
       "      <td>False</td>\n",
       "      <td>70</td>\n",
       "      <td>10701</td>\n",
       "      <td>8510</td>\n",
       "      <td>2684</td>\n",
       "      <td>Angela Thorpe</td>\n",
       "    </tr>\n",
       "    <tr>\n",
       "      <td>3</td>\n",
       "      <td>56571</td>\n",
       "      <td>104963</td>\n",
       "      <td>False</td>\n",
       "      <td>1101</td>\n",
       "      <td>15871</td>\n",
       "      <td>68367</td>\n",
       "      <td>113859</td>\n",
       "      <td>William Scherer</td>\n",
       "    </tr>\n",
       "    <tr>\n",
       "      <td>4</td>\n",
       "      <td>56572</td>\n",
       "      <td>1849</td>\n",
       "      <td>False</td>\n",
       "      <td>15</td>\n",
       "      <td>62810</td>\n",
       "      <td>21</td>\n",
       "      <td>1624</td>\n",
       "      <td>Sheri Van Fossen</td>\n",
       "    </tr>\n",
       "  </tbody>\n",
       "</table>\n",
       "</div>"
      ],
      "text/plain": [
       "  User_ID  friends_count  isVerified  listed_count  statuses_count  \\\n",
       "0   56568            400       False             3           13211   \n",
       "1   56569           4930       False           309           54980   \n",
       "2   56570           4726       False            70           10701   \n",
       "3   56571         104963       False          1101           15871   \n",
       "4   56572           1849       False            15           62810   \n",
       "\n",
       "   favourites_count  followers_count              name  \n",
       "0               196              537              Jeff  \n",
       "1              1176             4740          MarilynF  \n",
       "2              8510             2684     Angela Thorpe  \n",
       "3             68367           113859   William Scherer  \n",
       "4                21             1624  Sheri Van Fossen  "
      ]
     },
     "execution_count": 8,
     "metadata": {},
     "output_type": "execute_result"
    }
   ],
   "source": [
    "df_user=df_user.drop(['n.type','n.properties.id','n.labels','n.properties.tweets_count','n.properties.screen_name'], axis=1)\n",
    "df_user=df_user.rename(columns={\"n.id\":\"User_ID\",\"n.properties.friends_count\":\"friends_count\",\"n.properties.isVerified\":\"isVerified\",\"n.properties.listed_count\":\"listed_count\",\"n.properties.statuses_count\":\"statuses_count\",\"n.properties.favourites_count\":\"favourites_count\",\"n.properties.followers_count\":\"followers_count\",\"n.properties.name\":\"name\"})\n",
    "df_user.head()"
   ]
  },
  {
   "cell_type": "code",
   "execution_count": 9,
   "metadata": {},
   "outputs": [
    {
     "data": {
      "text/html": [
       "<div>\n",
       "<style scoped>\n",
       "    .dataframe tbody tr th:only-of-type {\n",
       "        vertical-align: middle;\n",
       "    }\n",
       "\n",
       "    .dataframe tbody tr th {\n",
       "        vertical-align: top;\n",
       "    }\n",
       "\n",
       "    .dataframe thead th {\n",
       "        text-align: right;\n",
       "    }\n",
       "</style>\n",
       "<table border=\"1\" class=\"dataframe\">\n",
       "  <thead>\n",
       "    <tr style=\"text-align: right;\">\n",
       "      <th></th>\n",
       "      <th>Tweet_ID</th>\n",
       "      <th>isTruncated</th>\n",
       "      <th>n.properties.possibly_sensitive</th>\n",
       "      <th>created_at</th>\n",
       "      <th>retweet_count</th>\n",
       "      <th>n.properties.annotation_annotated</th>\n",
       "      <th>is_quote_status</th>\n",
       "      <th>annotation_num_judgements</th>\n",
       "      <th>annotation_postPriority</th>\n",
       "      <th>topic</th>\n",
       "      <th>favorite_count</th>\n",
       "      <th>text</th>\n",
       "      <th>User_ID</th>\n",
       "      <th>friends_count</th>\n",
       "      <th>isVerified</th>\n",
       "      <th>listed_count</th>\n",
       "      <th>statuses_count</th>\n",
       "      <th>favourites_count</th>\n",
       "      <th>followers_count</th>\n",
       "      <th>name</th>\n",
       "    </tr>\n",
       "  </thead>\n",
       "  <tbody>\n",
       "    <tr>\n",
       "      <td>0</td>\n",
       "      <td>582</td>\n",
       "      <td>False</td>\n",
       "      <td>False</td>\n",
       "      <td>2012-06-09T00:00Z</td>\n",
       "      <td>0</td>\n",
       "      <td>True</td>\n",
       "      <td>False</td>\n",
       "      <td>3</td>\n",
       "      <td>Low</td>\n",
       "      <td>TRECIS-CTIT-H-001</td>\n",
       "      <td>1</td>\n",
       "      <td>#colorado. Told you its #amazing http://t.co/6...</td>\n",
       "      <td>56568</td>\n",
       "      <td>400</td>\n",
       "      <td>False</td>\n",
       "      <td>3</td>\n",
       "      <td>13211</td>\n",
       "      <td>196</td>\n",
       "      <td>537</td>\n",
       "      <td>Jeff</td>\n",
       "    </tr>\n",
       "    <tr>\n",
       "      <td>1</td>\n",
       "      <td>583</td>\n",
       "      <td>False</td>\n",
       "      <td>False</td>\n",
       "      <td>2012-06-09T00:00Z</td>\n",
       "      <td>3</td>\n",
       "      <td>True</td>\n",
       "      <td>False</td>\n",
       "      <td>1</td>\n",
       "      <td>Medium</td>\n",
       "      <td>TRECIS-CTIT-H-001</td>\n",
       "      <td>0</td>\n",
       "      <td>RT @northfortynews: Tanker helicopter heads up...</td>\n",
       "      <td>56569</td>\n",
       "      <td>4930</td>\n",
       "      <td>False</td>\n",
       "      <td>309</td>\n",
       "      <td>54980</td>\n",
       "      <td>1176</td>\n",
       "      <td>4740</td>\n",
       "      <td>MarilynF</td>\n",
       "    </tr>\n",
       "    <tr>\n",
       "      <td>2</td>\n",
       "      <td>775</td>\n",
       "      <td>False</td>\n",
       "      <td>True</td>\n",
       "      <td>2012-06-21T00:00Z</td>\n",
       "      <td>1</td>\n",
       "      <td>True</td>\n",
       "      <td>False</td>\n",
       "      <td>1</td>\n",
       "      <td>High</td>\n",
       "      <td>TRECIS-CTIT-H-001</td>\n",
       "      <td>0</td>\n",
       "      <td>I'm at Target. Can someone tell me what donati...</td>\n",
       "      <td>56569</td>\n",
       "      <td>4930</td>\n",
       "      <td>False</td>\n",
       "      <td>309</td>\n",
       "      <td>54980</td>\n",
       "      <td>1176</td>\n",
       "      <td>4740</td>\n",
       "      <td>MarilynF</td>\n",
       "    </tr>\n",
       "    <tr>\n",
       "      <td>3</td>\n",
       "      <td>584</td>\n",
       "      <td>False</td>\n",
       "      <td>True</td>\n",
       "      <td>2012-06-09T00:00Z</td>\n",
       "      <td>2</td>\n",
       "      <td>True</td>\n",
       "      <td>False</td>\n",
       "      <td>1</td>\n",
       "      <td>High</td>\n",
       "      <td>TRECIS-CTIT-H-001</td>\n",
       "      <td>0</td>\n",
       "      <td>#Evacuation center Cache La Poudre Middle Scho...</td>\n",
       "      <td>56570</td>\n",
       "      <td>4726</td>\n",
       "      <td>False</td>\n",
       "      <td>70</td>\n",
       "      <td>10701</td>\n",
       "      <td>8510</td>\n",
       "      <td>2684</td>\n",
       "      <td>Angela Thorpe</td>\n",
       "    </tr>\n",
       "    <tr>\n",
       "      <td>4</td>\n",
       "      <td>585</td>\n",
       "      <td>False</td>\n",
       "      <td>True</td>\n",
       "      <td>2012-06-09T00:00Z</td>\n",
       "      <td>0</td>\n",
       "      <td>True</td>\n",
       "      <td>False</td>\n",
       "      <td>1</td>\n",
       "      <td>Medium</td>\n",
       "      <td>TRECIS-CTIT-H-001</td>\n",
       "      <td>0</td>\n",
       "      <td>20F degrees cooler tomorrow in North Central &amp;...</td>\n",
       "      <td>56571</td>\n",
       "      <td>104963</td>\n",
       "      <td>False</td>\n",
       "      <td>1101</td>\n",
       "      <td>15871</td>\n",
       "      <td>68367</td>\n",
       "      <td>113859</td>\n",
       "      <td>William Scherer</td>\n",
       "    </tr>\n",
       "  </tbody>\n",
       "</table>\n",
       "</div>"
      ],
      "text/plain": [
       "  Tweet_ID  isTruncated  n.properties.possibly_sensitive         created_at  \\\n",
       "0      582        False                            False  2012-06-09T00:00Z   \n",
       "1      583        False                            False  2012-06-09T00:00Z   \n",
       "2      775        False                             True  2012-06-21T00:00Z   \n",
       "3      584        False                             True  2012-06-09T00:00Z   \n",
       "4      585        False                             True  2012-06-09T00:00Z   \n",
       "\n",
       "   retweet_count  n.properties.annotation_annotated  is_quote_status  \\\n",
       "0              0                               True            False   \n",
       "1              3                               True            False   \n",
       "2              1                               True            False   \n",
       "3              2                               True            False   \n",
       "4              0                               True            False   \n",
       "\n",
       "   annotation_num_judgements annotation_postPriority              topic  \\\n",
       "0                          3                     Low  TRECIS-CTIT-H-001   \n",
       "1                          1                  Medium  TRECIS-CTIT-H-001   \n",
       "2                          1                    High  TRECIS-CTIT-H-001   \n",
       "3                          1                    High  TRECIS-CTIT-H-001   \n",
       "4                          1                  Medium  TRECIS-CTIT-H-001   \n",
       "\n",
       "   favorite_count                                               text User_ID  \\\n",
       "0               1  #colorado. Told you its #amazing http://t.co/6...   56568   \n",
       "1               0  RT @northfortynews: Tanker helicopter heads up...   56569   \n",
       "2               0  I'm at Target. Can someone tell me what donati...   56569   \n",
       "3               0  #Evacuation center Cache La Poudre Middle Scho...   56570   \n",
       "4               0  20F degrees cooler tomorrow in North Central &...   56571   \n",
       "\n",
       "   friends_count  isVerified  listed_count  statuses_count  favourites_count  \\\n",
       "0            400       False             3           13211               196   \n",
       "1           4930       False           309           54980              1176   \n",
       "2           4930       False           309           54980              1176   \n",
       "3           4726       False            70           10701              8510   \n",
       "4         104963       False          1101           15871             68367   \n",
       "\n",
       "   followers_count             name  \n",
       "0              537             Jeff  \n",
       "1             4740         MarilynF  \n",
       "2             4740         MarilynF  \n",
       "3             2684    Angela Thorpe  \n",
       "4           113859  William Scherer  "
      ]
     },
     "execution_count": 9,
     "metadata": {},
     "output_type": "execute_result"
    }
   ],
   "source": [
    "df_tweet=df_tweet.merge(df_user,on=\"User_ID\")\n",
    "df_tweet.head()"
   ]
  },
  {
   "cell_type": "code",
   "execution_count": 10,
   "metadata": {},
   "outputs": [
    {
     "data": {
      "text/html": [
       "<div>\n",
       "<style scoped>\n",
       "    .dataframe tbody tr th:only-of-type {\n",
       "        vertical-align: middle;\n",
       "    }\n",
       "\n",
       "    .dataframe tbody tr th {\n",
       "        vertical-align: top;\n",
       "    }\n",
       "\n",
       "    .dataframe thead th {\n",
       "        text-align: right;\n",
       "    }\n",
       "</style>\n",
       "<table border=\"1\" class=\"dataframe\">\n",
       "  <thead>\n",
       "    <tr style=\"text-align: right;\">\n",
       "      <th></th>\n",
       "      <th>Event_ID</th>\n",
       "      <th>Description_Event</th>\n",
       "      <th>eventType</th>\n",
       "      <th>topic</th>\n",
       "    </tr>\n",
       "  </thead>\n",
       "  <tbody>\n",
       "    <tr>\n",
       "      <td>0</td>\n",
       "      <td>0</td>\n",
       "      <td>fireColorado2012</td>\n",
       "      <td>wildfire</td>\n",
       "      <td>TRECIS-CTIT-H-001</td>\n",
       "    </tr>\n",
       "    <tr>\n",
       "      <td>1</td>\n",
       "      <td>1</td>\n",
       "      <td>costaRicaEarthquake2012</td>\n",
       "      <td>earthquake</td>\n",
       "      <td>TRECIS-CTIT-H-002</td>\n",
       "    </tr>\n",
       "    <tr>\n",
       "      <td>2</td>\n",
       "      <td>2</td>\n",
       "      <td>floodColorado2013</td>\n",
       "      <td>flood</td>\n",
       "      <td>TRECIS-CTIT-H-003</td>\n",
       "    </tr>\n",
       "    <tr>\n",
       "      <td>3</td>\n",
       "      <td>3</td>\n",
       "      <td>typhoonPablo2012</td>\n",
       "      <td>typhoon</td>\n",
       "      <td>TRECIS-CTIT-H-004</td>\n",
       "    </tr>\n",
       "    <tr>\n",
       "      <td>4</td>\n",
       "      <td>4</td>\n",
       "      <td>laAirportShooting2013</td>\n",
       "      <td>shooting</td>\n",
       "      <td>TRECIS-CTIT-H-005</td>\n",
       "    </tr>\n",
       "  </tbody>\n",
       "</table>\n",
       "</div>"
      ],
      "text/plain": [
       "  Event_ID        Description_Event   eventType              topic\n",
       "0        0         fireColorado2012    wildfire  TRECIS-CTIT-H-001\n",
       "1        1  costaRicaEarthquake2012  earthquake  TRECIS-CTIT-H-002\n",
       "2        2        floodColorado2013       flood  TRECIS-CTIT-H-003\n",
       "3        3         typhoonPablo2012     typhoon  TRECIS-CTIT-H-004\n",
       "4        4    laAirportShooting2013    shooting  TRECIS-CTIT-H-005"
      ]
     },
     "execution_count": 10,
     "metadata": {},
     "output_type": "execute_result"
    }
   ],
   "source": [
    "df_event=df_event.drop(['n.type','n.labels'], axis=1)\n",
    "df_event=df_event.rename(columns={\"n.id\":\"Event_ID\",\"n.properties.id\":\"Description_Event\",\"n.properties.eventType\":\"eventType\",\"n.properties.trecisid\":\"topic\"})\n",
    "df_event.head()"
   ]
  },
  {
   "cell_type": "code",
   "execution_count": 11,
   "metadata": {},
   "outputs": [
    {
     "data": {
      "text/html": [
       "<div>\n",
       "<style scoped>\n",
       "    .dataframe tbody tr th:only-of-type {\n",
       "        vertical-align: middle;\n",
       "    }\n",
       "\n",
       "    .dataframe tbody tr th {\n",
       "        vertical-align: top;\n",
       "    }\n",
       "\n",
       "    .dataframe thead th {\n",
       "        text-align: right;\n",
       "    }\n",
       "</style>\n",
       "<table border=\"1\" class=\"dataframe\">\n",
       "  <thead>\n",
       "    <tr style=\"text-align: right;\">\n",
       "      <th></th>\n",
       "      <th>Tweet_ID</th>\n",
       "      <th>isTruncated</th>\n",
       "      <th>n.properties.possibly_sensitive</th>\n",
       "      <th>created_at</th>\n",
       "      <th>retweet_count</th>\n",
       "      <th>n.properties.annotation_annotated</th>\n",
       "      <th>is_quote_status</th>\n",
       "      <th>annotation_num_judgements</th>\n",
       "      <th>annotation_postPriority</th>\n",
       "      <th>topic</th>\n",
       "      <th>...</th>\n",
       "      <th>friends_count</th>\n",
       "      <th>isVerified</th>\n",
       "      <th>listed_count</th>\n",
       "      <th>statuses_count</th>\n",
       "      <th>favourites_count</th>\n",
       "      <th>followers_count</th>\n",
       "      <th>name</th>\n",
       "      <th>Event_ID</th>\n",
       "      <th>Description_Event</th>\n",
       "      <th>eventType</th>\n",
       "    </tr>\n",
       "  </thead>\n",
       "  <tbody>\n",
       "    <tr>\n",
       "      <td>0</td>\n",
       "      <td>582</td>\n",
       "      <td>False</td>\n",
       "      <td>False</td>\n",
       "      <td>2012-06-09T00:00Z</td>\n",
       "      <td>0</td>\n",
       "      <td>True</td>\n",
       "      <td>False</td>\n",
       "      <td>3</td>\n",
       "      <td>Low</td>\n",
       "      <td>TRECIS-CTIT-H-001</td>\n",
       "      <td>...</td>\n",
       "      <td>400</td>\n",
       "      <td>False</td>\n",
       "      <td>3</td>\n",
       "      <td>13211</td>\n",
       "      <td>196</td>\n",
       "      <td>537</td>\n",
       "      <td>Jeff</td>\n",
       "      <td>0</td>\n",
       "      <td>fireColorado2012</td>\n",
       "      <td>wildfire</td>\n",
       "    </tr>\n",
       "    <tr>\n",
       "      <td>1</td>\n",
       "      <td>583</td>\n",
       "      <td>False</td>\n",
       "      <td>False</td>\n",
       "      <td>2012-06-09T00:00Z</td>\n",
       "      <td>3</td>\n",
       "      <td>True</td>\n",
       "      <td>False</td>\n",
       "      <td>1</td>\n",
       "      <td>Medium</td>\n",
       "      <td>TRECIS-CTIT-H-001</td>\n",
       "      <td>...</td>\n",
       "      <td>4930</td>\n",
       "      <td>False</td>\n",
       "      <td>309</td>\n",
       "      <td>54980</td>\n",
       "      <td>1176</td>\n",
       "      <td>4740</td>\n",
       "      <td>MarilynF</td>\n",
       "      <td>0</td>\n",
       "      <td>fireColorado2012</td>\n",
       "      <td>wildfire</td>\n",
       "    </tr>\n",
       "    <tr>\n",
       "      <td>2</td>\n",
       "      <td>775</td>\n",
       "      <td>False</td>\n",
       "      <td>True</td>\n",
       "      <td>2012-06-21T00:00Z</td>\n",
       "      <td>1</td>\n",
       "      <td>True</td>\n",
       "      <td>False</td>\n",
       "      <td>1</td>\n",
       "      <td>High</td>\n",
       "      <td>TRECIS-CTIT-H-001</td>\n",
       "      <td>...</td>\n",
       "      <td>4930</td>\n",
       "      <td>False</td>\n",
       "      <td>309</td>\n",
       "      <td>54980</td>\n",
       "      <td>1176</td>\n",
       "      <td>4740</td>\n",
       "      <td>MarilynF</td>\n",
       "      <td>0</td>\n",
       "      <td>fireColorado2012</td>\n",
       "      <td>wildfire</td>\n",
       "    </tr>\n",
       "    <tr>\n",
       "      <td>3</td>\n",
       "      <td>584</td>\n",
       "      <td>False</td>\n",
       "      <td>True</td>\n",
       "      <td>2012-06-09T00:00Z</td>\n",
       "      <td>2</td>\n",
       "      <td>True</td>\n",
       "      <td>False</td>\n",
       "      <td>1</td>\n",
       "      <td>High</td>\n",
       "      <td>TRECIS-CTIT-H-001</td>\n",
       "      <td>...</td>\n",
       "      <td>4726</td>\n",
       "      <td>False</td>\n",
       "      <td>70</td>\n",
       "      <td>10701</td>\n",
       "      <td>8510</td>\n",
       "      <td>2684</td>\n",
       "      <td>Angela Thorpe</td>\n",
       "      <td>0</td>\n",
       "      <td>fireColorado2012</td>\n",
       "      <td>wildfire</td>\n",
       "    </tr>\n",
       "    <tr>\n",
       "      <td>4</td>\n",
       "      <td>585</td>\n",
       "      <td>False</td>\n",
       "      <td>True</td>\n",
       "      <td>2012-06-09T00:00Z</td>\n",
       "      <td>0</td>\n",
       "      <td>True</td>\n",
       "      <td>False</td>\n",
       "      <td>1</td>\n",
       "      <td>Medium</td>\n",
       "      <td>TRECIS-CTIT-H-001</td>\n",
       "      <td>...</td>\n",
       "      <td>104963</td>\n",
       "      <td>False</td>\n",
       "      <td>1101</td>\n",
       "      <td>15871</td>\n",
       "      <td>68367</td>\n",
       "      <td>113859</td>\n",
       "      <td>William Scherer</td>\n",
       "      <td>0</td>\n",
       "      <td>fireColorado2012</td>\n",
       "      <td>wildfire</td>\n",
       "    </tr>\n",
       "  </tbody>\n",
       "</table>\n",
       "<p>5 rows × 23 columns</p>\n",
       "</div>"
      ],
      "text/plain": [
       "  Tweet_ID  isTruncated  n.properties.possibly_sensitive         created_at  \\\n",
       "0      582        False                            False  2012-06-09T00:00Z   \n",
       "1      583        False                            False  2012-06-09T00:00Z   \n",
       "2      775        False                             True  2012-06-21T00:00Z   \n",
       "3      584        False                             True  2012-06-09T00:00Z   \n",
       "4      585        False                             True  2012-06-09T00:00Z   \n",
       "\n",
       "   retweet_count  n.properties.annotation_annotated  is_quote_status  \\\n",
       "0              0                               True            False   \n",
       "1              3                               True            False   \n",
       "2              1                               True            False   \n",
       "3              2                               True            False   \n",
       "4              0                               True            False   \n",
       "\n",
       "   annotation_num_judgements annotation_postPriority              topic  ...  \\\n",
       "0                          3                     Low  TRECIS-CTIT-H-001  ...   \n",
       "1                          1                  Medium  TRECIS-CTIT-H-001  ...   \n",
       "2                          1                    High  TRECIS-CTIT-H-001  ...   \n",
       "3                          1                    High  TRECIS-CTIT-H-001  ...   \n",
       "4                          1                  Medium  TRECIS-CTIT-H-001  ...   \n",
       "\n",
       "   friends_count isVerified listed_count  statuses_count  favourites_count  \\\n",
       "0            400      False            3           13211               196   \n",
       "1           4930      False          309           54980              1176   \n",
       "2           4930      False          309           54980              1176   \n",
       "3           4726      False           70           10701              8510   \n",
       "4         104963      False         1101           15871             68367   \n",
       "\n",
       "   followers_count             name  Event_ID  Description_Event eventType  \n",
       "0              537             Jeff         0   fireColorado2012  wildfire  \n",
       "1             4740         MarilynF         0   fireColorado2012  wildfire  \n",
       "2             4740         MarilynF         0   fireColorado2012  wildfire  \n",
       "3             2684    Angela Thorpe         0   fireColorado2012  wildfire  \n",
       "4           113859  William Scherer         0   fireColorado2012  wildfire  \n",
       "\n",
       "[5 rows x 23 columns]"
      ]
     },
     "execution_count": 11,
     "metadata": {},
     "output_type": "execute_result"
    }
   ],
   "source": [
    "df_tweet=df_tweet.merge(df_event,on=\"topic\")\n",
    "df_tweet.head()"
   ]
  },
  {
   "cell_type": "code",
   "execution_count": 12,
   "metadata": {},
   "outputs": [
    {
     "data": {
      "text/html": [
       "<div>\n",
       "<style scoped>\n",
       "    .dataframe tbody tr th:only-of-type {\n",
       "        vertical-align: middle;\n",
       "    }\n",
       "\n",
       "    .dataframe tbody tr th {\n",
       "        vertical-align: top;\n",
       "    }\n",
       "\n",
       "    .dataframe thead th {\n",
       "        text-align: right;\n",
       "    }\n",
       "</style>\n",
       "<table border=\"1\" class=\"dataframe\">\n",
       "  <thead>\n",
       "    <tr style=\"text-align: right;\">\n",
       "      <th></th>\n",
       "      <th>Hashtag_ID</th>\n",
       "      <th>occurences</th>\n",
       "      <th>Description_Hashtag</th>\n",
       "    </tr>\n",
       "  </thead>\n",
       "  <tbody>\n",
       "    <tr>\n",
       "      <td>0</td>\n",
       "      <td>34</td>\n",
       "      <td>2540</td>\n",
       "      <td>ymmfire</td>\n",
       "    </tr>\n",
       "    <tr>\n",
       "      <td>1</td>\n",
       "      <td>35</td>\n",
       "      <td>2291</td>\n",
       "      <td>RubyPH</td>\n",
       "    </tr>\n",
       "    <tr>\n",
       "      <td>2</td>\n",
       "      <td>36</td>\n",
       "      <td>1434</td>\n",
       "      <td>NepalEarthquake</td>\n",
       "    </tr>\n",
       "    <tr>\n",
       "      <td>3</td>\n",
       "      <td>37</td>\n",
       "      <td>1264</td>\n",
       "      <td>ymm</td>\n",
       "    </tr>\n",
       "    <tr>\n",
       "      <td>4</td>\n",
       "      <td>38</td>\n",
       "      <td>1127</td>\n",
       "      <td>Nepal</td>\n",
       "    </tr>\n",
       "  </tbody>\n",
       "</table>\n",
       "</div>"
      ],
      "text/plain": [
       "  Hashtag_ID  occurences Description_Hashtag\n",
       "0         34        2540             ymmfire\n",
       "1         35        2291              RubyPH\n",
       "2         36        1434     NepalEarthquake\n",
       "3         37        1264                 ymm\n",
       "4         38        1127               Nepal"
      ]
     },
     "execution_count": 12,
     "metadata": {},
     "output_type": "execute_result"
    }
   ],
   "source": [
    "df_hashtag=df_hashtag.drop(['n.type','n.labels'], axis=1)\n",
    "df_hashtag=df_hashtag.rename(columns={\"n.id\":\"Hashtag_ID\",\"n.properties.occurences\":\"occurences\",\"n.properties.id\":\"Description_Hashtag\"})\n",
    "df_hashtag.head()"
   ]
  },
  {
   "cell_type": "code",
   "execution_count": 13,
   "metadata": {},
   "outputs": [
    {
     "data": {
      "text/html": [
       "<div>\n",
       "<style scoped>\n",
       "    .dataframe tbody tr th:only-of-type {\n",
       "        vertical-align: middle;\n",
       "    }\n",
       "\n",
       "    .dataframe tbody tr th {\n",
       "        vertical-align: top;\n",
       "    }\n",
       "\n",
       "    .dataframe thead th {\n",
       "        text-align: right;\n",
       "    }\n",
       "</style>\n",
       "<table border=\"1\" class=\"dataframe\">\n",
       "  <thead>\n",
       "    <tr style=\"text-align: right;\">\n",
       "      <th></th>\n",
       "      <th>Tweet_ID</th>\n",
       "      <th>Hashtag_ID</th>\n",
       "    </tr>\n",
       "  </thead>\n",
       "  <tbody>\n",
       "    <tr>\n",
       "      <td>0</td>\n",
       "      <td>582</td>\n",
       "      <td>100609</td>\n",
       "    </tr>\n",
       "    <tr>\n",
       "      <td>1</td>\n",
       "      <td>582</td>\n",
       "      <td>99813</td>\n",
       "    </tr>\n",
       "    <tr>\n",
       "      <td>2</td>\n",
       "      <td>583</td>\n",
       "      <td>89</td>\n",
       "    </tr>\n",
       "    <tr>\n",
       "      <td>3</td>\n",
       "      <td>584</td>\n",
       "      <td>123</td>\n",
       "    </tr>\n",
       "    <tr>\n",
       "      <td>4</td>\n",
       "      <td>584</td>\n",
       "      <td>101169</td>\n",
       "    </tr>\n",
       "  </tbody>\n",
       "</table>\n",
       "</div>"
      ],
      "text/plain": [
       "  Tweet_ID Hashtag_ID\n",
       "0      582     100609\n",
       "1      582      99813\n",
       "2      583         89\n",
       "3      584        123\n",
       "4      584     101169"
      ]
     },
     "execution_count": 13,
     "metadata": {},
     "output_type": "execute_result"
    }
   ],
   "source": [
    "df_has_hashtag=df_has_hashtag.drop(['r.id','r.type','r.label','r.start.labels','r.end.labels'], axis=1)\n",
    "df_has_hashtag=df_has_hashtag.rename(columns={\"r.start.id\":\"Tweet_ID\",\"r.end.id\":\"Hashtag_ID\"})\n",
    "df_has_hashtag.head()"
   ]
  },
  {
   "cell_type": "code",
   "execution_count": 14,
   "metadata": {},
   "outputs": [
    {
     "data": {
      "text/html": [
       "<div>\n",
       "<style scoped>\n",
       "    .dataframe tbody tr th:only-of-type {\n",
       "        vertical-align: middle;\n",
       "    }\n",
       "\n",
       "    .dataframe tbody tr th {\n",
       "        vertical-align: top;\n",
       "    }\n",
       "\n",
       "    .dataframe thead th {\n",
       "        text-align: right;\n",
       "    }\n",
       "</style>\n",
       "<table border=\"1\" class=\"dataframe\">\n",
       "  <thead>\n",
       "    <tr style=\"text-align: right;\">\n",
       "      <th></th>\n",
       "      <th>Tweet_ID</th>\n",
       "      <th>isTruncated</th>\n",
       "      <th>n.properties.possibly_sensitive</th>\n",
       "      <th>created_at</th>\n",
       "      <th>retweet_count</th>\n",
       "      <th>n.properties.annotation_annotated</th>\n",
       "      <th>is_quote_status</th>\n",
       "      <th>annotation_num_judgements</th>\n",
       "      <th>annotation_postPriority</th>\n",
       "      <th>topic</th>\n",
       "      <th>...</th>\n",
       "      <th>isVerified</th>\n",
       "      <th>listed_count</th>\n",
       "      <th>statuses_count</th>\n",
       "      <th>favourites_count</th>\n",
       "      <th>followers_count</th>\n",
       "      <th>name</th>\n",
       "      <th>Event_ID</th>\n",
       "      <th>Description_Event</th>\n",
       "      <th>eventType</th>\n",
       "      <th>Hashtag_ID</th>\n",
       "    </tr>\n",
       "  </thead>\n",
       "  <tbody>\n",
       "    <tr>\n",
       "      <td>0</td>\n",
       "      <td>582</td>\n",
       "      <td>False</td>\n",
       "      <td>False</td>\n",
       "      <td>2012-06-09T00:00Z</td>\n",
       "      <td>0</td>\n",
       "      <td>True</td>\n",
       "      <td>False</td>\n",
       "      <td>3</td>\n",
       "      <td>Low</td>\n",
       "      <td>TRECIS-CTIT-H-001</td>\n",
       "      <td>...</td>\n",
       "      <td>False</td>\n",
       "      <td>3</td>\n",
       "      <td>13211</td>\n",
       "      <td>196</td>\n",
       "      <td>537</td>\n",
       "      <td>Jeff</td>\n",
       "      <td>0</td>\n",
       "      <td>fireColorado2012</td>\n",
       "      <td>wildfire</td>\n",
       "      <td>100609</td>\n",
       "    </tr>\n",
       "    <tr>\n",
       "      <td>1</td>\n",
       "      <td>582</td>\n",
       "      <td>False</td>\n",
       "      <td>False</td>\n",
       "      <td>2012-06-09T00:00Z</td>\n",
       "      <td>0</td>\n",
       "      <td>True</td>\n",
       "      <td>False</td>\n",
       "      <td>3</td>\n",
       "      <td>Low</td>\n",
       "      <td>TRECIS-CTIT-H-001</td>\n",
       "      <td>...</td>\n",
       "      <td>False</td>\n",
       "      <td>3</td>\n",
       "      <td>13211</td>\n",
       "      <td>196</td>\n",
       "      <td>537</td>\n",
       "      <td>Jeff</td>\n",
       "      <td>0</td>\n",
       "      <td>fireColorado2012</td>\n",
       "      <td>wildfire</td>\n",
       "      <td>99813</td>\n",
       "    </tr>\n",
       "    <tr>\n",
       "      <td>2</td>\n",
       "      <td>583</td>\n",
       "      <td>False</td>\n",
       "      <td>False</td>\n",
       "      <td>2012-06-09T00:00Z</td>\n",
       "      <td>3</td>\n",
       "      <td>True</td>\n",
       "      <td>False</td>\n",
       "      <td>1</td>\n",
       "      <td>Medium</td>\n",
       "      <td>TRECIS-CTIT-H-001</td>\n",
       "      <td>...</td>\n",
       "      <td>False</td>\n",
       "      <td>309</td>\n",
       "      <td>54980</td>\n",
       "      <td>1176</td>\n",
       "      <td>4740</td>\n",
       "      <td>MarilynF</td>\n",
       "      <td>0</td>\n",
       "      <td>fireColorado2012</td>\n",
       "      <td>wildfire</td>\n",
       "      <td>89</td>\n",
       "    </tr>\n",
       "    <tr>\n",
       "      <td>3</td>\n",
       "      <td>775</td>\n",
       "      <td>False</td>\n",
       "      <td>True</td>\n",
       "      <td>2012-06-21T00:00Z</td>\n",
       "      <td>1</td>\n",
       "      <td>True</td>\n",
       "      <td>False</td>\n",
       "      <td>1</td>\n",
       "      <td>High</td>\n",
       "      <td>TRECIS-CTIT-H-001</td>\n",
       "      <td>...</td>\n",
       "      <td>False</td>\n",
       "      <td>309</td>\n",
       "      <td>54980</td>\n",
       "      <td>1176</td>\n",
       "      <td>4740</td>\n",
       "      <td>MarilynF</td>\n",
       "      <td>0</td>\n",
       "      <td>fireColorado2012</td>\n",
       "      <td>wildfire</td>\n",
       "      <td>89</td>\n",
       "    </tr>\n",
       "    <tr>\n",
       "      <td>4</td>\n",
       "      <td>584</td>\n",
       "      <td>False</td>\n",
       "      <td>True</td>\n",
       "      <td>2012-06-09T00:00Z</td>\n",
       "      <td>2</td>\n",
       "      <td>True</td>\n",
       "      <td>False</td>\n",
       "      <td>1</td>\n",
       "      <td>High</td>\n",
       "      <td>TRECIS-CTIT-H-001</td>\n",
       "      <td>...</td>\n",
       "      <td>False</td>\n",
       "      <td>70</td>\n",
       "      <td>10701</td>\n",
       "      <td>8510</td>\n",
       "      <td>2684</td>\n",
       "      <td>Angela Thorpe</td>\n",
       "      <td>0</td>\n",
       "      <td>fireColorado2012</td>\n",
       "      <td>wildfire</td>\n",
       "      <td>123</td>\n",
       "    </tr>\n",
       "  </tbody>\n",
       "</table>\n",
       "<p>5 rows × 24 columns</p>\n",
       "</div>"
      ],
      "text/plain": [
       "  Tweet_ID  isTruncated  n.properties.possibly_sensitive         created_at  \\\n",
       "0      582        False                            False  2012-06-09T00:00Z   \n",
       "1      582        False                            False  2012-06-09T00:00Z   \n",
       "2      583        False                            False  2012-06-09T00:00Z   \n",
       "3      775        False                             True  2012-06-21T00:00Z   \n",
       "4      584        False                             True  2012-06-09T00:00Z   \n",
       "\n",
       "   retweet_count  n.properties.annotation_annotated  is_quote_status  \\\n",
       "0              0                               True            False   \n",
       "1              0                               True            False   \n",
       "2              3                               True            False   \n",
       "3              1                               True            False   \n",
       "4              2                               True            False   \n",
       "\n",
       "   annotation_num_judgements annotation_postPriority              topic  ...  \\\n",
       "0                          3                     Low  TRECIS-CTIT-H-001  ...   \n",
       "1                          3                     Low  TRECIS-CTIT-H-001  ...   \n",
       "2                          1                  Medium  TRECIS-CTIT-H-001  ...   \n",
       "3                          1                    High  TRECIS-CTIT-H-001  ...   \n",
       "4                          1                    High  TRECIS-CTIT-H-001  ...   \n",
       "\n",
       "   isVerified listed_count statuses_count  favourites_count  followers_count  \\\n",
       "0       False            3          13211               196              537   \n",
       "1       False            3          13211               196              537   \n",
       "2       False          309          54980              1176             4740   \n",
       "3       False          309          54980              1176             4740   \n",
       "4       False           70          10701              8510             2684   \n",
       "\n",
       "            name  Event_ID  Description_Event  eventType Hashtag_ID  \n",
       "0           Jeff         0   fireColorado2012   wildfire     100609  \n",
       "1           Jeff         0   fireColorado2012   wildfire      99813  \n",
       "2       MarilynF         0   fireColorado2012   wildfire         89  \n",
       "3       MarilynF         0   fireColorado2012   wildfire         89  \n",
       "4  Angela Thorpe         0   fireColorado2012   wildfire        123  \n",
       "\n",
       "[5 rows x 24 columns]"
      ]
     },
     "execution_count": 14,
     "metadata": {},
     "output_type": "execute_result"
    }
   ],
   "source": [
    "df_tweet=df_tweet.merge(df_has_hashtag,on=\"Tweet_ID\")\n",
    "df_tweet.head()"
   ]
  },
  {
   "cell_type": "code",
   "execution_count": 15,
   "metadata": {},
   "outputs": [
    {
     "data": {
      "text/html": [
       "<div>\n",
       "<style scoped>\n",
       "    .dataframe tbody tr th:only-of-type {\n",
       "        vertical-align: middle;\n",
       "    }\n",
       "\n",
       "    .dataframe tbody tr th {\n",
       "        vertical-align: top;\n",
       "    }\n",
       "\n",
       "    .dataframe thead th {\n",
       "        text-align: right;\n",
       "    }\n",
       "</style>\n",
       "<table border=\"1\" class=\"dataframe\">\n",
       "  <thead>\n",
       "    <tr style=\"text-align: right;\">\n",
       "      <th></th>\n",
       "      <th>Tweet_ID</th>\n",
       "      <th>isTruncated</th>\n",
       "      <th>n.properties.possibly_sensitive</th>\n",
       "      <th>created_at</th>\n",
       "      <th>retweet_count</th>\n",
       "      <th>n.properties.annotation_annotated</th>\n",
       "      <th>is_quote_status</th>\n",
       "      <th>annotation_num_judgements</th>\n",
       "      <th>annotation_postPriority</th>\n",
       "      <th>topic</th>\n",
       "      <th>...</th>\n",
       "      <th>statuses_count</th>\n",
       "      <th>favourites_count</th>\n",
       "      <th>followers_count</th>\n",
       "      <th>name</th>\n",
       "      <th>Event_ID</th>\n",
       "      <th>Description_Event</th>\n",
       "      <th>eventType</th>\n",
       "      <th>Hashtag_ID</th>\n",
       "      <th>occurences</th>\n",
       "      <th>Description_Hashtag</th>\n",
       "    </tr>\n",
       "  </thead>\n",
       "  <tbody>\n",
       "    <tr>\n",
       "      <td>0</td>\n",
       "      <td>582</td>\n",
       "      <td>False</td>\n",
       "      <td>False</td>\n",
       "      <td>2012-06-09T00:00Z</td>\n",
       "      <td>0</td>\n",
       "      <td>True</td>\n",
       "      <td>False</td>\n",
       "      <td>3</td>\n",
       "      <td>Low</td>\n",
       "      <td>TRECIS-CTIT-H-001</td>\n",
       "      <td>...</td>\n",
       "      <td>13211</td>\n",
       "      <td>196</td>\n",
       "      <td>537</td>\n",
       "      <td>Jeff</td>\n",
       "      <td>0</td>\n",
       "      <td>fireColorado2012</td>\n",
       "      <td>wildfire</td>\n",
       "      <td>100609</td>\n",
       "      <td>3</td>\n",
       "      <td>amazing</td>\n",
       "    </tr>\n",
       "    <tr>\n",
       "      <td>1</td>\n",
       "      <td>28610</td>\n",
       "      <td>True</td>\n",
       "      <td>False</td>\n",
       "      <td>2018-09-16T00:00Z</td>\n",
       "      <td>0</td>\n",
       "      <td>True</td>\n",
       "      <td>True</td>\n",
       "      <td>3</td>\n",
       "      <td>Low</td>\n",
       "      <td>TRECIS-CTIT-H-026</td>\n",
       "      <td>...</td>\n",
       "      <td>154</td>\n",
       "      <td>392</td>\n",
       "      <td>3666</td>\n",
       "      <td>Crystal Norman</td>\n",
       "      <td>25</td>\n",
       "      <td>hurricaneFlorence2018</td>\n",
       "      <td>typhoon</td>\n",
       "      <td>100609</td>\n",
       "      <td>3</td>\n",
       "      <td>amazing</td>\n",
       "    </tr>\n",
       "    <tr>\n",
       "      <td>2</td>\n",
       "      <td>6516</td>\n",
       "      <td>False</td>\n",
       "      <td>False</td>\n",
       "      <td>2013-10-24T00:00Z</td>\n",
       "      <td>0</td>\n",
       "      <td>True</td>\n",
       "      <td>False</td>\n",
       "      <td>1</td>\n",
       "      <td>Low</td>\n",
       "      <td>TRECIS-CTIT-H-011</td>\n",
       "      <td>...</td>\n",
       "      <td>6328</td>\n",
       "      <td>5139</td>\n",
       "      <td>2268</td>\n",
       "      <td>Stacey Bridewell??</td>\n",
       "      <td>10</td>\n",
       "      <td>australiaBushfire2013</td>\n",
       "      <td>wildfire</td>\n",
       "      <td>100609</td>\n",
       "      <td>3</td>\n",
       "      <td>amazing</td>\n",
       "    </tr>\n",
       "    <tr>\n",
       "      <td>3</td>\n",
       "      <td>582</td>\n",
       "      <td>False</td>\n",
       "      <td>False</td>\n",
       "      <td>2012-06-09T00:00Z</td>\n",
       "      <td>0</td>\n",
       "      <td>True</td>\n",
       "      <td>False</td>\n",
       "      <td>3</td>\n",
       "      <td>Low</td>\n",
       "      <td>TRECIS-CTIT-H-001</td>\n",
       "      <td>...</td>\n",
       "      <td>13211</td>\n",
       "      <td>196</td>\n",
       "      <td>537</td>\n",
       "      <td>Jeff</td>\n",
       "      <td>0</td>\n",
       "      <td>fireColorado2012</td>\n",
       "      <td>wildfire</td>\n",
       "      <td>99813</td>\n",
       "      <td>8</td>\n",
       "      <td>colorado</td>\n",
       "    </tr>\n",
       "    <tr>\n",
       "      <td>4</td>\n",
       "      <td>2231</td>\n",
       "      <td>False</td>\n",
       "      <td>False</td>\n",
       "      <td>2013-09-21T00:00Z</td>\n",
       "      <td>0</td>\n",
       "      <td>False</td>\n",
       "      <td>False</td>\n",
       "      <td>0</td>\n",
       "      <td>Unknown</td>\n",
       "      <td>TRECIS-CTIT-H-003</td>\n",
       "      <td>...</td>\n",
       "      <td>36242</td>\n",
       "      <td>81</td>\n",
       "      <td>9379</td>\n",
       "      <td>Aspen Times</td>\n",
       "      <td>2</td>\n",
       "      <td>floodColorado2013</td>\n",
       "      <td>flood</td>\n",
       "      <td>99813</td>\n",
       "      <td>8</td>\n",
       "      <td>colorado</td>\n",
       "    </tr>\n",
       "  </tbody>\n",
       "</table>\n",
       "<p>5 rows × 26 columns</p>\n",
       "</div>"
      ],
      "text/plain": [
       "  Tweet_ID  isTruncated  n.properties.possibly_sensitive         created_at  \\\n",
       "0      582        False                            False  2012-06-09T00:00Z   \n",
       "1    28610         True                            False  2018-09-16T00:00Z   \n",
       "2     6516        False                            False  2013-10-24T00:00Z   \n",
       "3      582        False                            False  2012-06-09T00:00Z   \n",
       "4     2231        False                            False  2013-09-21T00:00Z   \n",
       "\n",
       "   retweet_count  n.properties.annotation_annotated  is_quote_status  \\\n",
       "0              0                               True            False   \n",
       "1              0                               True             True   \n",
       "2              0                               True            False   \n",
       "3              0                               True            False   \n",
       "4              0                              False            False   \n",
       "\n",
       "   annotation_num_judgements annotation_postPriority              topic  ...  \\\n",
       "0                          3                     Low  TRECIS-CTIT-H-001  ...   \n",
       "1                          3                     Low  TRECIS-CTIT-H-026  ...   \n",
       "2                          1                     Low  TRECIS-CTIT-H-011  ...   \n",
       "3                          3                     Low  TRECIS-CTIT-H-001  ...   \n",
       "4                          0                 Unknown  TRECIS-CTIT-H-003  ...   \n",
       "\n",
       "   statuses_count favourites_count followers_count                name  \\\n",
       "0           13211              196             537                Jeff   \n",
       "1             154              392            3666      Crystal Norman   \n",
       "2            6328             5139            2268  Stacey Bridewell??   \n",
       "3           13211              196             537                Jeff   \n",
       "4           36242               81            9379         Aspen Times   \n",
       "\n",
       "   Event_ID      Description_Event  eventType  Hashtag_ID  occurences  \\\n",
       "0         0       fireColorado2012   wildfire      100609           3   \n",
       "1        25  hurricaneFlorence2018    typhoon      100609           3   \n",
       "2        10  australiaBushfire2013   wildfire      100609           3   \n",
       "3         0       fireColorado2012   wildfire       99813           8   \n",
       "4         2      floodColorado2013      flood       99813           8   \n",
       "\n",
       "  Description_Hashtag  \n",
       "0             amazing  \n",
       "1             amazing  \n",
       "2             amazing  \n",
       "3            colorado  \n",
       "4            colorado  \n",
       "\n",
       "[5 rows x 26 columns]"
      ]
     },
     "execution_count": 15,
     "metadata": {},
     "output_type": "execute_result"
    }
   ],
   "source": [
    "df_tweet=df_tweet.merge(df_hashtag,on=\"Hashtag_ID\")\n",
    "df_tweet.head()"
   ]
  },
  {
   "cell_type": "code",
   "execution_count": 16,
   "metadata": {},
   "outputs": [],
   "source": [
    "df_final=df_tweet.copy()"
   ]
  },
  {
   "cell_type": "code",
   "execution_count": 17,
   "metadata": {},
   "outputs": [
    {
     "data": {
      "text/plain": [
       "(55414, 26)"
      ]
     },
     "execution_count": 17,
     "metadata": {},
     "output_type": "execute_result"
    }
   ],
   "source": [
    "df_final.shape"
   ]
  },
  {
   "cell_type": "markdown",
   "metadata": {},
   "source": [
    "Finally, we have 55414 tweets with 26 columns to predict the criticality of the post."
   ]
  },
  {
   "cell_type": "code",
   "execution_count": 18,
   "metadata": {},
   "outputs": [
    {
     "data": {
      "text/plain": [
       "Index(['Tweet_ID', 'isTruncated', 'n.properties.possibly_sensitive',\n",
       "       'created_at', 'retweet_count', 'n.properties.annotation_annotated',\n",
       "       'is_quote_status', 'annotation_num_judgements',\n",
       "       'annotation_postPriority', 'topic', 'favorite_count', 'text', 'User_ID',\n",
       "       'friends_count', 'isVerified', 'listed_count', 'statuses_count',\n",
       "       'favourites_count', 'followers_count', 'name', 'Event_ID',\n",
       "       'Description_Event', 'eventType', 'Hashtag_ID', 'occurences',\n",
       "       'Description_Hashtag'],\n",
       "      dtype='object')"
      ]
     },
     "execution_count": 18,
     "metadata": {},
     "output_type": "execute_result"
    }
   ],
   "source": [
    "df_final.columns"
   ]
  },
  {
   "cell_type": "code",
   "execution_count": 41,
   "metadata": {},
   "outputs": [],
   "source": [
    "df_final = df_final.rename(columns={'n.properties.possibly_sensitive': 'possibly_sensitive'})"
   ]
  },
  {
   "cell_type": "markdown",
   "metadata": {},
   "source": [
    "## 1.1. Exploration of the variable \"User_ID\""
   ]
  },
  {
   "cell_type": "code",
   "execution_count": 42,
   "metadata": {},
   "outputs": [
    {
     "name": "stdout",
     "output_type": "stream",
     "text": [
      "The tweets from the dataframe are written by 22147 unique users.\n"
     ]
    }
   ],
   "source": [
    "# Number of users in the dataframe\n",
    "print(\"The tweets from the dataframe are written by\", len(np.unique(df_final['User_ID'])), \"unique users.\")"
   ]
  },
  {
   "cell_type": "code",
   "execution_count": 43,
   "metadata": {},
   "outputs": [
    {
     "data": {
      "text/plain": [
       "0"
      ]
     },
     "execution_count": 43,
     "metadata": {},
     "output_type": "execute_result"
    }
   ],
   "source": [
    "#Missing values?\n",
    "df_final['User_ID'].isna().sum()"
   ]
  },
  {
   "cell_type": "code",
   "execution_count": 44,
   "metadata": {},
   "outputs": [
    {
     "data": {
      "text/plain": [
       "87962    196\n",
       "85146    169\n",
       "85160    165\n",
       "67357    154\n",
       "65061    144\n",
       "        ... \n",
       "77742      1\n",
       "62071      1\n",
       "69472      1\n",
       "87844      1\n",
       "76455      1\n",
       "Name: User_ID, Length: 22147, dtype: int64"
      ]
     },
     "execution_count": 44,
     "metadata": {},
     "output_type": "execute_result"
    }
   ],
   "source": [
    "#Number of tweets written by each user\n",
    "nb_tweets = df_final['User_ID'].astype(str).value_counts(ascending = False)\n",
    "nb_tweets"
   ]
  },
  {
   "cell_type": "code",
   "execution_count": 45,
   "metadata": {},
   "outputs": [
    {
     "data": {
      "text/plain": [
       "count    22147.00000\n",
       "mean         2.50210\n",
       "std          4.85809\n",
       "min          1.00000\n",
       "25%          1.00000\n",
       "50%          2.00000\n",
       "75%          3.00000\n",
       "max        196.00000\n",
       "Name: User_ID, dtype: float64"
      ]
     },
     "execution_count": 45,
     "metadata": {},
     "output_type": "execute_result"
    }
   ],
   "source": [
    "#Summary statistics about the number of tweets written by each user\n",
    "nb_tweets.describe()"
   ]
  },
  {
   "cell_type": "code",
   "execution_count": 46,
   "metadata": {},
   "outputs": [
    {
     "data": {
      "text/plain": [
       "87962    196\n",
       "85146    169\n",
       "85160    165\n",
       "67357    154\n",
       "65061    144\n",
       "        ... \n",
       "78204      2\n",
       "98146      2\n",
       "83549      2\n",
       "97333      2\n",
       "98692      2\n",
       "Name: User_ID, Length: 11169, dtype: int64"
      ]
     },
     "execution_count": 46,
     "metadata": {},
     "output_type": "execute_result"
    }
   ],
   "source": [
    "#Number of tweets written by each user if the number is higher than 1\n",
    "nb_tweets[nb_tweets>1]"
   ]
  },
  {
   "cell_type": "code",
   "execution_count": 47,
   "metadata": {},
   "outputs": [
    {
     "data": {
      "text/plain": [
       "87962    0.353701\n",
       "85146    0.304977\n",
       "85160    0.297759\n",
       "67357    0.277908\n",
       "65061    0.259862\n",
       "           ...   \n",
       "77742    0.001805\n",
       "62071    0.001805\n",
       "69472    0.001805\n",
       "87844    0.001805\n",
       "76455    0.001805\n",
       "Name: User_ID, Length: 22147, dtype: float64"
      ]
     },
     "execution_count": 47,
     "metadata": {},
     "output_type": "execute_result"
    }
   ],
   "source": [
    "# Percentage of tweets written by each user\n",
    "df_final['User_ID'].astype(str).value_counts(ascending = False, normalize = True)*100"
   ]
  },
  {
   "cell_type": "code",
   "execution_count": 48,
   "metadata": {},
   "outputs": [
    {
     "data": {
      "image/png": "[encoded data removed]",
      "text/plain": [
       "<Figure size 432x288 with 1 Axes>"
      ]
     },
     "metadata": {
      "needs_background": "light"
     },
     "output_type": "display_data"
    }
   ],
   "source": [
    "sns.distplot(df_final.User_ID.astype(int), kde=True)\n",
    "plt.show()"
   ]
  },
  {
   "cell_type": "markdown",
   "metadata": {},
   "source": [
    "## 1.2 Exploration of the variable \"Tweet_ID\""
   ]
  },
  {
   "cell_type": "code",
   "execution_count": 49,
   "metadata": {},
   "outputs": [
    {
     "data": {
      "text/plain": [
       "29592"
      ]
     },
     "execution_count": 49,
     "metadata": {},
     "output_type": "execute_result"
    }
   ],
   "source": [
    "# Number of different tweets\n",
    "len(np.unique(df_final['Tweet_ID']))"
   ]
  },
  {
   "cell_type": "code",
   "execution_count": 50,
   "metadata": {},
   "outputs": [
    {
     "data": {
      "text/plain": [
       "0"
      ]
     },
     "execution_count": 50,
     "metadata": {},
     "output_type": "execute_result"
    }
   ],
   "source": [
    "#Number of missing values\n",
    "df_final['Tweet_ID'].isna().sum()"
   ]
  },
  {
   "cell_type": "code",
   "execution_count": 51,
   "metadata": {},
   "outputs": [
    {
     "data": {
      "image/png": "[encoded data removed]",
      "text/plain": [
       "<Figure size 432x288 with 1 Axes>"
      ]
     },
     "metadata": {
      "needs_background": "light"
     },
     "output_type": "display_data"
    }
   ],
   "source": [
    "sns.distplot(df_final.Tweet_ID.astype(int), kde=True)\n",
    "plt.show()"
   ]
  },
  {
   "cell_type": "markdown",
   "metadata": {},
   "source": [
    "## 1.3 Exploration of the variable \"possibly_sensitive\""
   ]
  },
  {
   "cell_type": "markdown",
   "metadata": {},
   "source": [
    "This field indicates content may be recognized as sensitive."
   ]
  },
  {
   "cell_type": "code",
   "execution_count": 53,
   "metadata": {},
   "outputs": [
    {
     "data": {
      "text/plain": [
       "0"
      ]
     },
     "execution_count": 53,
     "metadata": {},
     "output_type": "execute_result"
    }
   ],
   "source": [
    "#Number of missing values\n",
    "df_final['possibly_sensitive'].isna().sum()"
   ]
  },
  {
   "cell_type": "code",
   "execution_count": 55,
   "metadata": {},
   "outputs": [
    {
     "data": {
      "text/plain": [
       "possibly_sensitive\n",
       "False    32949\n",
       "True     22465\n",
       "dtype: int64"
      ]
     },
     "execution_count": 55,
     "metadata": {},
     "output_type": "execute_result"
    }
   ],
   "source": [
    "#Frequency of the variable possibly_sensitive\n",
    "df_final.groupby('possibly_sensitive').size()"
   ]
  },
  {
   "cell_type": "code",
   "execution_count": 57,
   "metadata": {},
   "outputs": [
    {
     "data": {
      "text/plain": [
       "False    59.459703\n",
       "True     40.540297\n",
       "Name: possibly_sensitive, dtype: float64"
      ]
     },
     "execution_count": 57,
     "metadata": {},
     "output_type": "execute_result"
    }
   ],
   "source": [
    "#Percentage of tweets with a sensitivity.\n",
    "df_final['possibly_sensitive'].astype(str).value_counts(ascending = False, normalize = True)*100"
   ]
  },
  {
   "cell_type": "markdown",
   "metadata": {},
   "source": [
    "Most of the tweets are not sensitive."
   ]
  },
  {
   "cell_type": "code",
   "execution_count": 58,
   "metadata": {},
   "outputs": [
    {
     "data": {
      "image/png": "[encoded data removed]",
      "text/plain": [
       "<Figure size 360x360 with 1 Axes>"
      ]
     },
     "metadata": {
      "needs_background": "light"
     },
     "output_type": "display_data"
    }
   ],
   "source": [
    "freq_sensitive = df_final[\"possibly_sensitive\"].astype(str).value_counts(normalize=True)*100\n",
    "l = []\n",
    "\n",
    "for i in range (freq_sensitive.shape[0]):\n",
    "    l.append({\"sensitive\":freq_sensitive.index[i], \"percent\":freq_sensitive[i]})\n",
    "\n",
    "df_dic = pd.DataFrame(l)\n",
    "\n",
    "g = sns.catplot(x = \"sensitive\", y = \"percent\", kind= 'bar',data = df_dic, palette = 'PuBuGn_r')\n",
    "\n",
    "# We add the frequencies at the top of each bar\n",
    "for p in g.ax.patches:\n",
    "    txt = str(p.get_height().round(1)) + '%'\n",
    "    txt_x = p.get_x()\n",
    "    txt_y = p.get_height()\n",
    "    g.ax.text(txt_x,txt_y,txt)"
   ]
  },
  {
   "cell_type": "markdown",
   "metadata": {},
   "source": [
    "## 1.4 Exploration of the variable \"retweet_count\""
   ]
  },
  {
   "cell_type": "markdown",
   "metadata": {},
   "source": [
    "This variable counts the number of times the tweet has been retweeted."
   ]
  },
  {
   "cell_type": "code",
   "execution_count": 59,
   "metadata": {},
   "outputs": [
    {
     "data": {
      "text/plain": [
       "0"
      ]
     },
     "execution_count": 59,
     "metadata": {},
     "output_type": "execute_result"
    }
   ],
   "source": [
    "#Number of missing values\n",
    "df_final['retweet_count'].isna().sum()"
   ]
  },
  {
   "cell_type": "code",
   "execution_count": 60,
   "metadata": {},
   "outputs": [
    {
     "data": {
      "text/plain": [
       "retweet_count\n",
       "0         26931\n",
       "1          6910\n",
       "2          3453\n",
       "3          2249\n",
       "4          1626\n",
       "          ...  \n",
       "29792         9\n",
       "42049         4\n",
       "96368        24\n",
       "96370         2\n",
       "105154        1\n",
       "Length: 720, dtype: int64"
      ]
     },
     "execution_count": 60,
     "metadata": {},
     "output_type": "execute_result"
    }
   ],
   "source": [
    "#Frequency of the variable \"retweet_count\"\n",
    "df_final.groupby('retweet_count').size()"
   ]
  },
  {
   "cell_type": "code",
   "execution_count": 61,
   "metadata": {},
   "outputs": [
    {
     "data": {
      "text/plain": [
       "0       48.599632\n",
       "1       12.469773\n",
       "2        6.231277\n",
       "3        4.058541\n",
       "4        2.934277\n",
       "          ...    \n",
       "280      0.001805\n",
       "580      0.001805\n",
       "498      0.001805\n",
       "1796     0.001805\n",
       "374      0.001805\n",
       "Name: retweet_count, Length: 720, dtype: float64"
      ]
     },
     "execution_count": 61,
     "metadata": {},
     "output_type": "execute_result"
    }
   ],
   "source": [
    "# Percentage of tweets retweeted\n",
    "df_final['retweet_count'].astype(str).value_counts(ascending = False, normalize = True)*100"
   ]
  },
  {
   "cell_type": "markdown",
   "metadata": {},
   "source": [
    "Almost a half of tweets are not retweeted."
   ]
  },
  {
   "cell_type": "code",
   "execution_count": 62,
   "metadata": {},
   "outputs": [
    {
     "data": {
      "image/png": "[encoded data removed]",
      "text/plain": [
       "<Figure size 432x288 with 1 Axes>"
      ]
     },
     "metadata": {
      "needs_background": "light"
     },
     "output_type": "display_data"
    }
   ],
   "source": [
    "sns.distplot(df_final.retweet_count, kde=True)\n",
    "plt.show()"
   ]
  },
  {
   "cell_type": "markdown",
   "metadata": {},
   "source": [
    "## 1.5 Exploration of the variable \"Event_ID\""
   ]
  },
  {
   "cell_type": "markdown",
   "metadata": {},
   "source": [
    "It is the ID of the event (for instance, fireColorado2012...)"
   ]
  },
  {
   "cell_type": "code",
   "execution_count": 63,
   "metadata": {},
   "outputs": [
    {
     "data": {
      "text/plain": [
       "0"
      ]
     },
     "execution_count": 63,
     "metadata": {},
     "output_type": "execute_result"
    }
   ],
   "source": [
    "#Number of missing values\n",
    "df_final['Event_ID'].isna().sum()"
   ]
  },
  {
   "cell_type": "code",
   "execution_count": 64,
   "metadata": {},
   "outputs": [
    {
     "name": "stdout",
     "output_type": "stream",
     "text": [
      "The number of different events from the dataset is 34\n"
     ]
    }
   ],
   "source": [
    "print(\"The number of different events from the dataset is\", len(np.unique(df_final['Event_ID'])))"
   ]
  },
  {
   "cell_type": "markdown",
   "metadata": {},
   "source": [
    "## 1.6 Exploration of the variable \"Hashtag_ID\"."
   ]
  },
  {
   "cell_type": "code",
   "execution_count": 65,
   "metadata": {},
   "outputs": [
    {
     "data": {
      "text/plain": [
       "0"
      ]
     },
     "execution_count": 65,
     "metadata": {},
     "output_type": "execute_result"
    }
   ],
   "source": [
    "#Number of missing values\n",
    "df_final['Hashtag_ID'].isna().sum()"
   ]
  },
  {
   "cell_type": "code",
   "execution_count": 66,
   "metadata": {},
   "outputs": [
    {
     "data": {
      "text/plain": [
       "10441"
      ]
     },
     "execution_count": 66,
     "metadata": {},
     "output_type": "execute_result"
    }
   ],
   "source": [
    "#Number of different values\n",
    "len(np.unique(df_final['Hashtag_ID']))"
   ]
  },
  {
   "cell_type": "code",
   "execution_count": 67,
   "metadata": {},
   "outputs": [
    {
     "data": {
      "text/plain": [
       "Hashtag_ID\n",
       "100       114\n",
       "100000      6\n",
       "100001      6\n",
       "100002      6\n",
       "100003      6\n",
       "         ... \n",
       "99995       5\n",
       "99996       6\n",
       "99997       6\n",
       "99998       6\n",
       "99999       6\n",
       "Length: 10441, dtype: int64"
      ]
     },
     "execution_count": 67,
     "metadata": {},
     "output_type": "execute_result"
    }
   ],
   "source": [
    "#Frequency of the variable Hashtag_id\n",
    "df_final.groupby('Hashtag_ID').size()"
   ]
  },
  {
   "cell_type": "code",
   "execution_count": 69,
   "metadata": {},
   "outputs": [
    {
     "data": {
      "image/png": "[encoded data removed]",
      "text/plain": [
       "<Figure size 432x288 with 1 Axes>"
      ]
     },
     "metadata": {
      "needs_background": "light"
     },
     "output_type": "display_data"
    }
   ],
   "source": [
    "sns.distplot(df_final.Hashtag_ID.astype(int), kde=True)\n",
    "plt.show()"
   ]
  },
  {
   "cell_type": "markdown",
   "metadata": {},
   "source": [
    "## 1.7 Exploration of the variable \"occurences\""
   ]
  },
  {
   "cell_type": "markdown",
   "metadata": {},
   "source": [
    "It is the number of times the hashtag was used in the dataset."
   ]
  },
  {
   "cell_type": "code",
   "execution_count": 70,
   "metadata": {},
   "outputs": [
    {
     "data": {
      "text/plain": [
       "0"
      ]
     },
     "execution_count": 70,
     "metadata": {},
     "output_type": "execute_result"
    }
   ],
   "source": [
    "#Number of missing values\n",
    "df_final['occurences'].isna().sum()"
   ]
  },
  {
   "cell_type": "code",
   "execution_count": 71,
   "metadata": {},
   "outputs": [
    {
     "data": {
      "text/plain": [
       "145"
      ]
     },
     "execution_count": 71,
     "metadata": {},
     "output_type": "execute_result"
    }
   ],
   "source": [
    "#Number of different values\n",
    "len(np.unique(df_final['occurences']))"
   ]
  },
  {
   "cell_type": "code",
   "execution_count": 72,
   "metadata": {},
   "outputs": [
    {
     "data": {
      "text/plain": [
       "occurences\n",
       "1       7150\n",
       "2       2966\n",
       "3       1405\n",
       "4       1047\n",
       "5        957\n",
       "        ... \n",
       "1127    1124\n",
       "1264    1257\n",
       "1434    1434\n",
       "2291    2285\n",
       "2540    2538\n",
       "Length: 145, dtype: int64"
      ]
     },
     "execution_count": 72,
     "metadata": {},
     "output_type": "execute_result"
    }
   ],
   "source": [
    "#Frequency of the variable occurence.\n",
    "df_final.groupby('occurences').size()"
   ]
  },
  {
   "cell_type": "code",
   "execution_count": 73,
   "metadata": {},
   "outputs": [
    {
     "data": {
      "image/png": "[encoded data removed]",
      "text/plain": [
       "<Figure size 432x288 with 1 Axes>"
      ]
     },
     "metadata": {
      "needs_background": "light"
     },
     "output_type": "display_data"
    }
   ],
   "source": [
    "sns.distplot(df_final.occurences, kde=True)\n",
    "plt.show()"
   ]
  },
  {
   "cell_type": "markdown",
   "metadata": {},
   "source": [
    "## 1.8 Exploration of the variable \"created_at\""
   ]
  },
  {
   "cell_type": "markdown",
   "metadata": {},
   "source": [
    "It is a UTC time when the tweet was created"
   ]
  },
  {
   "cell_type": "code",
   "execution_count": 74,
   "metadata": {},
   "outputs": [
    {
     "data": {
      "text/plain": [
       "0"
      ]
     },
     "execution_count": 74,
     "metadata": {},
     "output_type": "execute_result"
    }
   ],
   "source": [
    "df_final['created_at'].isna().sum()"
   ]
  },
  {
   "cell_type": "code",
   "execution_count": 75,
   "metadata": {},
   "outputs": [
    {
     "data": {
      "text/plain": [
       "377"
      ]
     },
     "execution_count": 75,
     "metadata": {},
     "output_type": "execute_result"
    }
   ],
   "source": [
    "#Number of different values\n",
    "len(np.unique(df_final['created_at']))"
   ]
  },
  {
   "cell_type": "code",
   "execution_count": 76,
   "metadata": {},
   "outputs": [
    {
     "name": "stdout",
     "output_type": "stream",
     "text": [
      "The most ancient date is 2019-06-03T00:00Z\n",
      "The most recent date is 2011-05-23T00:00Z\n"
     ]
    }
   ],
   "source": [
    "print('The most ancient date is', max(df_final[\"created_at\"]))\n",
    "print('The most recent date is', min(df_final[\"created_at\"]))"
   ]
  },
  {
   "cell_type": "code",
   "execution_count": 77,
   "metadata": {},
   "outputs": [
    {
     "data": {
      "text/plain": [
       "created_at\n",
       "2011-05-23T00:00Z      9\n",
       "2011-05-24T00:00Z     18\n",
       "2011-05-25T00:00Z     11\n",
       "2011-05-26T00:00Z      7\n",
       "2011-05-27T00:00Z      1\n",
       "                    ... \n",
       "2019-05-30T00:00Z    821\n",
       "2019-05-31T00:00Z    960\n",
       "2019-06-01T00:00Z    318\n",
       "2019-06-02T00:00Z    113\n",
       "2019-06-03T00:00Z     41\n",
       "Length: 377, dtype: int64"
      ]
     },
     "execution_count": 77,
     "metadata": {},
     "output_type": "execute_result"
    }
   ],
   "source": [
    "df_final.groupby('created_at').size()"
   ]
  },
  {
   "cell_type": "markdown",
   "metadata": {},
   "source": [
    "## 1.9 Exploration of the variable \"name\""
   ]
  },
  {
   "cell_type": "markdown",
   "metadata": {},
   "source": [
    "It is the name of the user."
   ]
  },
  {
   "cell_type": "code",
   "execution_count": 78,
   "metadata": {},
   "outputs": [
    {
     "data": {
      "text/plain": [
       "0"
      ]
     },
     "execution_count": 78,
     "metadata": {},
     "output_type": "execute_result"
    }
   ],
   "source": [
    "#Number of missing values\n",
    "df_final['name'].isna().sum()"
   ]
  },
  {
   "cell_type": "code",
   "execution_count": 79,
   "metadata": {},
   "outputs": [
    {
     "data": {
      "text/plain": [
       "21385"
      ]
     },
     "execution_count": 79,
     "metadata": {},
     "output_type": "execute_result"
    }
   ],
   "source": [
    "#Number of different values\n",
    "len(np.unique(df_final['name']))"
   ]
  },
  {
   "cell_type": "markdown",
   "metadata": {},
   "source": [
    "## 1.10 Exploration of the variable \"Description_Event\""
   ]
  },
  {
   "cell_type": "markdown",
   "metadata": {},
   "source": [
    "This is the type of event (wildfire,flood...)"
   ]
  },
  {
   "cell_type": "code",
   "execution_count": 80,
   "metadata": {},
   "outputs": [
    {
     "data": {
      "text/plain": [
       "0"
      ]
     },
     "execution_count": 80,
     "metadata": {},
     "output_type": "execute_result"
    }
   ],
   "source": [
    "#Number of missing values\n",
    "df_final['Description_Event'].isna().sum()"
   ]
  },
  {
   "cell_type": "code",
   "execution_count": 81,
   "metadata": {},
   "outputs": [
    {
     "data": {
      "text/plain": [
       "Description_Event\n",
       "albertaFloods2013                1766\n",
       "albertaWildfires2019             4529\n",
       "australiaBushfire2013            1211\n",
       "bostonBombings2013                488\n",
       "chileEarthquake2014               253\n",
       "coloradoStemShooting2019          303\n",
       "costaRicaEarthquake2012           197\n",
       "cycloneKenneth2019               3951\n",
       "earthquakeBohol2013               927\n",
       "earthquakeCalifornia2014          138\n",
       "fireAndover2019                   146\n",
       "fireColorado2012                  697\n",
       "fireYMM2016                      5221\n",
       "flSchoolShooting2018              386\n",
       "floodChoco2019                    370\n",
       "floodColorado2013                1164\n",
       "guatemalaEarthquake2012           112\n",
       "hurricaneFlorence2018            3549\n",
       "italyEarthquakes2012               80\n",
       "joplinTornado2011                  90\n",
       "laAirportShooting2013             749\n",
       "manilaFloods2013                 1053\n",
       "nepalEarthquake2015              7206\n",
       "parisAttacks2015                 2153\n",
       "philipinnesFloods2012             710\n",
       "philippinesEarthquake2019        2300\n",
       "queenslandFloods2013             1206\n",
       "sandiegoSynagogueShooting2019     261\n",
       "shootingDallas2017               1771\n",
       "southAfricaFloods2019            1811\n",
       "typhoonHagupit2014               8056\n",
       "typhoonPablo2012                  895\n",
       "typhoonYolanda2013                996\n",
       "westTexasExplosion2013            669\n",
       "dtype: int64"
      ]
     },
     "execution_count": 81,
     "metadata": {},
     "output_type": "execute_result"
    }
   ],
   "source": [
    "#Frequency of the variable description_event\n",
    "df_final.groupby('Description_Event').size()"
   ]
  },
  {
   "cell_type": "code",
   "execution_count": 82,
   "metadata": {},
   "outputs": [
    {
     "data": {
      "text/plain": [
       "typhoonHagupit2014               14.537842\n",
       "nepalEarthquake2015              13.003934\n",
       "fireYMM2016                       9.421807\n",
       "albertaWildfires2019              8.173025\n",
       "cycloneKenneth2019                7.129967\n",
       "hurricaneFlorence2018             6.404519\n",
       "philippinesEarthquake2019         4.150576\n",
       "parisAttacks2015                  3.885300\n",
       "southAfricaFloods2019             3.268127\n",
       "shootingDallas2017                3.195943\n",
       "albertaFloods2013                 3.186920\n",
       "australiaBushfire2013             2.185368\n",
       "queenslandFloods2013              2.176345\n",
       "floodColorado2013                 2.100552\n",
       "manilaFloods2013                  1.900242\n",
       "typhoonYolanda2013                1.797380\n",
       "earthquakeBohol2013               1.672862\n",
       "typhoonPablo2012                  1.615115\n",
       "laAirportShooting2013             1.351644\n",
       "philipinnesFloods2012             1.281265\n",
       "fireColorado2012                  1.257805\n",
       "westTexasExplosion2013            1.207276\n",
       "bostonBombings2013                0.880644\n",
       "flSchoolShooting2018              0.696575\n",
       "floodChoco2019                    0.667701\n",
       "coloradoStemShooting2019          0.546793\n",
       "sandiegoSynagogueShooting2019     0.471000\n",
       "chileEarthquake2014               0.456563\n",
       "costaRicaEarthquake2012           0.355506\n",
       "fireAndover2019                   0.263471\n",
       "earthquakeCalifornia2014          0.249035\n",
       "guatemalaEarthquake2012           0.202115\n",
       "joplinTornado2011                 0.162414\n",
       "italyEarthquakes2012              0.144368\n",
       "Name: Description_Event, dtype: float64"
      ]
     },
     "execution_count": 82,
     "metadata": {},
     "output_type": "execute_result"
    }
   ],
   "source": [
    "#Percentage of events that are tweeted\n",
    "df_final['Description_Event'].astype(str).value_counts(ascending = False, normalize = True)*100"
   ]
  },
  {
   "cell_type": "markdown",
   "metadata": {},
   "source": [
    "typhoonHagupit2014 and nepalEarthquake2015 are the two events where tweets are linked at this event in the dataframe."
   ]
  },
  {
   "cell_type": "markdown",
   "metadata": {},
   "source": [
    "## 1.11 Exploration of the variable \"text\""
   ]
  },
  {
   "cell_type": "code",
   "execution_count": 83,
   "metadata": {},
   "outputs": [
    {
     "data": {
      "text/plain": [
       "0"
      ]
     },
     "execution_count": 83,
     "metadata": {},
     "output_type": "execute_result"
    }
   ],
   "source": [
    "#Number of missing values\n",
    "df_final['text'].isna().sum()"
   ]
  },
  {
   "cell_type": "code",
   "execution_count": 84,
   "metadata": {},
   "outputs": [
    {
     "data": {
      "text/plain": [
       "28983"
      ]
     },
     "execution_count": 84,
     "metadata": {},
     "output_type": "execute_result"
    }
   ],
   "source": [
    "#Number of different values\n",
    "len(np.unique(df_final['text']))"
   ]
  },
  {
   "cell_type": "markdown",
   "metadata": {},
   "source": [
    "## 1.12 Exploration of the variable \"annotation_postPriority\""
   ]
  },
  {
   "cell_type": "markdown",
   "metadata": {},
   "source": [
    "This is our variable to predict.  \n",
    "It is the relative priority of the tweet."
   ]
  },
  {
   "cell_type": "code",
   "execution_count": 85,
   "metadata": {},
   "outputs": [
    {
     "data": {
      "text/plain": [
       "0"
      ]
     },
     "execution_count": 85,
     "metadata": {},
     "output_type": "execute_result"
    }
   ],
   "source": [
    "# Number of missing values\n",
    "df_final[\"annotation_postPriority\"].isna().sum()"
   ]
  },
  {
   "cell_type": "code",
   "execution_count": 86,
   "metadata": {},
   "outputs": [
    {
     "data": {
      "text/plain": [
       "annotation_postPriority\n",
       "Critical      530\n",
       "High         4550\n",
       "Low         26302\n",
       "Medium       6793\n",
       "Unknown     17239\n",
       "dtype: int64"
      ]
     },
     "execution_count": 86,
     "metadata": {},
     "output_type": "execute_result"
    }
   ],
   "source": [
    "#Frequency of the variable annotation_postPriority\n",
    "df_final.groupby('annotation_postPriority').size()"
   ]
  },
  {
   "cell_type": "code",
   "execution_count": 87,
   "metadata": {},
   "outputs": [
    {
     "data": {
      "text/plain": [
       "Low         47.464540\n",
       "Unknown     31.109467\n",
       "Medium      12.258635\n",
       "High         8.210921\n",
       "Critical     0.956437\n",
       "Name: annotation_postPriority, dtype: float64"
      ]
     },
     "execution_count": 87,
     "metadata": {},
     "output_type": "execute_result"
    }
   ],
   "source": [
    "# Percentage of annotations\n",
    "df_final['annotation_postPriority'].astype(str).value_counts(ascending = False, normalize = True)*100"
   ]
  },
  {
   "cell_type": "markdown",
   "metadata": {},
   "source": [
    "Almost half of the tweets are priority \"Low\"."
   ]
  },
  {
   "cell_type": "code",
   "execution_count": 88,
   "metadata": {},
   "outputs": [
    {
     "data": {
      "image/png": "[encoded data removed]",
      "text/plain": [
       "<Figure size 360x360 with 1 Axes>"
      ]
     },
     "metadata": {
      "needs_background": "light"
     },
     "output_type": "display_data"
    }
   ],
   "source": [
    "freq_criticality = df_final[\"annotation_postPriority\"].astype(str).value_counts(normalize=True)*100\n",
    "l = []\n",
    "\n",
    "for i in range (freq_criticality.shape[0]):\n",
    "    l.append({\"criticality\":freq_criticality.index[i], \"percent\":freq_criticality[i]})\n",
    "\n",
    "df_dic = pd.DataFrame(l)\n",
    "\n",
    "g = sns.catplot(x = \"criticality\", y = \"percent\", kind= 'bar',data = df_dic, palette = 'PuBuGn_r')\n",
    "\n",
    "# We add the frequencies at the top of each bar\n",
    "for p in g.ax.patches:\n",
    "    txt = str(p.get_height().round(1)) + '%'\n",
    "    txt_x = p.get_x()\n",
    "    txt_y = p.get_height()\n",
    "    g.ax.text(txt_x,txt_y,txt)"
   ]
  },
  {
   "cell_type": "code",
   "execution_count": 89,
   "metadata": {},
   "outputs": [
    {
     "data": {
      "text/html": [
       "<div>\n",
       "<style scoped>\n",
       "    .dataframe tbody tr th:only-of-type {\n",
       "        vertical-align: middle;\n",
       "    }\n",
       "\n",
       "    .dataframe tbody tr th {\n",
       "        vertical-align: top;\n",
       "    }\n",
       "\n",
       "    .dataframe thead th {\n",
       "        text-align: right;\n",
       "    }\n",
       "</style>\n",
       "<table border=\"1\" class=\"dataframe\">\n",
       "  <thead>\n",
       "    <tr style=\"text-align: right;\">\n",
       "      <th></th>\n",
       "      <th>text</th>\n",
       "      <th>annotation_postPriority</th>\n",
       "    </tr>\n",
       "  </thead>\n",
       "  <tbody>\n",
       "    <tr>\n",
       "      <td>0</td>\n",
       "      <td>#colorado. Told you its #amazing http://t.co/6...</td>\n",
       "      <td>Low</td>\n",
       "    </tr>\n",
       "    <tr>\n",
       "      <td>1</td>\n",
       "      <td>So #thankful for these #linemen!\\nYou guys are...</td>\n",
       "      <td>Low</td>\n",
       "    </tr>\n",
       "    <tr>\n",
       "      <td>2</td>\n",
       "      <td>?@EmmaK46: Thinking of everyone helping to fig...</td>\n",
       "      <td>Low</td>\n",
       "    </tr>\n",
       "    <tr>\n",
       "      <td>3</td>\n",
       "      <td>#colorado. Told you its #amazing http://t.co/6...</td>\n",
       "      <td>Low</td>\n",
       "    </tr>\n",
       "    <tr>\n",
       "      <td>4</td>\n",
       "      <td>Bringing it Home: Impact of floods ripples to ...</td>\n",
       "      <td>Unknown</td>\n",
       "    </tr>\n",
       "  </tbody>\n",
       "</table>\n",
       "</div>"
      ],
      "text/plain": [
       "                                                text annotation_postPriority\n",
       "0  #colorado. Told you its #amazing http://t.co/6...                     Low\n",
       "1  So #thankful for these #linemen!\\nYou guys are...                     Low\n",
       "2  ?@EmmaK46: Thinking of everyone helping to fig...                     Low\n",
       "3  #colorado. Told you its #amazing http://t.co/6...                     Low\n",
       "4  Bringing it Home: Impact of floods ripples to ...                 Unknown"
      ]
     },
     "execution_count": 89,
     "metadata": {},
     "output_type": "execute_result"
    }
   ],
   "source": [
    "messages = df_final[['text', 'annotation_postPriority']]\n",
    "\n",
    "messages.head()"
   ]
  },
  {
   "cell_type": "code",
   "execution_count": 90,
   "metadata": {},
   "outputs": [
    {
     "data": {
      "text/html": [
       "<div>\n",
       "<style scoped>\n",
       "    .dataframe tbody tr th:only-of-type {\n",
       "        vertical-align: middle;\n",
       "    }\n",
       "\n",
       "    .dataframe tbody tr th {\n",
       "        vertical-align: top;\n",
       "    }\n",
       "\n",
       "    .dataframe thead th {\n",
       "        text-align: right;\n",
       "    }\n",
       "</style>\n",
       "<table border=\"1\" class=\"dataframe\">\n",
       "  <thead>\n",
       "    <tr style=\"text-align: right;\">\n",
       "      <th></th>\n",
       "      <th>text</th>\n",
       "      <th>annotation_postPriority</th>\n",
       "    </tr>\n",
       "  </thead>\n",
       "  <tbody>\n",
       "    <tr>\n",
       "      <td>count</td>\n",
       "      <td>55414</td>\n",
       "      <td>55414</td>\n",
       "    </tr>\n",
       "    <tr>\n",
       "      <td>unique</td>\n",
       "      <td>28983</td>\n",
       "      <td>5</td>\n",
       "    </tr>\n",
       "    <tr>\n",
       "      <td>top</td>\n",
       "      <td>Breaking #FoxNews Alert : Colorado student kil...</td>\n",
       "      <td>Low</td>\n",
       "    </tr>\n",
       "    <tr>\n",
       "      <td>freq</td>\n",
       "      <td>35</td>\n",
       "      <td>26302</td>\n",
       "    </tr>\n",
       "  </tbody>\n",
       "</table>\n",
       "</div>"
      ],
      "text/plain": [
       "                                                     text  \\\n",
       "count                                               55414   \n",
       "unique                                              28983   \n",
       "top     Breaking #FoxNews Alert : Colorado student kil...   \n",
       "freq                                                   35   \n",
       "\n",
       "       annotation_postPriority  \n",
       "count                    55414  \n",
       "unique                       5  \n",
       "top                        Low  \n",
       "freq                     26302  "
      ]
     },
     "execution_count": 90,
     "metadata": {},
     "output_type": "execute_result"
    }
   ],
   "source": [
    "messages.describe()"
   ]
  },
  {
   "cell_type": "code",
   "execution_count": 91,
   "metadata": {},
   "outputs": [
    {
     "data": {
      "text/html": [
       "<div>\n",
       "<style scoped>\n",
       "    .dataframe tbody tr th:only-of-type {\n",
       "        vertical-align: middle;\n",
       "    }\n",
       "\n",
       "    .dataframe tbody tr th {\n",
       "        vertical-align: top;\n",
       "    }\n",
       "\n",
       "    .dataframe thead tr th {\n",
       "        text-align: left;\n",
       "    }\n",
       "\n",
       "    .dataframe thead tr:last-of-type th {\n",
       "        text-align: right;\n",
       "    }\n",
       "</style>\n",
       "<table border=\"1\" class=\"dataframe\">\n",
       "  <thead>\n",
       "    <tr>\n",
       "      <th></th>\n",
       "      <th colspan=\"4\" halign=\"left\">text</th>\n",
       "    </tr>\n",
       "    <tr>\n",
       "      <th></th>\n",
       "      <th>count</th>\n",
       "      <th>unique</th>\n",
       "      <th>top</th>\n",
       "      <th>freq</th>\n",
       "    </tr>\n",
       "    <tr>\n",
       "      <th>annotation_postPriority</th>\n",
       "      <th></th>\n",
       "      <th></th>\n",
       "      <th></th>\n",
       "      <th></th>\n",
       "    </tr>\n",
       "  </thead>\n",
       "  <tbody>\n",
       "    <tr>\n",
       "      <td>Critical</td>\n",
       "      <td>530</td>\n",
       "      <td>273</td>\n",
       "      <td>* #COMOROS/#MAYOTTE/ #SEYCHELLES: #CycloneKenn...</td>\n",
       "      <td>22</td>\n",
       "    </tr>\n",
       "    <tr>\n",
       "      <td>High</td>\n",
       "      <td>4550</td>\n",
       "      <td>2423</td>\n",
       "      <td>* #TANZANIA / #MOZAMBIQUE:  #CycloneKenneth #T...</td>\n",
       "      <td>22</td>\n",
       "    </tr>\n",
       "    <tr>\n",
       "      <td>Low</td>\n",
       "      <td>26302</td>\n",
       "      <td>13574</td>\n",
       "      <td>Toronto keeps flooding when it rains hard. Her...</td>\n",
       "      <td>21</td>\n",
       "    </tr>\n",
       "    <tr>\n",
       "      <td>Medium</td>\n",
       "      <td>6793</td>\n",
       "      <td>3324</td>\n",
       "      <td>* #COMOROS/#MAYOTTE/ #SEYCHELLES: #CycloneKenn...</td>\n",
       "      <td>22</td>\n",
       "    </tr>\n",
       "    <tr>\n",
       "      <td>Unknown</td>\n",
       "      <td>17239</td>\n",
       "      <td>9617</td>\n",
       "      <td>Breaking #FoxNews Alert : Colorado student kil...</td>\n",
       "      <td>32</td>\n",
       "    </tr>\n",
       "  </tbody>\n",
       "</table>\n",
       "</div>"
      ],
      "text/plain": [
       "                          text         \\\n",
       "                         count unique   \n",
       "annotation_postPriority                 \n",
       "Critical                   530    273   \n",
       "High                      4550   2423   \n",
       "Low                      26302  13574   \n",
       "Medium                    6793   3324   \n",
       "Unknown                  17239   9617   \n",
       "\n",
       "                                                                            \\\n",
       "                                                                       top   \n",
       "annotation_postPriority                                                      \n",
       "Critical                 * #COMOROS/#MAYOTTE/ #SEYCHELLES: #CycloneKenn...   \n",
       "High                     * #TANZANIA / #MOZAMBIQUE:  #CycloneKenneth #T...   \n",
       "Low                      Toronto keeps flooding when it rains hard. Her...   \n",
       "Medium                   * #COMOROS/#MAYOTTE/ #SEYCHELLES: #CycloneKenn...   \n",
       "Unknown                  Breaking #FoxNews Alert : Colorado student kil...   \n",
       "\n",
       "                              \n",
       "                        freq  \n",
       "annotation_postPriority       \n",
       "Critical                  22  \n",
       "High                      22  \n",
       "Low                       21  \n",
       "Medium                    22  \n",
       "Unknown                   32  "
      ]
     },
     "execution_count": 91,
     "metadata": {},
     "output_type": "execute_result"
    }
   ],
   "source": [
    "messages.groupby('annotation_postPriority').describe()"
   ]
  },
  {
   "cell_type": "code",
   "execution_count": 92,
   "metadata": {},
   "outputs": [
    {
     "name": "stderr",
     "output_type": "stream",
     "text": [
      "C:\\Users\\grego\\Anaconda3\\lib\\site-packages\\ipykernel_launcher.py:1: SettingWithCopyWarning: \n",
      "A value is trying to be set on a copy of a slice from a DataFrame.\n",
      "Try using .loc[row_indexer,col_indexer] = value instead\n",
      "\n",
      "See the caveats in the documentation: http://pandas.pydata.org/pandas-docs/stable/user_guide/indexing.html#returning-a-view-versus-a-copy\n",
      "  \"\"\"Entry point for launching an IPython kernel.\n"
     ]
    },
    {
     "data": {
      "text/html": [
       "<div>\n",
       "<style scoped>\n",
       "    .dataframe tbody tr th:only-of-type {\n",
       "        vertical-align: middle;\n",
       "    }\n",
       "\n",
       "    .dataframe tbody tr th {\n",
       "        vertical-align: top;\n",
       "    }\n",
       "\n",
       "    .dataframe thead th {\n",
       "        text-align: right;\n",
       "    }\n",
       "</style>\n",
       "<table border=\"1\" class=\"dataframe\">\n",
       "  <thead>\n",
       "    <tr style=\"text-align: right;\">\n",
       "      <th></th>\n",
       "      <th>text</th>\n",
       "      <th>annotation_postPriority</th>\n",
       "      <th>length</th>\n",
       "    </tr>\n",
       "  </thead>\n",
       "  <tbody>\n",
       "    <tr>\n",
       "      <td>0</td>\n",
       "      <td>#colorado. Told you its #amazing http://t.co/6...</td>\n",
       "      <td>Low</td>\n",
       "      <td>53</td>\n",
       "    </tr>\n",
       "    <tr>\n",
       "      <td>1</td>\n",
       "      <td>So #thankful for these #linemen!\\nYou guys are...</td>\n",
       "      <td>Low</td>\n",
       "      <td>171</td>\n",
       "    </tr>\n",
       "    <tr>\n",
       "      <td>2</td>\n",
       "      <td>?@EmmaK46: Thinking of everyone helping to fig...</td>\n",
       "      <td>Low</td>\n",
       "      <td>131</td>\n",
       "    </tr>\n",
       "    <tr>\n",
       "      <td>3</td>\n",
       "      <td>#colorado. Told you its #amazing http://t.co/6...</td>\n",
       "      <td>Low</td>\n",
       "      <td>53</td>\n",
       "    </tr>\n",
       "    <tr>\n",
       "      <td>4</td>\n",
       "      <td>Bringing it Home: Impact of floods ripples to ...</td>\n",
       "      <td>Unknown</td>\n",
       "      <td>91</td>\n",
       "    </tr>\n",
       "  </tbody>\n",
       "</table>\n",
       "</div>"
      ],
      "text/plain": [
       "                                                text annotation_postPriority  \\\n",
       "0  #colorado. Told you its #amazing http://t.co/6...                     Low   \n",
       "1  So #thankful for these #linemen!\\nYou guys are...                     Low   \n",
       "2  ?@EmmaK46: Thinking of everyone helping to fig...                     Low   \n",
       "3  #colorado. Told you its #amazing http://t.co/6...                     Low   \n",
       "4  Bringing it Home: Impact of floods ripples to ...                 Unknown   \n",
       "\n",
       "   length  \n",
       "0      53  \n",
       "1     171  \n",
       "2     131  \n",
       "3      53  \n",
       "4      91  "
      ]
     },
     "execution_count": 92,
     "metadata": {},
     "output_type": "execute_result"
    }
   ],
   "source": [
    "messages['length'] = messages['text'].apply(len)\n",
    "messages.head()"
   ]
  },
  {
   "cell_type": "code",
   "execution_count": 93,
   "metadata": {},
   "outputs": [
    {
     "data": {
      "text/plain": [
       "<matplotlib.axes._subplots.AxesSubplot at 0x21612a845c8>"
      ]
     },
     "execution_count": 93,
     "metadata": {},
     "output_type": "execute_result"
    },
    {
     "data": {
      "image/png": "[encoded data removed]",
      "text/plain": [
       "<Figure size 432x288 with 1 Axes>"
      ]
     },
     "metadata": {
      "needs_background": "light"
     },
     "output_type": "display_data"
    }
   ],
   "source": [
    "messages['length'].plot(bins=50, kind='hist')"
   ]
  },
  {
   "cell_type": "code",
   "execution_count": 94,
   "metadata": {},
   "outputs": [
    {
     "data": {
      "text/plain": [
       "count    55414.000000\n",
       "mean       139.755098\n",
       "std         62.008235\n",
       "min         12.000000\n",
       "25%        103.000000\n",
       "50%        131.000000\n",
       "75%        143.000000\n",
       "max        433.000000\n",
       "Name: length, dtype: float64"
      ]
     },
     "execution_count": 94,
     "metadata": {},
     "output_type": "execute_result"
    }
   ],
   "source": [
    "messages.length.describe()"
   ]
  },
  {
   "cell_type": "code",
   "execution_count": 95,
   "metadata": {},
   "outputs": [
    {
     "data": {
      "text/plain": [
       "'@CopernicusEU @eu_echo @CopernicusEMS @EUinCanada @YourAlberta @AlbertaWildfire @JamesGIS @PauCostaF @CBCCalgary @AB_Enviro @eforestal May 19th, 2019 near #slavelake #Alberta #Canada.\\nIn the foreground note the regrowth of bushes and trees among taller trees that died during the 2011 #wildfire that lead to the evacuation of town. In the background is the smoke from the wildfire burning north of town today. https://t.co/ZTrX0GUrmf'"
      ]
     },
     "execution_count": 95,
     "metadata": {},
     "output_type": "execute_result"
    }
   ],
   "source": [
    "# What is the longest message?\n",
    "messages[messages['length'] == 433]['text'].iloc[0]"
   ]
  },
  {
   "cell_type": "code",
   "execution_count": 96,
   "metadata": {},
   "outputs": [
    {
     "data": {
      "text/plain": [
       "array([[<matplotlib.axes._subplots.AxesSubplot object at 0x0000021612A79F48>,\n",
       "        <matplotlib.axes._subplots.AxesSubplot object at 0x0000021612A09308>],\n",
       "       [<matplotlib.axes._subplots.AxesSubplot object at 0x00000216129ED1C8>,\n",
       "        <matplotlib.axes._subplots.AxesSubplot object at 0x00000216129B6CC8>],\n",
       "       [<matplotlib.axes._subplots.AxesSubplot object at 0x00000216129983C8>,\n",
       "        <matplotlib.axes._subplots.AxesSubplot object at 0x0000021612988988>]],\n",
       "      dtype=object)"
      ]
     },
     "execution_count": 96,
     "metadata": {},
     "output_type": "execute_result"
    },
    {
     "data": {
      "image/png": "[encoded data removed]",
      "text/plain": [
       "<Figure size 864x864 with 6 Axes>"
      ]
     },
     "metadata": {
      "needs_background": "light"
     },
     "output_type": "display_data"
    }
   ],
   "source": [
    "messages.hist(column='length', by='annotation_postPriority', bins=50,figsize=(12,12))"
   ]
  },
  {
   "cell_type": "code",
   "execution_count": 97,
   "metadata": {},
   "outputs": [
    {
     "data": {
      "text/plain": [
       "Tweet_ID                             0\n",
       "isTruncated                          0\n",
       "possibly_sensitive                   0\n",
       "created_at                           0\n",
       "retweet_count                        0\n",
       "n.properties.annotation_annotated    0\n",
       "is_quote_status                      0\n",
       "annotation_num_judgements            0\n",
       "annotation_postPriority              0\n",
       "topic                                0\n",
       "favorite_count                       0\n",
       "text                                 0\n",
       "User_ID                              0\n",
       "friends_count                        0\n",
       "isVerified                           0\n",
       "listed_count                         0\n",
       "statuses_count                       0\n",
       "favourites_count                     0\n",
       "followers_count                      0\n",
       "name                                 0\n",
       "Event_ID                             0\n",
       "Description_Event                    0\n",
       "eventType                            0\n",
       "Hashtag_ID                           0\n",
       "occurences                           0\n",
       "Description_Hashtag                  0\n",
       "dtype: int64"
      ]
     },
     "execution_count": 97,
     "metadata": {},
     "output_type": "execute_result"
    }
   ],
   "source": [
    "#Number of missing values in the whole dataframe.\n",
    "df_final.isna().sum()"
   ]
  },
  {
   "cell_type": "markdown",
   "metadata": {},
   "source": [
    "No missing values in the dataframe."
   ]
  },
  {
   "cell_type": "code",
   "execution_count": 98,
   "metadata": {},
   "outputs": [
    {
     "name": "stdout",
     "output_type": "stream",
     "text": [
      "There are 55414 tweets and 26 variables in the dataset.\n"
     ]
    }
   ],
   "source": [
    "print('There are', np.shape(df_final)[0], 'tweets and', np.shape(df_final)[1],'variables in the dataset.')"
   ]
  },
  {
   "cell_type": "markdown",
   "metadata": {},
   "source": [
    "### Add features related to the text"
   ]
  },
  {
   "cell_type": "code",
   "execution_count": 99,
   "metadata": {},
   "outputs": [],
   "source": [
    "# Indicate whether the Tweet is a Retweet\n",
    "df_final['Is_RT'] = df_final['text'].apply(lambda x: 'RT @' in x)\n",
    "\n",
    "# Indicate the number of times there is an exclamation  mark in the Tweet.\n",
    "\n",
    "df_final['Nb_!'] = df_final['text'].apply(lambda x: x.count('!'))\n",
    "\n",
    "\n",
    "# Count the number of uppercase-written words in the Tweet\n",
    "\n",
    "# Regular expression to detect an uppercase word except if it is \"I\" or \"RT\"\n",
    "uc_detector = r'\\b(?!I|RT)[A-Z]+\\b'\n",
    "\n",
    "df_final['Nb_UpCaseWords'] = df_final['text'].apply(lambda x: len(re.findall(uc_detector, x)))\n"
   ]
  },
  {
   "cell_type": "code",
   "execution_count": 100,
   "metadata": {},
   "outputs": [],
   "source": [
    "#Link\n",
    "def has_link(df, colname):\n",
    "    df[\"has_link\"] = df[colname].str.contains('http')\n",
    "    df[\"has_link\"] = df['has_link'].astype(int)\n",
    "    return df\n",
    "\n",
    "#Unique words\n",
    "def count_unique(df, colname):\n",
    "    df['unique_words'] = df[colname].apply(lambda tweet: len(set(w for w in tweet.split())))\n",
    "    return df\n",
    "\n",
    "def count_words(df, colname):\n",
    "    df['nb_words'] = df[colname].apply(lambda tweet: len(tweet.split()))\n",
    "    return df\n",
    "\n",
    "def ratio_words(df, colname):\n",
    "    df['ratio_words'] = df['unique_words'] / df['nb_words']\n",
    "    return df\n",
    "    \n",
    "def feature_adds(df, colname):\n",
    "\n",
    "    df = (\n",
    "        df\n",
    "        .pipe(has_link, colname)\n",
    "        .pipe(count_words,colname)\n",
    "        .pipe(count_unique, colname)\n",
    "        .pipe(ratio_words, colname)\n",
    "    ) \n",
    "    return df"
   ]
  },
  {
   "cell_type": "code",
   "execution_count": 101,
   "metadata": {},
   "outputs": [
    {
     "data": {
      "text/html": [
       "<div>\n",
       "<style scoped>\n",
       "    .dataframe tbody tr th:only-of-type {\n",
       "        vertical-align: middle;\n",
       "    }\n",
       "\n",
       "    .dataframe tbody tr th {\n",
       "        vertical-align: top;\n",
       "    }\n",
       "\n",
       "    .dataframe thead th {\n",
       "        text-align: right;\n",
       "    }\n",
       "</style>\n",
       "<table border=\"1\" class=\"dataframe\">\n",
       "  <thead>\n",
       "    <tr style=\"text-align: right;\">\n",
       "      <th></th>\n",
       "      <th>Tweet_ID</th>\n",
       "      <th>isTruncated</th>\n",
       "      <th>possibly_sensitive</th>\n",
       "      <th>created_at</th>\n",
       "      <th>retweet_count</th>\n",
       "      <th>n.properties.annotation_annotated</th>\n",
       "      <th>is_quote_status</th>\n",
       "      <th>annotation_num_judgements</th>\n",
       "      <th>annotation_postPriority</th>\n",
       "      <th>topic</th>\n",
       "      <th>...</th>\n",
       "      <th>Hashtag_ID</th>\n",
       "      <th>occurences</th>\n",
       "      <th>Description_Hashtag</th>\n",
       "      <th>Is_RT</th>\n",
       "      <th>Nb_!</th>\n",
       "      <th>Nb_UpCaseWords</th>\n",
       "      <th>has_link</th>\n",
       "      <th>nb_words</th>\n",
       "      <th>unique_words</th>\n",
       "      <th>ratio_words</th>\n",
       "    </tr>\n",
       "  </thead>\n",
       "  <tbody>\n",
       "    <tr>\n",
       "      <td>0</td>\n",
       "      <td>582</td>\n",
       "      <td>False</td>\n",
       "      <td>False</td>\n",
       "      <td>2012-06-09T00:00Z</td>\n",
       "      <td>0</td>\n",
       "      <td>True</td>\n",
       "      <td>False</td>\n",
       "      <td>3</td>\n",
       "      <td>Low</td>\n",
       "      <td>TRECIS-CTIT-H-001</td>\n",
       "      <td>...</td>\n",
       "      <td>100609</td>\n",
       "      <td>3</td>\n",
       "      <td>amazing</td>\n",
       "      <td>False</td>\n",
       "      <td>0</td>\n",
       "      <td>0</td>\n",
       "      <td>1</td>\n",
       "      <td>6</td>\n",
       "      <td>6</td>\n",
       "      <td>1.000000</td>\n",
       "    </tr>\n",
       "    <tr>\n",
       "      <td>1</td>\n",
       "      <td>28610</td>\n",
       "      <td>True</td>\n",
       "      <td>False</td>\n",
       "      <td>2018-09-16T00:00Z</td>\n",
       "      <td>0</td>\n",
       "      <td>True</td>\n",
       "      <td>True</td>\n",
       "      <td>3</td>\n",
       "      <td>Low</td>\n",
       "      <td>TRECIS-CTIT-H-026</td>\n",
       "      <td>...</td>\n",
       "      <td>100609</td>\n",
       "      <td>3</td>\n",
       "      <td>amazing</td>\n",
       "      <td>False</td>\n",
       "      <td>1</td>\n",
       "      <td>0</td>\n",
       "      <td>1</td>\n",
       "      <td>17</td>\n",
       "      <td>17</td>\n",
       "      <td>1.000000</td>\n",
       "    </tr>\n",
       "    <tr>\n",
       "      <td>2</td>\n",
       "      <td>6516</td>\n",
       "      <td>False</td>\n",
       "      <td>False</td>\n",
       "      <td>2013-10-24T00:00Z</td>\n",
       "      <td>0</td>\n",
       "      <td>True</td>\n",
       "      <td>False</td>\n",
       "      <td>1</td>\n",
       "      <td>Low</td>\n",
       "      <td>TRECIS-CTIT-H-011</td>\n",
       "      <td>...</td>\n",
       "      <td>100609</td>\n",
       "      <td>3</td>\n",
       "      <td>amazing</td>\n",
       "      <td>False</td>\n",
       "      <td>0</td>\n",
       "      <td>0</td>\n",
       "      <td>1</td>\n",
       "      <td>18</td>\n",
       "      <td>17</td>\n",
       "      <td>0.944444</td>\n",
       "    </tr>\n",
       "    <tr>\n",
       "      <td>3</td>\n",
       "      <td>582</td>\n",
       "      <td>False</td>\n",
       "      <td>False</td>\n",
       "      <td>2012-06-09T00:00Z</td>\n",
       "      <td>0</td>\n",
       "      <td>True</td>\n",
       "      <td>False</td>\n",
       "      <td>3</td>\n",
       "      <td>Low</td>\n",
       "      <td>TRECIS-CTIT-H-001</td>\n",
       "      <td>...</td>\n",
       "      <td>99813</td>\n",
       "      <td>8</td>\n",
       "      <td>colorado</td>\n",
       "      <td>False</td>\n",
       "      <td>0</td>\n",
       "      <td>0</td>\n",
       "      <td>1</td>\n",
       "      <td>6</td>\n",
       "      <td>6</td>\n",
       "      <td>1.000000</td>\n",
       "    </tr>\n",
       "    <tr>\n",
       "      <td>4</td>\n",
       "      <td>2231</td>\n",
       "      <td>False</td>\n",
       "      <td>False</td>\n",
       "      <td>2013-09-21T00:00Z</td>\n",
       "      <td>0</td>\n",
       "      <td>False</td>\n",
       "      <td>False</td>\n",
       "      <td>0</td>\n",
       "      <td>Unknown</td>\n",
       "      <td>TRECIS-CTIT-H-003</td>\n",
       "      <td>...</td>\n",
       "      <td>99813</td>\n",
       "      <td>8</td>\n",
       "      <td>colorado</td>\n",
       "      <td>False</td>\n",
       "      <td>0</td>\n",
       "      <td>0</td>\n",
       "      <td>1</td>\n",
       "      <td>12</td>\n",
       "      <td>12</td>\n",
       "      <td>1.000000</td>\n",
       "    </tr>\n",
       "  </tbody>\n",
       "</table>\n",
       "<p>5 rows × 33 columns</p>\n",
       "</div>"
      ],
      "text/plain": [
       "  Tweet_ID  isTruncated  possibly_sensitive         created_at  retweet_count  \\\n",
       "0      582        False               False  2012-06-09T00:00Z              0   \n",
       "1    28610         True               False  2018-09-16T00:00Z              0   \n",
       "2     6516        False               False  2013-10-24T00:00Z              0   \n",
       "3      582        False               False  2012-06-09T00:00Z              0   \n",
       "4     2231        False               False  2013-09-21T00:00Z              0   \n",
       "\n",
       "   n.properties.annotation_annotated  is_quote_status  \\\n",
       "0                               True            False   \n",
       "1                               True             True   \n",
       "2                               True            False   \n",
       "3                               True            False   \n",
       "4                              False            False   \n",
       "\n",
       "   annotation_num_judgements annotation_postPriority              topic  ...  \\\n",
       "0                          3                     Low  TRECIS-CTIT-H-001  ...   \n",
       "1                          3                     Low  TRECIS-CTIT-H-026  ...   \n",
       "2                          1                     Low  TRECIS-CTIT-H-011  ...   \n",
       "3                          3                     Low  TRECIS-CTIT-H-001  ...   \n",
       "4                          0                 Unknown  TRECIS-CTIT-H-003  ...   \n",
       "\n",
       "   Hashtag_ID occurences Description_Hashtag  Is_RT  Nb_!  Nb_UpCaseWords  \\\n",
       "0      100609          3             amazing  False     0               0   \n",
       "1      100609          3             amazing  False     1               0   \n",
       "2      100609          3             amazing  False     0               0   \n",
       "3       99813          8            colorado  False     0               0   \n",
       "4       99813          8            colorado  False     0               0   \n",
       "\n",
       "   has_link  nb_words  unique_words ratio_words  \n",
       "0         1         6             6    1.000000  \n",
       "1         1        17            17    1.000000  \n",
       "2         1        18            17    0.944444  \n",
       "3         1         6             6    1.000000  \n",
       "4         1        12            12    1.000000  \n",
       "\n",
       "[5 rows x 33 columns]"
      ]
     },
     "execution_count": 101,
     "metadata": {},
     "output_type": "execute_result"
    }
   ],
   "source": [
    "feature_adds(df_final, 'text') \n",
    "df_final.head()"
   ]
  },
  {
   "cell_type": "markdown",
   "metadata": {},
   "source": [
    "## Text analysis"
   ]
  },
  {
   "cell_type": "code",
   "execution_count": 102,
   "metadata": {},
   "outputs": [
    {
     "data": {
      "text/plain": [
       "0        #colorado. Told you its #amazing http://t.co/6...\n",
       "1        So #thankful for these #linemen!\\nYou guys are...\n",
       "2        ?@EmmaK46: Thinking of everyone helping to fig...\n",
       "3        #colorado. Told you its #amazing http://t.co/6...\n",
       "4        Bringing it Home: Impact of floods ripples to ...\n",
       "                               ...                        \n",
       "55409    RT @IFSouthAmerica: Approximately 150 individu...\n",
       "55410    Approximately 150 individuals from the Dept. o...\n",
       "55411    RT @IFSouthAmerica: Approximately 150 individu...\n",
       "55412    The sound of the sandbeach in the Orinoco Rive...\n",
       "55413    #LoMï¿½sLeï¿½do en Medio Ambiente: Cacao colom...\n",
       "Name: text, Length: 55414, dtype: object"
      ]
     },
     "execution_count": 102,
     "metadata": {},
     "output_type": "execute_result"
    }
   ],
   "source": [
    "df_final['text']"
   ]
  },
  {
   "cell_type": "code",
   "execution_count": 103,
   "metadata": {},
   "outputs": [],
   "source": [
    "df_final_copy=df_final.copy()"
   ]
  },
  {
   "cell_type": "code",
   "execution_count": 104,
   "metadata": {},
   "outputs": [
    {
     "name": "stdout",
     "output_type": "stream",
     "text": [
      "object\n"
     ]
    }
   ],
   "source": [
    "print(df_final_copy['text'].dtype)"
   ]
  },
  {
   "cell_type": "code",
   "execution_count": 105,
   "metadata": {},
   "outputs": [],
   "source": [
    "# Define the stopwords\n",
    "stopword = stopwords.words('english')\n",
    "\n",
    "# Tokenize sentences\n",
    "def tokenize(df, colname):\n",
    "    df[colname] = df[colname].str.split()\n",
    "    return df\n",
    "\n",
    "# Remove the stopwords\n",
    "def remove_stop_words(df, colname):\n",
    "    df[colname] = df[colname].apply(lambda x: [word for word in x if word not in stopword])\n",
    "    return df\n",
    "\n",
    "# Lemmatisation\n",
    "def lemmatisation(df, colname):\n",
    "    df[colname] = df[colname].apply(lambda x: [wnl.lemmatize(word) for word in x])\n",
    "    return df\n",
    "\n",
    "# Convert tokenized text to text\n",
    "def reverse_tokenize_sentence(df, colname):\n",
    "    df[colname] = df[colname].map(lambda word: ' '.join(word))\n",
    "    return df\n",
    "\n",
    "def text_cleaning(df, colname):\n",
    "    df = (\n",
    "        df\n",
    "        .pipe(tokenize, colname)\n",
    "        .pipe(remove_stop_words, colname)\n",
    "        .pipe(lemmatisation, colname)\n",
    "        .pipe(reverse_tokenize_sentence, colname)\n",
    "    )\n",
    "    return df"
   ]
  },
  {
   "cell_type": "code",
   "execution_count": 106,
   "metadata": {},
   "outputs": [
    {
     "data": {
      "text/plain": [
       "0            #colorado. Told #amazing http://t.co/6z0Qq7qe\n",
       "1        So #thankful #linemen! You guy #amazing #Hurri...\n",
       "2        ?@EmmaK46: Thinking everyone helping fight fir...\n",
       "3            #colorado. Told #amazing http://t.co/6z0Qq7qe\n",
       "4        Bringing Home: Impact flood ripple Aspen http:...\n",
       "                               ...                        \n",
       "55409    RT @IFSouthAmerica: Approximately 150 individu...\n",
       "55410    Approximately 150 individual Dept. #Narino, #C...\n",
       "55411    RT @IFSouthAmerica: Approximately 150 individu...\n",
       "55412    The sound sandbeach Orinoco River .Colombia #s...\n",
       "55413    #LoMï¿½sLeï¿½do en Medio Ambiente: Cacao colom...\n",
       "Name: text, Length: 55414, dtype: object"
      ]
     },
     "execution_count": 106,
     "metadata": {},
     "output_type": "execute_result"
    }
   ],
   "source": [
    "text_cleaning(df_final_copy, 'text')\n",
    "df_final_copy['text']"
   ]
  },
  {
   "cell_type": "code",
   "execution_count": 107,
   "metadata": {},
   "outputs": [],
   "source": [
    "def corpus(document):\n",
    "    \n",
    "    # remove urls\n",
    "    document = re.sub(r'http\\S+', \" \", document)\n",
    "    \n",
    "    # remove hashtag\n",
    "    document = re.sub(r'#+', \" \", document)\n",
    "\n",
    "    return document"
   ]
  },
  {
   "cell_type": "code",
   "execution_count": 108,
   "metadata": {},
   "outputs": [],
   "source": [
    "df_final_copy['text'] = df_final_copy['text'].apply(lambda x: corpus(x))"
   ]
  },
  {
   "cell_type": "code",
   "execution_count": 109,
   "metadata": {},
   "outputs": [
    {
     "data": {
      "text/plain": [
       "0                                colorado. Told  amazing  \n",
       "1        So  thankful  linemen! You guy  amazing  Hurri...\n",
       "2        ?@EmmaK46: Thinking everyone helping fight fir...\n",
       "3                                colorado. Told  amazing  \n",
       "4        Bringing Home: Impact flood ripple Aspen    as...\n",
       "                               ...                        \n",
       "55409    RT @IFSouthAmerica: Approximately 150 individu...\n",
       "55410    Approximately 150 individual Dept.  Narino,  C...\n",
       "55411    RT @IFSouthAmerica: Approximately 150 individu...\n",
       "55412    The sound sandbeach Orinoco River .Colombia  s...\n",
       "55413     LoMï¿½sLeï¿½do en Medio Ambiente: Cacao colom...\n",
       "Name: text, Length: 55414, dtype: object"
      ]
     },
     "execution_count": 109,
     "metadata": {},
     "output_type": "execute_result"
    }
   ],
   "source": [
    "df_final_copy['text']"
   ]
  },
  {
   "cell_type": "code",
   "execution_count": 110,
   "metadata": {},
   "outputs": [],
   "source": [
    "# Add the number of words\n",
    "df_final_copy[\"len_text\"] = df_final_copy[\"text\"].str.split().str.len()"
   ]
  },
  {
   "cell_type": "code",
   "execution_count": 111,
   "metadata": {},
   "outputs": [
    {
     "data": {
      "text/html": [
       "<div>\n",
       "<style scoped>\n",
       "    .dataframe tbody tr th:only-of-type {\n",
       "        vertical-align: middle;\n",
       "    }\n",
       "\n",
       "    .dataframe tbody tr th {\n",
       "        vertical-align: top;\n",
       "    }\n",
       "\n",
       "    .dataframe thead th {\n",
       "        text-align: right;\n",
       "    }\n",
       "</style>\n",
       "<table border=\"1\" class=\"dataframe\">\n",
       "  <thead>\n",
       "    <tr style=\"text-align: right;\">\n",
       "      <th></th>\n",
       "      <th>Tweet_ID</th>\n",
       "      <th>isTruncated</th>\n",
       "      <th>possibly_sensitive</th>\n",
       "      <th>created_at</th>\n",
       "      <th>retweet_count</th>\n",
       "      <th>n.properties.annotation_annotated</th>\n",
       "      <th>is_quote_status</th>\n",
       "      <th>annotation_num_judgements</th>\n",
       "      <th>annotation_postPriority</th>\n",
       "      <th>topic</th>\n",
       "      <th>...</th>\n",
       "      <th>occurences</th>\n",
       "      <th>Description_Hashtag</th>\n",
       "      <th>Is_RT</th>\n",
       "      <th>Nb_!</th>\n",
       "      <th>Nb_UpCaseWords</th>\n",
       "      <th>has_link</th>\n",
       "      <th>nb_words</th>\n",
       "      <th>unique_words</th>\n",
       "      <th>ratio_words</th>\n",
       "      <th>len_text</th>\n",
       "    </tr>\n",
       "  </thead>\n",
       "  <tbody>\n",
       "    <tr>\n",
       "      <td>0</td>\n",
       "      <td>582</td>\n",
       "      <td>False</td>\n",
       "      <td>False</td>\n",
       "      <td>2012-06-09T00:00Z</td>\n",
       "      <td>0</td>\n",
       "      <td>True</td>\n",
       "      <td>False</td>\n",
       "      <td>3</td>\n",
       "      <td>Low</td>\n",
       "      <td>TRECIS-CTIT-H-001</td>\n",
       "      <td>...</td>\n",
       "      <td>3</td>\n",
       "      <td>amazing</td>\n",
       "      <td>False</td>\n",
       "      <td>0</td>\n",
       "      <td>0</td>\n",
       "      <td>1</td>\n",
       "      <td>6</td>\n",
       "      <td>6</td>\n",
       "      <td>1.000000</td>\n",
       "      <td>3</td>\n",
       "    </tr>\n",
       "    <tr>\n",
       "      <td>1</td>\n",
       "      <td>28610</td>\n",
       "      <td>True</td>\n",
       "      <td>False</td>\n",
       "      <td>2018-09-16T00:00Z</td>\n",
       "      <td>0</td>\n",
       "      <td>True</td>\n",
       "      <td>True</td>\n",
       "      <td>3</td>\n",
       "      <td>Low</td>\n",
       "      <td>TRECIS-CTIT-H-026</td>\n",
       "      <td>...</td>\n",
       "      <td>3</td>\n",
       "      <td>amazing</td>\n",
       "      <td>False</td>\n",
       "      <td>1</td>\n",
       "      <td>0</td>\n",
       "      <td>1</td>\n",
       "      <td>17</td>\n",
       "      <td>17</td>\n",
       "      <td>1.000000</td>\n",
       "      <td>13</td>\n",
       "    </tr>\n",
       "    <tr>\n",
       "      <td>2</td>\n",
       "      <td>6516</td>\n",
       "      <td>False</td>\n",
       "      <td>False</td>\n",
       "      <td>2013-10-24T00:00Z</td>\n",
       "      <td>0</td>\n",
       "      <td>True</td>\n",
       "      <td>False</td>\n",
       "      <td>1</td>\n",
       "      <td>Low</td>\n",
       "      <td>TRECIS-CTIT-H-011</td>\n",
       "      <td>...</td>\n",
       "      <td>3</td>\n",
       "      <td>amazing</td>\n",
       "      <td>False</td>\n",
       "      <td>0</td>\n",
       "      <td>0</td>\n",
       "      <td>1</td>\n",
       "      <td>18</td>\n",
       "      <td>17</td>\n",
       "      <td>0.944444</td>\n",
       "      <td>14</td>\n",
       "    </tr>\n",
       "    <tr>\n",
       "      <td>3</td>\n",
       "      <td>582</td>\n",
       "      <td>False</td>\n",
       "      <td>False</td>\n",
       "      <td>2012-06-09T00:00Z</td>\n",
       "      <td>0</td>\n",
       "      <td>True</td>\n",
       "      <td>False</td>\n",
       "      <td>3</td>\n",
       "      <td>Low</td>\n",
       "      <td>TRECIS-CTIT-H-001</td>\n",
       "      <td>...</td>\n",
       "      <td>8</td>\n",
       "      <td>colorado</td>\n",
       "      <td>False</td>\n",
       "      <td>0</td>\n",
       "      <td>0</td>\n",
       "      <td>1</td>\n",
       "      <td>6</td>\n",
       "      <td>6</td>\n",
       "      <td>1.000000</td>\n",
       "      <td>3</td>\n",
       "    </tr>\n",
       "    <tr>\n",
       "      <td>4</td>\n",
       "      <td>2231</td>\n",
       "      <td>False</td>\n",
       "      <td>False</td>\n",
       "      <td>2013-09-21T00:00Z</td>\n",
       "      <td>0</td>\n",
       "      <td>False</td>\n",
       "      <td>False</td>\n",
       "      <td>0</td>\n",
       "      <td>Unknown</td>\n",
       "      <td>TRECIS-CTIT-H-003</td>\n",
       "      <td>...</td>\n",
       "      <td>8</td>\n",
       "      <td>colorado</td>\n",
       "      <td>False</td>\n",
       "      <td>0</td>\n",
       "      <td>0</td>\n",
       "      <td>1</td>\n",
       "      <td>12</td>\n",
       "      <td>12</td>\n",
       "      <td>1.000000</td>\n",
       "      <td>8</td>\n",
       "    </tr>\n",
       "  </tbody>\n",
       "</table>\n",
       "<p>5 rows × 34 columns</p>\n",
       "</div>"
      ],
      "text/plain": [
       "  Tweet_ID  isTruncated  possibly_sensitive         created_at  retweet_count  \\\n",
       "0      582        False               False  2012-06-09T00:00Z              0   \n",
       "1    28610         True               False  2018-09-16T00:00Z              0   \n",
       "2     6516        False               False  2013-10-24T00:00Z              0   \n",
       "3      582        False               False  2012-06-09T00:00Z              0   \n",
       "4     2231        False               False  2013-09-21T00:00Z              0   \n",
       "\n",
       "   n.properties.annotation_annotated  is_quote_status  \\\n",
       "0                               True            False   \n",
       "1                               True             True   \n",
       "2                               True            False   \n",
       "3                               True            False   \n",
       "4                              False            False   \n",
       "\n",
       "   annotation_num_judgements annotation_postPriority              topic  ...  \\\n",
       "0                          3                     Low  TRECIS-CTIT-H-001  ...   \n",
       "1                          3                     Low  TRECIS-CTIT-H-026  ...   \n",
       "2                          1                     Low  TRECIS-CTIT-H-011  ...   \n",
       "3                          3                     Low  TRECIS-CTIT-H-001  ...   \n",
       "4                          0                 Unknown  TRECIS-CTIT-H-003  ...   \n",
       "\n",
       "   occurences Description_Hashtag  Is_RT  Nb_!  Nb_UpCaseWords  has_link  \\\n",
       "0           3             amazing  False     0               0         1   \n",
       "1           3             amazing  False     1               0         1   \n",
       "2           3             amazing  False     0               0         1   \n",
       "3           8            colorado  False     0               0         1   \n",
       "4           8            colorado  False     0               0         1   \n",
       "\n",
       "   nb_words  unique_words  ratio_words len_text  \n",
       "0         6             6     1.000000        3  \n",
       "1        17            17     1.000000       13  \n",
       "2        18            17     0.944444       14  \n",
       "3         6             6     1.000000        3  \n",
       "4        12            12     1.000000        8  \n",
       "\n",
       "[5 rows x 34 columns]"
      ]
     },
     "execution_count": 111,
     "metadata": {},
     "output_type": "execute_result"
    }
   ],
   "source": [
    "df_final_copy.head()"
   ]
  },
  {
   "cell_type": "code",
   "execution_count": 112,
   "metadata": {},
   "outputs": [],
   "source": [
    "# Count the number of times each word appears\n",
    "count={}\n",
    "for i in range(len(df_final_copy['text'])):\n",
    "    for word in str(df_final_copy.iloc[i]['text']).split():\n",
    "        if word not in count:\n",
    "            count[word] = 1\n",
    "        else:\n",
    "            count[word] += 1"
   ]
  },
  {
   "cell_type": "code",
   "execution_count": 113,
   "metadata": {},
   "outputs": [
    {
     "data": {
      "text/plain": [
       "{'RT': 7626,\n",
       " 'ymmfire': 4686,\n",
       " '-': 4569,\n",
       " '&amp;': 3993,\n",
       " '?': 3522,\n",
       " 'I': 3242,\n",
       " 'RubyPH': 3178,\n",
       " 'The': 3028,\n",
       " 'earthquake': 3016,\n",
       " 'ymm': 2963,\n",
       " 'people': 2845,\n",
       " 'Nepal': 2696,\n",
       " 'Philippines': 2661,\n",
       " 'Mozambique': 2519,\n",
       " 'NepalEarthquake': 2280,\n",
       " 'fire': 2235,\n",
       " 'Hagupit': 2078,\n",
       " 'help': 2070,\n",
       " 'safe': 2016,\n",
       " 'CycloneKenneth': 1841,\n",
       " 'Typhoon': 1697,\n",
       " 'wildfire': 1668,\n",
       " 'hit': 1617,\n",
       " 'We': 1604,\n",
       " 'Alberta': 1602,\n",
       " 'need': 1510,\n",
       " 'u': 1509,\n",
       " 'flood': 1448,\n",
       " '??': 1395,\n",
       " 'via': 1382,\n",
       " 'rain': 1366,\n",
       " 'affected': 1360,\n",
       " 'Dallas': 1326,\n",
       " 'This': 1300,\n",
       " 'shooting': 1284,\n",
       " 'still': 1240,\n",
       " 'abfire': 1240,\n",
       " 'A': 1223,\n",
       " 'Please': 1211,\n",
       " 'Stay': 1195,\n",
       " 'say': 1194,\n",
       " 'Kenneth': 1189,\n",
       " 'Cyclone': 1155,\n",
       " '.': 1103,\n",
       " 'like': 1094,\n",
       " 'go': 1092,\n",
       " 'storm': 1091,\n",
       " '2': 1086,\n",
       " '|': 1082,\n",
       " 'one': 1053,\n",
       " 'Fort': 1047,\n",
       " 'everyone': 1046,\n",
       " 'Earthquake': 1041,\n",
       " 'home': 1040,\n",
       " 'area': 1029,\n",
       " 'yeg': 1009,\n",
       " 'yycflood': 1008,\n",
       " '...': 1001,\n",
       " 'get': 985,\n",
       " 'HurricaneFlorence': 982,\n",
       " 'Paris': 953,\n",
       " 'cyclone': 951,\n",
       " 'flooding': 949,\n",
       " 'news': 942,\n",
       " 'prayer': 936,\n",
       " 'yyc': 927,\n",
       " 'evacuation': 924,\n",
       " 'wind': 923,\n",
       " 'family': 921,\n",
       " 'day': 919,\n",
       " 'smoke': 916,\n",
       " 'High': 910,\n",
       " 'make': 907,\n",
       " 'near': 896,\n",
       " 'Our': 888,\n",
       " 'bigwet': 884,\n",
       " 'please': 861,\n",
       " 'typhoon': 857,\n",
       " 'God': 806,\n",
       " '@': 800,\n",
       " 'today': 796,\n",
       " 'pray': 795,\n",
       " 'northern': 789,\n",
       " 'stay': 788,\n",
       " 'due': 783,\n",
       " 'nswfires': 763,\n",
       " 'thought': 757,\n",
       " 'update': 749,\n",
       " 'victim': 741,\n",
       " 'My': 741,\n",
       " 'If': 737,\n",
       " '4': 727,\n",
       " 'see': 718,\n",
       " 'time': 712,\n",
       " 'NepalQuake': 707,\n",
       " 'climate': 699,\n",
       " 'DurbanFloods': 698,\n",
       " 'Florence': 686,\n",
       " 'ABfire': 679,\n",
       " 'know': 675,\n",
       " 'emergency': 667,\n",
       " 'TyphoonHagupit': 664,\n",
       " 'right': 661,\n",
       " 'abflood': 654,\n",
       " 'keep': 651,\n",
       " 'least': 645,\n",
       " 'hurricane': 643,\n",
       " 'More': 641,\n",
       " 'water': 632,\n",
       " 'PrayForParis': 627,\n",
       " '3': 626,\n",
       " 'weather': 625,\n",
       " 'last': 624,\n",
       " 'South': 623,\n",
       " 'Colorado': 621,\n",
       " 'landfall': 616,\n",
       " 'News': 614,\n",
       " 'HighLevel': 604,\n",
       " 'world': 603,\n",
       " 'McMurray': 598,\n",
       " 'In': 585,\n",
       " '???': 584,\n",
       " 'support': 582,\n",
       " 'take': 575,\n",
       " 'police': 573,\n",
       " 'Keep': 570,\n",
       " 'dead': 562,\n",
       " 'hurricaneflorence': 559,\n",
       " 'much': 558,\n",
       " 'heavy': 558,\n",
       " 'live': 554,\n",
       " 'hope': 553,\n",
       " 'EarthquakePH': 553,\n",
       " 'Hurricane': 550,\n",
       " 'Manila': 550,\n",
       " 'relief': 549,\n",
       " 'damage': 548,\n",
       " 'PrayForThePhilippines': 548,\n",
       " 'killed': 547,\n",
       " 'CycloneIdai': 547,\n",
       " 'way': 542,\n",
       " 'life': 541,\n",
       " 'community': 539,\n",
       " 'ableg': 539,\n",
       " 'part': 538,\n",
       " 'Durban': 538,\n",
       " 'another': 537,\n",
       " 'Just': 537,\n",
       " 'friend': 536,\n",
       " 'going': 535,\n",
       " 'resident': 531,\n",
       " 'Level': 531,\n",
       " 'report': 530,\n",
       " 'toll': 530,\n",
       " 'Africa': 530,\n",
       " 'So': 529,\n",
       " 'safe.': 527,\n",
       " 'good': 525,\n",
       " 'first': 515,\n",
       " 'At': 512,\n",
       " 'many': 511,\n",
       " 'week': 509,\n",
       " 'Fire': 508,\n",
       " 'Thank': 508,\n",
       " 'expected': 503,\n",
       " 'LAX': 501,\n",
       " 'evacuated': 498,\n",
       " 'around': 496,\n",
       " 'now.': 494,\n",
       " 'team': 493,\n",
       " 'love': 491,\n",
       " 'may': 490,\n",
       " 'For': 488,\n",
       " \"It's\": 486,\n",
       " 'rmwb': 486,\n",
       " 'work': 484,\n",
       " 'country': 484,\n",
       " 'today.': 481,\n",
       " 'No': 481,\n",
       " '1': 480,\n",
       " 'KZNFloods': 476,\n",
       " 'death': 473,\n",
       " 'Be': 472,\n",
       " 'school': 471,\n",
       " 'As': 469,\n",
       " 'strong': 469,\n",
       " '=': 465,\n",
       " 'How': 463,\n",
       " 'disaster': 462,\n",
       " 'look': 461,\n",
       " 'PabloPH': 461,\n",
       " 'May': 460,\n",
       " 'call': 458,\n",
       " 'ABFire': 456,\n",
       " 'back': 451,\n",
       " 'two': 451,\n",
       " 'heart': 450,\n",
       " 'It': 450,\n",
       " 'could': 443,\n",
       " 'Haiyan': 443,\n",
       " 'Prayers': 443,\n",
       " 'photo': 441,\n",
       " 'power': 439,\n",
       " 'hour': 439,\n",
       " 'made': 436,\n",
       " 'show': 434,\n",
       " 'North': 433,\n",
       " 'magnitude': 433,\n",
       " 'latest': 428,\n",
       " 'morning': 427,\n",
       " 'across': 427,\n",
       " 'shot': 426,\n",
       " 'working': 426,\n",
       " \"I'm\": 425,\n",
       " 'Canada': 425,\n",
       " 'quake': 420,\n",
       " 'You': 419,\n",
       " 'coming': 417,\n",
       " 'abpoli': 411,\n",
       " 'New': 410,\n",
       " 'Northern': 410,\n",
       " 'donation': 407,\n",
       " 'also': 407,\n",
       " 'come': 407,\n",
       " 'want': 405,\n",
       " 'Help': 405,\n",
       " 'Idai': 401,\n",
       " 'situation': 401,\n",
       " 'ABwildfire': 399,\n",
       " 'Calgary': 397,\n",
       " 'Tanzania': 397,\n",
       " 'Mozambique,': 393,\n",
       " 'place': 388,\n",
       " 'city': 386,\n",
       " 'aid': 386,\n",
       " 'Tropical': 385,\n",
       " 'even': 385,\n",
       " 'Pray': 383,\n",
       " 'local': 380,\n",
       " 'new': 378,\n",
       " 'continue': 376,\n",
       " 'And': 376,\n",
       " 'would': 375,\n",
       " 'north': 374,\n",
       " 'reliefPH': 374,\n",
       " 'To': 373,\n",
       " 'What': 369,\n",
       " 'Good': 367,\n",
       " 'getting': 367,\n",
       " 'town': 367,\n",
       " 'lost': 365,\n",
       " 'travel': 365,\n",
       " 'nepal': 365,\n",
       " 'got': 364,\n",
       " 'million': 362,\n",
       " 'lindol': 362,\n",
       " 'cdnpoli': 360,\n",
       " 'climatechange': 360,\n",
       " 'PM': 357,\n",
       " 'donate': 356,\n",
       " 'since': 354,\n",
       " 'air': 350,\n",
       " \"Let's\": 348,\n",
       " 'flight': 345,\n",
       " 'video': 342,\n",
       " 'River': 341,\n",
       " 'KZN': 341,\n",
       " 'MaringPH': 341,\n",
       " 'away': 340,\n",
       " 'really': 340,\n",
       " 'give': 340,\n",
       " 'caused': 339,\n",
       " 'Storm': 336,\n",
       " 'Shooting': 336,\n",
       " 'PrayForVisayas': 336,\n",
       " 'Wildfire': 334,\n",
       " 'Praying': 333,\n",
       " '5': 333,\n",
       " 'All': 332,\n",
       " 'BREAKING:': 331,\n",
       " 'food': 331,\n",
       " 'tropical': 331,\n",
       " 'Another': 329,\n",
       " 'high': 328,\n",
       " 'already': 328,\n",
       " 'province': 327,\n",
       " 'Emergency': 327,\n",
       " 'crew': 327,\n",
       " 'rescuePH': 327,\n",
       " 'response': 322,\n",
       " 'abwildfire': 322,\n",
       " '&': 322,\n",
       " '2019': 321,\n",
       " 'RescuePH': 321,\n",
       " 'officer': 320,\n",
       " 'left': 319,\n",
       " ':': 318,\n",
       " 'official': 314,\n",
       " ',': 314,\n",
       " 'Nepal.': 314,\n",
       " 'Carolina': 314,\n",
       " 'following': 313,\n",
       " 'attack': 312,\n",
       " 'change': 312,\n",
       " \"can't\": 312,\n",
       " 'protest': 312,\n",
       " 'People': 310,\n",
       " 'effort': 310,\n",
       " '(': 310,\n",
       " 'thing': 310,\n",
       " 'Philippines.': 308,\n",
       " 'feel': 307,\n",
       " 'walangpasok': 307,\n",
       " 'UPDATE:': 306,\n",
       " '/': 306,\n",
       " 'year': 306,\n",
       " 'think': 306,\n",
       " 'Comoros': 304,\n",
       " 'ReliefPH': 303,\n",
       " 'Death': 302,\n",
       " 'house': 301,\n",
       " 'devastating': 301,\n",
       " 'closed': 301,\n",
       " '????': 300,\n",
       " 'After': 298,\n",
       " 'rescue': 296,\n",
       " 'start': 295,\n",
       " 'City': 295,\n",
       " 'hagupit': 295,\n",
       " 'Mozambique.': 294,\n",
       " 'volunteer': 293,\n",
       " 'helping': 289,\n",
       " 'evacuee': 289,\n",
       " 'safety': 287,\n",
       " 'ready': 286,\n",
       " 'Thanks': 283,\n",
       " 'open': 283,\n",
       " 'night': 282,\n",
       " 'Hope': 282,\n",
       " 'wildfires': 282,\n",
       " 'yegwx': 282,\n",
       " 'impact': 281,\n",
       " 'map': 280,\n",
       " 'warning': 280,\n",
       " 'far': 278,\n",
       " 'Eastern': 278,\n",
       " 'firefighter': 277,\n",
       " 'Travel': 277,\n",
       " 'use': 276,\n",
       " 'everyone!': 276,\n",
       " 'next': 275,\n",
       " 'condition': 275,\n",
       " 'ParisAttacks': 274,\n",
       " 'Magnitude': 273,\n",
       " 'qldfloods': 272,\n",
       " 'Weather': 271,\n",
       " 'stop': 271,\n",
       " 'w/': 269,\n",
       " 'HurricaneFlorence2018': 269,\n",
       " 'forest': 267,\n",
       " 'risk': 266,\n",
       " 'President': 266,\n",
       " 'km': 265,\n",
       " ':)': 265,\n",
       " 'south': 264,\n",
       " 'FortMcMurray': 263,\n",
       " 'SouthAfrica': 263,\n",
       " 'lot': 262,\n",
       " 'safe!': 262,\n",
       " 'level': 262,\n",
       " 'month': 261,\n",
       " 'moving': 260,\n",
       " 'building': 259,\n",
       " 'medium': 259,\n",
       " 'coast': 259,\n",
       " 'rise': 258,\n",
       " 'thousand': 257,\n",
       " 'Pemba': 257,\n",
       " 'YMM': 257,\n",
       " 'Red': 256,\n",
       " 'Thoughts': 256,\n",
       " 'cause': 255,\n",
       " 'Kathmandu': 255,\n",
       " 'floods': 255,\n",
       " 'downtown': 255,\n",
       " 'hard': 254,\n",
       " 'Philippines,': 254,\n",
       " 'Slave': 254,\n",
       " 'Cebu': 254,\n",
       " 'government': 254,\n",
       " 'let': 254,\n",
       " 'said': 253,\n",
       " 'Thinking': 252,\n",
       " 'ground': 252,\n",
       " 'road': 252,\n",
       " 'quality': 251,\n",
       " 'everyone.': 251,\n",
       " 'prayforparis': 251,\n",
       " 'tomorrow': 248,\n",
       " 'here:': 248,\n",
       " 'powerful': 248,\n",
       " 'India': 248,\n",
       " ':(': 248,\n",
       " 'Alberta.': 248,\n",
       " 'There': 248,\n",
       " 'ClimateChange': 247,\n",
       " 'well': 246,\n",
       " 'image': 246,\n",
       " 'Philippines:': 246,\n",
       " 'Now': 245,\n",
       " 'ThankYouPM': 245,\n",
       " '24': 245,\n",
       " 'coverage': 244,\n",
       " 'Lake': 244,\n",
       " '2.': 244,\n",
       " 'find': 243,\n",
       " 'big': 243,\n",
       " 'Luzon': 243,\n",
       " 'Pls': 243,\n",
       " 'Some': 242,\n",
       " 'every': 242,\n",
       " 'absmoke': 242,\n",
       " 'staysafe': 241,\n",
       " 'help.': 241,\n",
       " 'Texas': 239,\n",
       " 'cop': 239,\n",
       " 'burning': 238,\n",
       " 'explosion': 238,\n",
       " 'Ruby': 238,\n",
       " '!': 238,\n",
       " 'information': 237,\n",
       " '10': 236,\n",
       " 'major': 236,\n",
       " '1.': 236,\n",
       " 'light': 235,\n",
       " 'Here': 234,\n",
       " 'reported': 234,\n",
       " 'never': 234,\n",
       " 'rainfall': 233,\n",
       " 'safe,': 233,\n",
       " 'NepalQuakeRelief': 233,\n",
       " 'ever': 233,\n",
       " 'currently': 232,\n",
       " 'NC': 232,\n",
       " 'put': 231,\n",
       " 'evacuate': 231,\n",
       " 'tonight': 231,\n",
       " 'shelter': 231,\n",
       " 'praying': 231,\n",
       " 'alert': 231,\n",
       " 'always': 231,\n",
       " 'YolandaPH': 231,\n",
       " 'Take': 230,\n",
       " 'THE': 230,\n",
       " 'child': 230,\n",
       " 'injured': 230,\n",
       " 'sure': 230,\n",
       " 'bad': 230,\n",
       " 'it?s': 230,\n",
       " 'sa': 230,\n",
       " 'Flood': 229,\n",
       " 'strike': 228,\n",
       " 'philippines': 228,\n",
       " 'With': 227,\n",
       " 'Watch': 227,\n",
       " '8': 225,\n",
       " '3.': 225,\n",
       " \"Here's\": 224,\n",
       " 'view': 224,\n",
       " 'news:': 224,\n",
       " 'seen': 223,\n",
       " 'HighLevelFire': 222,\n",
       " 'must': 222,\n",
       " 'San': 221,\n",
       " 'holiday': 221,\n",
       " 'April': 220,\n",
       " 'On': 220,\n",
       " '6': 219,\n",
       " 'making': 219,\n",
       " 'coflood': 218,\n",
       " 'state': 218,\n",
       " '6.1': 218,\n",
       " '4.': 218,\n",
       " 'Baltimore': 217,\n",
       " 'Not': 216,\n",
       " 'kill': 216,\n",
       " 'bring': 215,\n",
       " 'Philippine': 215,\n",
       " 'close': 215,\n",
       " 'yet': 215,\n",
       " 'info': 214,\n",
       " 'BREAKING': 213,\n",
       " 'felt': 212,\n",
       " 'Your': 212,\n",
       " 'people.': 211,\n",
       " 'Boston': 211,\n",
       " 'head': 210,\n",
       " 'Disaster': 210,\n",
       " 'heading': 210,\n",
       " 'sky': 210,\n",
       " 'Tacloban': 210,\n",
       " 'leave': 209,\n",
       " 'World': 209,\n",
       " 'fortmcmurray': 209,\n",
       " 'boulderflood': 208,\n",
       " 'share': 208,\n",
       " 'move': 207,\n",
       " 'recent': 207,\n",
       " 'US': 207,\n",
       " 'earthquake.': 207,\n",
       " 'highlevel': 206,\n",
       " 'IndiaWithNepal': 206,\n",
       " 'you.': 205,\n",
       " 'save': 205,\n",
       " 'flights': 204,\n",
       " 'anyone': 204,\n",
       " 'fighting': 203,\n",
       " 'region': 203,\n",
       " 'moment': 203,\n",
       " 'AM': 202,\n",
       " 'suspect': 202,\n",
       " 'taken': 202,\n",
       " 'class': 202,\n",
       " 'hotels': 201,\n",
       " 'FloodPH': 201,\n",
       " 'continues': 200,\n",
       " 'found': 200,\n",
       " 'second': 200,\n",
       " 'plan': 200,\n",
       " 'send': 200,\n",
       " 'Flooding': 200,\n",
       " 'towards': 200,\n",
       " 'outdoor': 200,\n",
       " 'cruise': 199,\n",
       " 'Safe': 199,\n",
       " 'Latest': 198,\n",
       " 'UN': 198,\n",
       " 'From': 198,\n",
       " 'great': 198,\n",
       " 'today,': 198,\n",
       " 'de': 198,\n",
       " 'care': 197,\n",
       " 'impacted': 197,\n",
       " 'bless': 196,\n",
       " 'Is': 196,\n",
       " 'assist': 196,\n",
       " 'vacation': 196,\n",
       " 'trips': 196,\n",
       " 'cruises': 196,\n",
       " 'resorts': 196,\n",
       " 'places': 196,\n",
       " 'One': 195,\n",
       " 'destroyed': 195,\n",
       " 'better': 195,\n",
       " 'First': 195,\n",
       " 'TO': 195,\n",
       " 'ppl': 195,\n",
       " 'thank': 195,\n",
       " 'struck': 194,\n",
       " 'us.': 194,\n",
       " 'TyphoonRuby': 194,\n",
       " 'Update': 193,\n",
       " 'reach': 193,\n",
       " 'man': 193,\n",
       " 'U': 193,\n",
       " 'Everyone': 193,\n",
       " 'area.': 192,\n",
       " 'Sending': 192,\n",
       " 'humanitarian': 192,\n",
       " 'line': 191,\n",
       " '11': 191,\n",
       " 'Colombia': 191,\n",
       " 'He': 191,\n",
       " 'ncwx': 191,\n",
       " 'Follow': 190,\n",
       " 'outside': 190,\n",
       " 'visit': 190,\n",
       " 'issued': 189,\n",
       " \"We're\": 189,\n",
       " 'tweet': 189,\n",
       " 'Police': 188,\n",
       " 'Edmonton': 188,\n",
       " 'satellite': 188,\n",
       " 'NSWRFS': 188,\n",
       " 'massive': 187,\n",
       " 'southern': 187,\n",
       " 'thanks': 187,\n",
       " 'looking': 187,\n",
       " 'YungCrushMoNa': 187,\n",
       " 'AB': 186,\n",
       " 'hear': 186,\n",
       " 'Heavy': 186,\n",
       " 'Still': 185,\n",
       " 'happening': 184,\n",
       " 'LIVE': 184,\n",
       " 'number': 184,\n",
       " 'eye': 184,\n",
       " 'supply': 184,\n",
       " 'le': 184,\n",
       " 'An': 184,\n",
       " 'along': 183,\n",
       " \"Don't\": 183,\n",
       " 'BlackLivesMatter': 183,\n",
       " 'missing': 183,\n",
       " 'Bohol': 183,\n",
       " 'Creek': 181,\n",
       " '5.': 181,\n",
       " 'sad': 180,\n",
       " 'Alberta,': 180,\n",
       " 'destruction': 180,\n",
       " 'including': 180,\n",
       " 'picture': 179,\n",
       " 'real': 179,\n",
       " 'west': 179,\n",
       " 'central': 179,\n",
       " 'needed': 178,\n",
       " 'check': 178,\n",
       " 'order': 178,\n",
       " 'Boulder': 177,\n",
       " 'Alert': 177,\n",
       " 'office': 177,\n",
       " 'follow': 176,\n",
       " 'island': 176,\n",
       " 'died': 175,\n",
       " 'river': 175,\n",
       " 'Let': 175,\n",
       " 'Two': 175,\n",
       " 'Metro': 175,\n",
       " 'taking': 174,\n",
       " 'tonight.': 174,\n",
       " 'business': 174,\n",
       " 'NorthCarolina': 174,\n",
       " 'story': 173,\n",
       " \"we're\": 173,\n",
       " 'little': 173,\n",
       " 'service': 173,\n",
       " 'happened': 173,\n",
       " 'scary': 172,\n",
       " 'provide': 172,\n",
       " 'alberta': 171,\n",
       " 'sent': 170,\n",
       " 'student': 170,\n",
       " 'Air': 170,\n",
       " 'strength': 170,\n",
       " 'Mac': 170,\n",
       " 'Indian': 169,\n",
       " 'COflood': 168,\n",
       " 'turn': 168,\n",
       " 'But': 168,\n",
       " 'dallas': 168,\n",
       " 'kid': 167,\n",
       " 'past': 167,\n",
       " 'staff': 167,\n",
       " 'Apr': 167,\n",
       " 'HighParkFire': 166,\n",
       " 'sending': 166,\n",
       " 'When': 166,\n",
       " 'Friday': 166,\n",
       " 'best': 166,\n",
       " 'forecast': 166,\n",
       " 'Evacuation': 165,\n",
       " 'Floods': 165,\n",
       " 'prepared': 165,\n",
       " '+': 165,\n",
       " 'loved': 165,\n",
       " '100': 164,\n",
       " 'Pampanga': 164,\n",
       " 'FOR': 164,\n",
       " 'na': 164,\n",
       " 'Check': 163,\n",
       " 'tree': 163,\n",
       " 'full': 163,\n",
       " 'possible': 163,\n",
       " 'trying': 162,\n",
       " 'Great': 162,\n",
       " 'Monday': 162,\n",
       " 'Relief': 162,\n",
       " 'without': 162,\n",
       " 'tell': 161,\n",
       " 'free': 161,\n",
       " 'NSW': 161,\n",
       " 'RubyPh': 161,\n",
       " 'prayforboston': 160,\n",
       " 'you!': 159,\n",
       " 'Chile': 159,\n",
       " '51': 159,\n",
       " 'devastation': 159,\n",
       " 'Everest': 159,\n",
       " 'Dallas.': 159,\n",
       " '\"Trending': 159,\n",
       " 'PHT\"': 159,\n",
       " 'person': 158,\n",
       " 'starting': 158,\n",
       " 'MT': 157,\n",
       " 'morning.': 157,\n",
       " 'time.': 157,\n",
       " 'there.': 157,\n",
       " 'aftermath': 157,\n",
       " 'International': 157,\n",
       " 'Visayas': 157,\n",
       " 'Information': 157,\n",
       " 'responder': 156,\n",
       " 'someone': 155,\n",
       " 'Smoke': 155,\n",
       " 'woman': 155,\n",
       " 'dry': 155,\n",
       " 'control': 155,\n",
       " 'USA': 155,\n",
       " 'TSA': 155,\n",
       " 'protect': 155,\n",
       " 'pic': 155,\n",
       " 'HurricanceFlorence': 155,\n",
       " 'likely': 154,\n",
       " 'centre': 154,\n",
       " '30': 154,\n",
       " 'early': 154,\n",
       " 'operation': 154,\n",
       " 'wake': 154,\n",
       " 'amazing': 153,\n",
       " 'ChuckeggCreekFire': 153,\n",
       " 'prepare': 153,\n",
       " 'killing': 153,\n",
       " 'guy': 152,\n",
       " 'Can': 152,\n",
       " 'contact': 152,\n",
       " 'inside': 152,\n",
       " 'afternoon': 151,\n",
       " 'YYC': 150,\n",
       " 'Bopha': 150,\n",
       " 'See': 150,\n",
       " 'policeshootings': 150,\n",
       " 'three': 149,\n",
       " 'force': 149,\n",
       " 'Obama': 149,\n",
       " '--': 149,\n",
       " 'reporting': 149,\n",
       " 'worst': 149,\n",
       " 'NOT': 149,\n",
       " 'Florida': 149,\n",
       " 'oil': 148,\n",
       " 'Premier': 148,\n",
       " 'strongest': 148,\n",
       " 'word': 148,\n",
       " 'per': 147,\n",
       " 'Strong': 147,\n",
       " 'deadly': 147,\n",
       " 'They': 146,\n",
       " 'brother': 146,\n",
       " 'Lord': 146,\n",
       " 'Malawi': 146,\n",
       " 'florence': 145,\n",
       " 'set': 145,\n",
       " '7': 145,\n",
       " 'albertawildfire': 145,\n",
       " 'Oh': 145,\n",
       " 'IN': 145,\n",
       " 'Twitter': 145,\n",
       " 'storm.': 145,\n",
       " 'ago.': 144,\n",
       " 'station': 144,\n",
       " 'BaltimoreRiots': 144,\n",
       " 'worse': 144,\n",
       " 'COP20': 144,\n",
       " '?????': 144,\n",
       " 'That': 143,\n",
       " 'Get': 143,\n",
       " 'PH': 143,\n",
       " 'African': 143,\n",
       " 'Thursday': 143,\n",
       " 'These': 143,\n",
       " '*': 143,\n",
       " 'them.': 142,\n",
       " 'fire.': 142,\n",
       " 'West': 142,\n",
       " 'Love': 142,\n",
       " 'ABWildfire': 142,\n",
       " 'wish': 142,\n",
       " 'Water': 142,\n",
       " 'using': 141,\n",
       " 'five': 141,\n",
       " 'Australia': 141,\n",
       " 'drive': 141,\n",
       " 'health': 141,\n",
       " 'threat': 141,\n",
       " 'calm': 141,\n",
       " 'aftershock': 141,\n",
       " 'pls': 141,\n",
       " 'Level,': 140,\n",
       " 'ClimateEmergency': 140,\n",
       " 'YOU': 140,\n",
       " 'result': 140,\n",
       " 'PrayForPhilippines': 140,\n",
       " 'fund': 139,\n",
       " 'face': 139,\n",
       " 'Do': 139,\n",
       " 'r': 139,\n",
       " 'authority': 138,\n",
       " 'devastated': 138,\n",
       " 'PLEASE': 138,\n",
       " 'displaced': 137,\n",
       " 'event': 137,\n",
       " 'Have': 137,\n",
       " 'Kenney': 137,\n",
       " 'hundred': 137,\n",
       " 'home.': 136,\n",
       " 'suspended': 136,\n",
       " 'Climate': 136,\n",
       " 'RMWB': 136,\n",
       " 'gas': 135,\n",
       " '50': 135,\n",
       " 'told': 135,\n",
       " 'dangerous': 135,\n",
       " 'natural': 135,\n",
       " 'offer': 135,\n",
       " 'Video': 135,\n",
       " 'Sunday': 135,\n",
       " 'member': 135,\n",
       " 'especially': 135,\n",
       " 'Lindol': 135,\n",
       " 'nation': 134,\n",
       " 'danger': 134,\n",
       " 'talk': 134,\n",
       " 'dead,': 134,\n",
       " 'Last': 134,\n",
       " 'social': 134,\n",
       " 'Hoping': 134,\n",
       " 'Park': 133,\n",
       " 'together': 133,\n",
       " 'Residents': 133,\n",
       " 'Super': 133,\n",
       " 'mandatory': 133,\n",
       " 'Dear': 133,\n",
       " 'tsunami': 133,\n",
       " 'Samar': 133,\n",
       " 'surge': 133,\n",
       " 'Southern': 133,\n",
       " '\"': 132,\n",
       " 'behind': 132,\n",
       " 'Zimbabwe': 132,\n",
       " 'TCKenneth': 132,\n",
       " 'fight': 131,\n",
       " 'Rd': 131,\n",
       " 'yesterday': 131,\n",
       " 'mile': 131,\n",
       " 'assistance': 131,\n",
       " 'loss': 131,\n",
       " 'It?s': 131,\n",
       " 'heard': 131,\n",
       " 'Mayor': 131,\n",
       " '60': 131,\n",
       " '20': 131,\n",
       " 'DurbanRain': 131,\n",
       " 'OF': 131,\n",
       " 'center': 130,\n",
       " 'old': 130,\n",
       " 'sign': 130,\n",
       " 'days.': 130,\n",
       " 'BBC': 130,\n",
       " 'Rescue': 130,\n",
       " 'intense': 130,\n",
       " 'airport': 130,\n",
       " 'Airport': 130,\n",
       " 'everything': 130,\n",
       " 'Location': 130,\n",
       " 'FlorenceNC': 130,\n",
       " 'cover': 129,\n",
       " 'CNN': 129,\n",
       " 'Nepal,': 129,\n",
       " 'LAXShooting': 129,\n",
       " 'ALL': 129,\n",
       " 'Depth': 129,\n",
       " 'Of': 128,\n",
       " 'Why': 128,\n",
       " 'hold': 128,\n",
       " 'fires.': 127,\n",
       " 'fear': 127,\n",
       " 'action': 127,\n",
       " 'almost': 127,\n",
       " 'remains': 127,\n",
       " 'Cabo': 127,\n",
       " 'might': 127,\n",
       " 'I?m': 127,\n",
       " 'State': 126,\n",
       " 'history': 126,\n",
       " 'flee': 126,\n",
       " 'thinking': 126,\n",
       " 'tragedy': 126,\n",
       " '??????': 126,\n",
       " 'Rain': 125,\n",
       " 'Health': 125,\n",
       " 'France': 125,\n",
       " 'ClimateCrisis': 125,\n",
       " '14': 125,\n",
       " 'clean': 125,\n",
       " 'No.1': 125,\n",
       " 'burn': 124,\n",
       " 'smoke.': 124,\n",
       " 'eastern': 124,\n",
       " '15': 124,\n",
       " 'it.': 124,\n",
       " 'able': 124,\n",
       " 'effect': 124,\n",
       " 'KwaZulu-Natal': 124,\n",
       " 'mean': 124,\n",
       " 'stand': 124,\n",
       " 'took': 123,\n",
       " 'here.': 123,\n",
       " 'County': 123,\n",
       " '12': 123,\n",
       " 'scene': 123,\n",
       " 'now,': 123,\n",
       " 'day.': 123,\n",
       " 'ymmfire.': 123,\n",
       " 'shooter': 123,\n",
       " 'sabcnews': 123,\n",
       " 'Date': 123,\n",
       " 'Time:': 123,\n",
       " 'kilometer': 123,\n",
       " 'Cross': 122,\n",
       " 'Powerful': 122,\n",
       " 'recovery': 122,\n",
       " 'fellow': 122,\n",
       " 'Cape': 122,\n",
       " 'happy': 122,\n",
       " 'prayers': 122,\n",
       " 'done': 122,\n",
       " 'long': 121,\n",
       " 'COFlood': 121,\n",
       " 'hashtag': 121,\n",
       " 'leaving': 121,\n",
       " 'available': 121,\n",
       " 'country.': 121,\n",
       " 'up.': 121,\n",
       " 'n': 121,\n",
       " 'confirmed': 120,\n",
       " 'tip': 120,\n",
       " 'list': 120,\n",
       " '23': 120,\n",
       " 'remember': 120,\n",
       " 'resource': 119,\n",
       " 'Wednesday': 119,\n",
       " 'ass': 119,\n",
       " '2nd': 119,\n",
       " 'weekend': 119,\n",
       " 'serious': 119,\n",
       " 'approach': 119,\n",
       " 'too.': 119,\n",
       " 'out.': 119,\n",
       " 'rubyph': 119,\n",
       " 'damaged': 118,\n",
       " 'whole': 118,\n",
       " 'Donate': 118,\n",
       " 'watch': 118,\n",
       " 'worker': 118,\n",
       " 'Sydney': 118,\n",
       " 'several': 118,\n",
       " 'village': 118,\n",
       " 'donating': 118,\n",
       " 'higher': 118,\n",
       " 'minute': 118,\n",
       " 'nothing': 118,\n",
       " 'poor': 118,\n",
       " 'rain.': 118,\n",
       " 'ruby': 118,\n",
       " 'ago': 118,\n",
       " 'ang': 118,\n",
       " 'DallasShooting': 118,\n",
       " 'cut': 117,\n",
       " 'traffic': 117,\n",
       " 'survivor': 117,\n",
       " 'McMurray.': 117,\n",
       " 'Happy': 117,\n",
       " 'living': 117,\n",
       " '..': 117,\n",
       " \"what's\": 117,\n",
       " 'public': 116,\n",
       " 'Moroni': 116,\n",
       " 'statement': 116,\n",
       " 'Read': 116,\n",
       " 'IS': 116,\n",
       " 'M': 116,\n",
       " 'others': 116,\n",
       " 'earlier': 116,\n",
       " 'December': 116,\n",
       " 'carbon': 116,\n",
       " 'seeing': 116,\n",
       " 'areas.': 116,\n",
       " 'Call': 116,\n",
       " 'Parkland': 116,\n",
       " 'severe': 116,\n",
       " 'front': 115,\n",
       " 'remain': 115,\n",
       " 'California': 115,\n",
       " 'Tuesday': 115,\n",
       " 'all.': 115,\n",
       " 'ymm.': 115,\n",
       " 'TRBinManila': 115,\n",
       " 'N': 114,\n",
       " 'folk': 114,\n",
       " 'synagogue': 114,\n",
       " ...}"
      ]
     },
     "execution_count": 113,
     "metadata": {},
     "output_type": "execute_result"
    }
   ],
   "source": [
    "# Most used words\n",
    "rank = dict(sorted(count.items(), key=lambda item: item[1], reverse=True))\n",
    "rank"
   ]
  },
  {
   "cell_type": "markdown",
   "metadata": {},
   "source": [
    "## Prediction of the variable \"annotation_postPriority\"\n",
    "## ie. Prediction of the criticality of the tweet"
   ]
  },
  {
   "cell_type": "code",
   "execution_count": 114,
   "metadata": {},
   "outputs": [
    {
     "data": {
      "text/plain": [
       "Index(['Tweet_ID', 'isTruncated', 'possibly_sensitive', 'created_at',\n",
       "       'retweet_count', 'n.properties.annotation_annotated', 'is_quote_status',\n",
       "       'annotation_num_judgements', 'annotation_postPriority', 'topic',\n",
       "       'favorite_count', 'text', 'User_ID', 'friends_count', 'isVerified',\n",
       "       'listed_count', 'statuses_count', 'favourites_count', 'followers_count',\n",
       "       'name', 'Event_ID', 'Description_Event', 'eventType', 'Hashtag_ID',\n",
       "       'occurences', 'Description_Hashtag', 'Is_RT', 'Nb_!', 'Nb_UpCaseWords',\n",
       "       'has_link', 'nb_words', 'unique_words', 'ratio_words', 'len_text'],\n",
       "      dtype='object')"
      ]
     },
     "execution_count": 114,
     "metadata": {},
     "output_type": "execute_result"
    }
   ],
   "source": [
    "df_final_copy.columns"
   ]
  },
  {
   "cell_type": "code",
   "execution_count": 115,
   "metadata": {},
   "outputs": [],
   "source": [
    "# New data with the columns kept\n",
    "df = df_final_copy.drop(columns=['Tweet_ID','created_at','User_ID', 'Event_ID','Hashtag_ID','topic','text','Description_Hashtag','n.properties.annotation_annotated','Description_Event','isVerified','is_quote_status','name','eventType'])"
   ]
  },
  {
   "cell_type": "code",
   "execution_count": 116,
   "metadata": {},
   "outputs": [],
   "source": [
    "df['annotation_postPriority'] = df['annotation_postPriority'].replace(['Unknown', 'Low', 'Medium','High','Critical'], [0,1, 2,3,4])"
   ]
  },
  {
   "cell_type": "markdown",
   "metadata": {},
   "source": [
    "We do not want to have the label \"Unknown\" for the predict variable so we remove this modality."
   ]
  },
  {
   "cell_type": "code",
   "execution_count": 117,
   "metadata": {},
   "outputs": [],
   "source": [
    "df = df[df['annotation_postPriority'] != 0]"
   ]
  },
  {
   "cell_type": "code",
   "execution_count": 128,
   "metadata": {},
   "outputs": [
    {
     "data": {
      "image/png": "[encoded data removed]",
      "text/plain": [
       "<Figure size 360x360 with 1 Axes>"
      ]
     },
     "metadata": {
      "needs_background": "light"
     },
     "output_type": "display_data"
    }
   ],
   "source": [
    "# What is the new distribution of the column 'annotation_postPriority'?\n",
    "\n",
    "df['annotation_postPriority'] = df['annotation_postPriority'].replace([0,1, 2,3,4], ['Unknown', 'Low', 'Medium','High','Critical'])\n",
    "\n",
    "freq_criticality = df[\"annotation_postPriority\"].astype(str).value_counts(normalize=True)*100\n",
    "l = []\n",
    "\n",
    "for i in range (freq_criticality.shape[0]):\n",
    "    l.append({\"criticality\":freq_criticality.index[i], \"percent\":freq_criticality[i]})\n",
    "\n",
    "df_dic = pd.DataFrame(l)\n",
    "\n",
    "g = sns.catplot(x = \"criticality\", y = \"percent\", kind= 'bar',data = df_dic, palette = 'PuBuGn_r')\n",
    "\n",
    "# We add the frequencies at the top of each bar\n",
    "for p in g.ax.patches:\n",
    "    txt = str(p.get_height().round(1)) + '%'\n",
    "    txt_x = p.get_x()\n",
    "    txt_y = p.get_height()\n",
    "    g.ax.text(txt_x,txt_y,txt)"
   ]
  },
  {
   "cell_type": "code",
   "execution_count": 118,
   "metadata": {},
   "outputs": [
    {
     "data": {
      "text/html": [
       "<div>\n",
       "<style scoped>\n",
       "    .dataframe tbody tr th:only-of-type {\n",
       "        vertical-align: middle;\n",
       "    }\n",
       "\n",
       "    .dataframe tbody tr th {\n",
       "        vertical-align: top;\n",
       "    }\n",
       "\n",
       "    .dataframe thead th {\n",
       "        text-align: right;\n",
       "    }\n",
       "</style>\n",
       "<table border=\"1\" class=\"dataframe\">\n",
       "  <thead>\n",
       "    <tr style=\"text-align: right;\">\n",
       "      <th></th>\n",
       "      <th>isTruncated</th>\n",
       "      <th>possibly_sensitive</th>\n",
       "      <th>retweet_count</th>\n",
       "      <th>annotation_num_judgements</th>\n",
       "      <th>annotation_postPriority</th>\n",
       "      <th>favorite_count</th>\n",
       "      <th>friends_count</th>\n",
       "      <th>listed_count</th>\n",
       "      <th>statuses_count</th>\n",
       "      <th>favourites_count</th>\n",
       "      <th>followers_count</th>\n",
       "      <th>occurences</th>\n",
       "      <th>Is_RT</th>\n",
       "      <th>Nb_!</th>\n",
       "      <th>Nb_UpCaseWords</th>\n",
       "      <th>has_link</th>\n",
       "      <th>nb_words</th>\n",
       "      <th>unique_words</th>\n",
       "      <th>ratio_words</th>\n",
       "      <th>len_text</th>\n",
       "    </tr>\n",
       "  </thead>\n",
       "  <tbody>\n",
       "    <tr>\n",
       "      <td>0</td>\n",
       "      <td>False</td>\n",
       "      <td>False</td>\n",
       "      <td>0</td>\n",
       "      <td>3</td>\n",
       "      <td>1</td>\n",
       "      <td>1</td>\n",
       "      <td>400</td>\n",
       "      <td>3</td>\n",
       "      <td>13211</td>\n",
       "      <td>196</td>\n",
       "      <td>537</td>\n",
       "      <td>3</td>\n",
       "      <td>False</td>\n",
       "      <td>0</td>\n",
       "      <td>0</td>\n",
       "      <td>1</td>\n",
       "      <td>6</td>\n",
       "      <td>6</td>\n",
       "      <td>1.000000</td>\n",
       "      <td>3</td>\n",
       "    </tr>\n",
       "    <tr>\n",
       "      <td>1</td>\n",
       "      <td>True</td>\n",
       "      <td>False</td>\n",
       "      <td>0</td>\n",
       "      <td>3</td>\n",
       "      <td>1</td>\n",
       "      <td>0</td>\n",
       "      <td>4755</td>\n",
       "      <td>13</td>\n",
       "      <td>154</td>\n",
       "      <td>392</td>\n",
       "      <td>3666</td>\n",
       "      <td>3</td>\n",
       "      <td>False</td>\n",
       "      <td>1</td>\n",
       "      <td>0</td>\n",
       "      <td>1</td>\n",
       "      <td>17</td>\n",
       "      <td>17</td>\n",
       "      <td>1.000000</td>\n",
       "      <td>13</td>\n",
       "    </tr>\n",
       "    <tr>\n",
       "      <td>2</td>\n",
       "      <td>False</td>\n",
       "      <td>False</td>\n",
       "      <td>0</td>\n",
       "      <td>1</td>\n",
       "      <td>1</td>\n",
       "      <td>3</td>\n",
       "      <td>208</td>\n",
       "      <td>0</td>\n",
       "      <td>6328</td>\n",
       "      <td>5139</td>\n",
       "      <td>2268</td>\n",
       "      <td>3</td>\n",
       "      <td>False</td>\n",
       "      <td>0</td>\n",
       "      <td>0</td>\n",
       "      <td>1</td>\n",
       "      <td>18</td>\n",
       "      <td>17</td>\n",
       "      <td>0.944444</td>\n",
       "      <td>14</td>\n",
       "    </tr>\n",
       "    <tr>\n",
       "      <td>3</td>\n",
       "      <td>False</td>\n",
       "      <td>False</td>\n",
       "      <td>0</td>\n",
       "      <td>3</td>\n",
       "      <td>1</td>\n",
       "      <td>1</td>\n",
       "      <td>400</td>\n",
       "      <td>3</td>\n",
       "      <td>13211</td>\n",
       "      <td>196</td>\n",
       "      <td>537</td>\n",
       "      <td>8</td>\n",
       "      <td>False</td>\n",
       "      <td>0</td>\n",
       "      <td>0</td>\n",
       "      <td>1</td>\n",
       "      <td>6</td>\n",
       "      <td>6</td>\n",
       "      <td>1.000000</td>\n",
       "      <td>3</td>\n",
       "    </tr>\n",
       "    <tr>\n",
       "      <td>5</td>\n",
       "      <td>False</td>\n",
       "      <td>False</td>\n",
       "      <td>1</td>\n",
       "      <td>1</td>\n",
       "      <td>1</td>\n",
       "      <td>0</td>\n",
       "      <td>457</td>\n",
       "      <td>3</td>\n",
       "      <td>1778</td>\n",
       "      <td>50</td>\n",
       "      <td>72</td>\n",
       "      <td>8</td>\n",
       "      <td>False</td>\n",
       "      <td>0</td>\n",
       "      <td>0</td>\n",
       "      <td>1</td>\n",
       "      <td>10</td>\n",
       "      <td>10</td>\n",
       "      <td>1.000000</td>\n",
       "      <td>9</td>\n",
       "    </tr>\n",
       "    <tr>\n",
       "      <td>...</td>\n",
       "      <td>...</td>\n",
       "      <td>...</td>\n",
       "      <td>...</td>\n",
       "      <td>...</td>\n",
       "      <td>...</td>\n",
       "      <td>...</td>\n",
       "      <td>...</td>\n",
       "      <td>...</td>\n",
       "      <td>...</td>\n",
       "      <td>...</td>\n",
       "      <td>...</td>\n",
       "      <td>...</td>\n",
       "      <td>...</td>\n",
       "      <td>...</td>\n",
       "      <td>...</td>\n",
       "      <td>...</td>\n",
       "      <td>...</td>\n",
       "      <td>...</td>\n",
       "      <td>...</td>\n",
       "      <td>...</td>\n",
       "    </tr>\n",
       "    <tr>\n",
       "      <td>55408</td>\n",
       "      <td>True</td>\n",
       "      <td>False</td>\n",
       "      <td>1</td>\n",
       "      <td>1</td>\n",
       "      <td>1</td>\n",
       "      <td>0</td>\n",
       "      <td>636</td>\n",
       "      <td>25</td>\n",
       "      <td>2407</td>\n",
       "      <td>47</td>\n",
       "      <td>764</td>\n",
       "      <td>2</td>\n",
       "      <td>False</td>\n",
       "      <td>0</td>\n",
       "      <td>0</td>\n",
       "      <td>1</td>\n",
       "      <td>17</td>\n",
       "      <td>15</td>\n",
       "      <td>0.882353</td>\n",
       "      <td>10</td>\n",
       "    </tr>\n",
       "    <tr>\n",
       "      <td>55409</td>\n",
       "      <td>False</td>\n",
       "      <td>True</td>\n",
       "      <td>1</td>\n",
       "      <td>1</td>\n",
       "      <td>1</td>\n",
       "      <td>0</td>\n",
       "      <td>616</td>\n",
       "      <td>286</td>\n",
       "      <td>18154</td>\n",
       "      <td>195</td>\n",
       "      <td>11808</td>\n",
       "      <td>2</td>\n",
       "      <td>True</td>\n",
       "      <td>0</td>\n",
       "      <td>0</td>\n",
       "      <td>0</td>\n",
       "      <td>19</td>\n",
       "      <td>17</td>\n",
       "      <td>0.894737</td>\n",
       "      <td>13</td>\n",
       "    </tr>\n",
       "    <tr>\n",
       "      <td>55410</td>\n",
       "      <td>True</td>\n",
       "      <td>False</td>\n",
       "      <td>1</td>\n",
       "      <td>1</td>\n",
       "      <td>1</td>\n",
       "      <td>0</td>\n",
       "      <td>636</td>\n",
       "      <td>25</td>\n",
       "      <td>2407</td>\n",
       "      <td>47</td>\n",
       "      <td>764</td>\n",
       "      <td>2</td>\n",
       "      <td>False</td>\n",
       "      <td>0</td>\n",
       "      <td>0</td>\n",
       "      <td>1</td>\n",
       "      <td>17</td>\n",
       "      <td>15</td>\n",
       "      <td>0.882353</td>\n",
       "      <td>10</td>\n",
       "    </tr>\n",
       "    <tr>\n",
       "      <td>55411</td>\n",
       "      <td>False</td>\n",
       "      <td>True</td>\n",
       "      <td>1</td>\n",
       "      <td>1</td>\n",
       "      <td>1</td>\n",
       "      <td>0</td>\n",
       "      <td>616</td>\n",
       "      <td>286</td>\n",
       "      <td>18154</td>\n",
       "      <td>195</td>\n",
       "      <td>11808</td>\n",
       "      <td>2</td>\n",
       "      <td>True</td>\n",
       "      <td>0</td>\n",
       "      <td>0</td>\n",
       "      <td>0</td>\n",
       "      <td>19</td>\n",
       "      <td>17</td>\n",
       "      <td>0.894737</td>\n",
       "      <td>13</td>\n",
       "    </tr>\n",
       "    <tr>\n",
       "      <td>55412</td>\n",
       "      <td>False</td>\n",
       "      <td>False</td>\n",
       "      <td>0</td>\n",
       "      <td>1</td>\n",
       "      <td>1</td>\n",
       "      <td>0</td>\n",
       "      <td>75</td>\n",
       "      <td>1</td>\n",
       "      <td>908</td>\n",
       "      <td>1662</td>\n",
       "      <td>21</td>\n",
       "      <td>1</td>\n",
       "      <td>False</td>\n",
       "      <td>0</td>\n",
       "      <td>0</td>\n",
       "      <td>1</td>\n",
       "      <td>12</td>\n",
       "      <td>11</td>\n",
       "      <td>0.916667</td>\n",
       "      <td>7</td>\n",
       "    </tr>\n",
       "  </tbody>\n",
       "</table>\n",
       "<p>38175 rows × 20 columns</p>\n",
       "</div>"
      ],
      "text/plain": [
       "       isTruncated  possibly_sensitive  retweet_count  \\\n",
       "0            False               False              0   \n",
       "1             True               False              0   \n",
       "2            False               False              0   \n",
       "3            False               False              0   \n",
       "5            False               False              1   \n",
       "...            ...                 ...            ...   \n",
       "55408         True               False              1   \n",
       "55409        False                True              1   \n",
       "55410         True               False              1   \n",
       "55411        False                True              1   \n",
       "55412        False               False              0   \n",
       "\n",
       "       annotation_num_judgements  annotation_postPriority  favorite_count  \\\n",
       "0                              3                        1               1   \n",
       "1                              3                        1               0   \n",
       "2                              1                        1               3   \n",
       "3                              3                        1               1   \n",
       "5                              1                        1               0   \n",
       "...                          ...                      ...             ...   \n",
       "55408                          1                        1               0   \n",
       "55409                          1                        1               0   \n",
       "55410                          1                        1               0   \n",
       "55411                          1                        1               0   \n",
       "55412                          1                        1               0   \n",
       "\n",
       "       friends_count  listed_count  statuses_count  favourites_count  \\\n",
       "0                400             3           13211               196   \n",
       "1               4755            13             154               392   \n",
       "2                208             0            6328              5139   \n",
       "3                400             3           13211               196   \n",
       "5                457             3            1778                50   \n",
       "...              ...           ...             ...               ...   \n",
       "55408            636            25            2407                47   \n",
       "55409            616           286           18154               195   \n",
       "55410            636            25            2407                47   \n",
       "55411            616           286           18154               195   \n",
       "55412             75             1             908              1662   \n",
       "\n",
       "       followers_count  occurences  Is_RT  Nb_!  Nb_UpCaseWords  has_link  \\\n",
       "0                  537           3  False     0               0         1   \n",
       "1                 3666           3  False     1               0         1   \n",
       "2                 2268           3  False     0               0         1   \n",
       "3                  537           8  False     0               0         1   \n",
       "5                   72           8  False     0               0         1   \n",
       "...                ...         ...    ...   ...             ...       ...   \n",
       "55408              764           2  False     0               0         1   \n",
       "55409            11808           2   True     0               0         0   \n",
       "55410              764           2  False     0               0         1   \n",
       "55411            11808           2   True     0               0         0   \n",
       "55412               21           1  False     0               0         1   \n",
       "\n",
       "       nb_words  unique_words  ratio_words  len_text  \n",
       "0             6             6     1.000000         3  \n",
       "1            17            17     1.000000        13  \n",
       "2            18            17     0.944444        14  \n",
       "3             6             6     1.000000         3  \n",
       "5            10            10     1.000000         9  \n",
       "...         ...           ...          ...       ...  \n",
       "55408        17            15     0.882353        10  \n",
       "55409        19            17     0.894737        13  \n",
       "55410        17            15     0.882353        10  \n",
       "55411        19            17     0.894737        13  \n",
       "55412        12            11     0.916667         7  \n",
       "\n",
       "[38175 rows x 20 columns]"
      ]
     },
     "execution_count": 118,
     "metadata": {},
     "output_type": "execute_result"
    }
   ],
   "source": [
    "df"
   ]
  },
  {
   "cell_type": "code",
   "execution_count": 119,
   "metadata": {},
   "outputs": [
    {
     "data": {
      "text/plain": [
       "array([1, 2, 3, 4], dtype=int64)"
      ]
     },
     "execution_count": 119,
     "metadata": {},
     "output_type": "execute_result"
    }
   ],
   "source": [
    "df['annotation_postPriority'].unique()\n",
    "#1 for Low, 2 for Medium, 3 for High and 4 for Criticality."
   ]
  },
  {
   "cell_type": "code",
   "execution_count": 120,
   "metadata": {},
   "outputs": [],
   "source": [
    "# Create train and test set\n",
    "train, test = train_test_split(df, test_size=0.3, random_state=42)"
   ]
  },
  {
   "cell_type": "code",
   "execution_count": 121,
   "metadata": {},
   "outputs": [],
   "source": [
    "# Split the datasets\n",
    "X_train = train.drop(columns=['annotation_postPriority'])\n",
    "Y_train = train['annotation_postPriority']\n",
    "X_test = test.drop(columns=['annotation_postPriority'])\n",
    "Y_test = test['annotation_postPriority']\n"
   ]
  },
  {
   "cell_type": "code",
   "execution_count": 122,
   "metadata": {},
   "outputs": [
    {
     "name": "stdout",
     "output_type": "stream",
     "text": [
      "It remains 19 features.\n"
     ]
    }
   ],
   "source": [
    "print('It remains', np.shape(X_train)[1], 'features.')"
   ]
  },
  {
   "cell_type": "markdown",
   "metadata": {},
   "source": [
    "## Logistic regression"
   ]
  },
  {
   "cell_type": "code",
   "execution_count": 123,
   "metadata": {},
   "outputs": [
    {
     "name": "stdout",
     "output_type": "stream",
     "text": [
      "The F1-score is equal to : 0.6803457609359993\n"
     ]
    },
    {
     "name": "stderr",
     "output_type": "stream",
     "text": [
      "C:\\Users\\grego\\Anaconda3\\lib\\site-packages\\sklearn\\linear_model\\_logistic.py:764: ConvergenceWarning: lbfgs failed to converge (status=1):\n",
      "STOP: TOTAL NO. of ITERATIONS REACHED LIMIT.\n",
      "\n",
      "Increase the number of iterations (max_iter) or scale the data as shown in:\n",
      "    https://scikit-learn.org/stable/modules/preprocessing.html\n",
      "Please also refer to the documentation for alternative solver options:\n",
      "    https://scikit-learn.org/stable/modules/linear_model.html#logistic-regression\n",
      "  extra_warning_msg=_LOGISTIC_SOLVER_CONVERGENCE_MSG)\n"
     ]
    }
   ],
   "source": [
    "# Train a logistic regression model\n",
    "model = LogisticRegression()\n",
    "model.fit(X_train, Y_train)\n",
    "\n",
    "#Make predictions on the test set\n",
    "y_pred = model.predict(X_test)\n",
    "\n",
    "#Calculate the F1-score\n",
    "f1 = f1_score(Y_test, y_pred,average='micro')\n",
    "\n",
    "print(\"The F1-score is equal to :\", f1)\n"
   ]
  },
  {
   "cell_type": "markdown",
   "metadata": {},
   "source": [
    "## Naive Bayes"
   ]
  },
  {
   "cell_type": "code",
   "execution_count": 124,
   "metadata": {},
   "outputs": [
    {
     "name": "stdout",
     "output_type": "stream",
     "text": [
      "The F1-score is equal to: 0.20894088885008297\n"
     ]
    }
   ],
   "source": [
    "from sklearn.naive_bayes import GaussianNB\n",
    "from sklearn.metrics import f1_score\n",
    "\n",
    "# Train a Gaussian Naive Bayes classifier\n",
    "clf = GaussianNB()\n",
    "clf.fit(X_train, Y_train)\n",
    "\n",
    "# Predict the classes of the test set\n",
    "y_pred = clf.predict(X_test)\n",
    "\n",
    "# Compute the F1-score for the test set\n",
    "f1 = f1_score(Y_test, y_pred, average='micro')\n",
    "\n",
    "print(\"The F1-score is equal to:\", f1)"
   ]
  },
  {
   "cell_type": "markdown",
   "metadata": {},
   "source": [
    "## Random Forest Classifier"
   ]
  },
  {
   "cell_type": "code",
   "execution_count": 125,
   "metadata": {},
   "outputs": [
    {
     "name": "stdout",
     "output_type": "stream",
     "text": [
      "The F1-score is equal to: 0.8678948747053175\n"
     ]
    }
   ],
   "source": [
    "# Train a random forest classifier\n",
    "model = RandomForestClassifier()\n",
    "model.fit(X_train, Y_train)\n",
    "\n",
    "# Make predictions on the test set\n",
    "y_pred = model.predict(X_test)\n",
    "\n",
    "# Calculate the F1-score with micro average\n",
    "f1 = f1_score(Y_test, y_pred,average='micro')\n",
    "\n",
    "print(\"The F1-score is equal to:\", f1)"
   ]
  },
  {
   "cell_type": "markdown",
   "metadata": {},
   "source": [
    "Because we have several modalities in the Y variable (Low, Medium, High, Critical), it is necessary to put average on f1-score."
   ]
  },
  {
   "cell_type": "markdown",
   "metadata": {},
   "source": [
    "The average \"micro\" will calculate the metric globally by counting the total true positives, false negatives, and false positives across all classes."
   ]
  },
  {
   "cell_type": "markdown",
   "metadata": {},
   "source": [
    "## Decision Tree"
   ]
  },
  {
   "cell_type": "code",
   "execution_count": 126,
   "metadata": {},
   "outputs": [
    {
     "name": "stdout",
     "output_type": "stream",
     "text": [
      "The F1-score is equal to: 0.7987426875054571\n"
     ]
    }
   ],
   "source": [
    "# Train a decision tree model\n",
    "model = DecisionTreeClassifier()\n",
    "model.fit(X_train, Y_train)\n",
    "\n",
    "# Make predictions on the test set\n",
    "y_pred = model.predict(X_test)\n",
    "\n",
    "# Calculate the F1-score\n",
    "f1 = f1_score(Y_test, y_pred,average='micro')\n",
    "\n",
    "print(\"The F1-score is equal to:\", f1)"
   ]
  },
  {
   "cell_type": "markdown",
   "metadata": {},
   "source": [
    "### Model Improvement"
   ]
  },
  {
   "cell_type": "code",
   "execution_count": 129,
   "metadata": {},
   "outputs": [],
   "source": [
    "# New data with the columns kept and without th columns we have previously created\n",
    "df = df_final_copy.drop(columns=['Tweet_ID','created_at','User_ID', 'Event_ID','Hashtag_ID','topic','text',\n",
    "                                 'Description_Hashtag','n.properties.annotation_annotated','Description_Event','isVerified',\n",
    "                                 'is_quote_status','name','eventType', 'Is_RT', 'Nb_!', 'Nb_UpCaseWords', 'has_link', 'nb_words',\n",
    "                                 'unique_words', 'ratio_words', 'len_text'])"
   ]
  },
  {
   "cell_type": "code",
   "execution_count": 130,
   "metadata": {},
   "outputs": [],
   "source": [
    "df['annotation_postPriority'] = df['annotation_postPriority'].replace(['Unknown', 'Low', 'Medium','High','Critical'], [0,1, 2,3,4])"
   ]
  },
  {
   "cell_type": "code",
   "execution_count": 131,
   "metadata": {},
   "outputs": [],
   "source": [
    "df = df[df['annotation_postPriority'] != 0]"
   ]
  },
  {
   "cell_type": "code",
   "execution_count": 132,
   "metadata": {},
   "outputs": [],
   "source": [
    "# Create train and test set\n",
    "train, test = train_test_split(df, test_size=0.3, random_state=42)"
   ]
  },
  {
   "cell_type": "code",
   "execution_count": 133,
   "metadata": {},
   "outputs": [],
   "source": [
    "# Split the datasets\n",
    "X_train = train.drop(columns=['annotation_postPriority'])\n",
    "Y_train = train['annotation_postPriority']\n",
    "X_test = test.drop(columns=['annotation_postPriority'])\n",
    "Y_test = test['annotation_postPriority']\n"
   ]
  },
  {
   "cell_type": "code",
   "execution_count": 134,
   "metadata": {},
   "outputs": [
    {
     "name": "stdout",
     "output_type": "stream",
     "text": [
      "The F1-score is equal to : 0.6796472539945866\n"
     ]
    },
    {
     "name": "stderr",
     "output_type": "stream",
     "text": [
      "C:\\Users\\grego\\Anaconda3\\lib\\site-packages\\sklearn\\linear_model\\_logistic.py:764: ConvergenceWarning: lbfgs failed to converge (status=1):\n",
      "STOP: TOTAL NO. of ITERATIONS REACHED LIMIT.\n",
      "\n",
      "Increase the number of iterations (max_iter) or scale the data as shown in:\n",
      "    https://scikit-learn.org/stable/modules/preprocessing.html\n",
      "Please also refer to the documentation for alternative solver options:\n",
      "    https://scikit-learn.org/stable/modules/linear_model.html#logistic-regression\n",
      "  extra_warning_msg=_LOGISTIC_SOLVER_CONVERGENCE_MSG)\n"
     ]
    }
   ],
   "source": [
    "# Train a logistic regression model\n",
    "model = LogisticRegression()\n",
    "model.fit(X_train, Y_train)\n",
    "\n",
    "#Make predictions on the test set\n",
    "y_pred = model.predict(X_test)\n",
    "\n",
    "#Calculate the F1-score\n",
    "f1 = f1_score(Y_test, y_pred,average='micro')\n",
    "\n",
    "print(\"The F1-score is equal to :\", f1)\n"
   ]
  },
  {
   "cell_type": "code",
   "execution_count": 135,
   "metadata": {},
   "outputs": [
    {
     "name": "stdout",
     "output_type": "stream",
     "text": [
      "The F1-score is equal to: 0.18004016414913124\n"
     ]
    }
   ],
   "source": [
    "from sklearn.naive_bayes import GaussianNB\n",
    "from sklearn.metrics import f1_score\n",
    "\n",
    "# Train a Gaussian Naive Bayes classifier\n",
    "clf = GaussianNB()\n",
    "clf.fit(X_train, Y_train)\n",
    "\n",
    "# Predict the classes of the test set\n",
    "y_pred = clf.predict(X_test)\n",
    "\n",
    "# Compute the F1-score for the test set\n",
    "f1 = f1_score(Y_test, y_pred, average='micro')\n",
    "\n",
    "print(\"The F1-score is equal to:\", f1)"
   ]
  },
  {
   "cell_type": "code",
   "execution_count": 136,
   "metadata": {},
   "outputs": [
    {
     "name": "stdout",
     "output_type": "stream",
     "text": [
      "The F1-score is equal to: 0.8325329607962979\n"
     ]
    }
   ],
   "source": [
    "# Train a random forest classifier\n",
    "model = RandomForestClassifier()\n",
    "model.fit(X_train, Y_train)\n",
    "\n",
    "# Make predictions on the test set\n",
    "y_pred = model.predict(X_test)\n",
    "\n",
    "# Calculate the F1-score with micro average\n",
    "f1 = f1_score(Y_test, y_pred,average='micro')\n",
    "\n",
    "print(\"The F1-score is equal to:\", f1)"
   ]
  },
  {
   "cell_type": "code",
   "execution_count": 137,
   "metadata": {},
   "outputs": [
    {
     "name": "stdout",
     "output_type": "stream",
     "text": [
      "The F1-score is equal to: 0.7766524054832795\n"
     ]
    }
   ],
   "source": [
    "# Train a decision tree model\n",
    "model = DecisionTreeClassifier()\n",
    "model.fit(X_train, Y_train)\n",
    "\n",
    "# Make predictions on the test set\n",
    "y_pred = model.predict(X_test)\n",
    "\n",
    "# Calculate the F1-score\n",
    "f1 = f1_score(Y_test, y_pred,average='micro')\n",
    "\n",
    "print(\"The F1-score is equal to:\", f1)"
   ]
  }
 ],
 "metadata": {
  "kernelspec": {
   "display_name": "Python 3 (ipykernel)",
   "language": "python",
   "name": "python3"
  },
  "language_info": {
   "codemirror_mode": {
    "name": "ipython",
    "version": 3
   },
   "file_extension": ".py",
   "mimetype": "text/x-python",
   "name": "python",
   "nbconvert_exporter": "python",
   "pygments_lexer": "ipython3",
   "version": "3.9.12"
  }
 },
 "nbformat": 4,
 "nbformat_minor": 2
}
